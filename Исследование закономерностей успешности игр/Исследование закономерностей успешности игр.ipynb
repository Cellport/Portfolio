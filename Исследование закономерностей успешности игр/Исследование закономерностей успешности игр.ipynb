{
 "cells": [
  {
   "cell_type": "markdown",
   "metadata": {},
   "source": [
    "# Описание проекта"
   ]
  },
  {
   "cell_type": "markdown",
   "metadata": {},
   "source": [
    "Интернет-магазин «Стримчик» продаёт компьютерные игры по всему миру. Из открытых источников доступны исторические данные о продажах игр, оценки пользователей и экспертов, жанры и платформы (например, Xbox или PlayStation).\n",
    "\n",
    "Имеются данные до 2016 года в наборе данных попадается аббревиатура ESRB (Entertainment Software Rating Board) — это ассоциация, определяющая возрастной рейтинг компьютерных игр. ESRB оценивает игровой контент и присваивает ему подходящую возрастную категорию, например, «Для взрослых», «Для детей младшего возраста» или «Для подростков»."
   ]
  },
  {
   "cell_type": "markdown",
   "metadata": {},
   "source": [
    "**Цель исследования**"
   ]
  },
  {
   "cell_type": "markdown",
   "metadata": {},
   "source": [
    "Нужно выявить определяющие успешность игры закономерности. Это позволит сделать ставку на потенциально популярный продукт и спланировать рекламные кампании на 2017 год."
   ]
  },
  {
   "cell_type": "markdown",
   "metadata": {},
   "source": [
    "**Гипотезы исследования**"
   ]
  },
  {
   "cell_type": "markdown",
   "metadata": {},
   "source": [
    "1. Средние пользовательские рейтинги платформ Xbox One и PC одинаковые;\n",
    "2. Средние пользовательские рейтинги жанров Action (англ. «действие», экшен-игры) и Sports (англ. «спортивные соревнования») разные."
   ]
  },
  {
   "cell_type": "code",
   "execution_count": 1,
   "metadata": {},
   "outputs": [],
   "source": [
    "import pandas as pd\n",
    "import numpy as np\n",
    "import matplotlib.pyplot as plt\n",
    "\n",
    "from scipy import stats as st\n",
    "import math\n",
    "import seaborn as sns"
   ]
  },
  {
   "cell_type": "markdown",
   "metadata": {},
   "source": [
    "### Откроем файл с данными и изучаем общую информацию"
   ]
  },
  {
   "cell_type": "code",
   "execution_count": 2,
   "metadata": {},
   "outputs": [],
   "source": [
    "try:\n",
    "    data = pd.read_csv ('/datasets/games.csv')\n",
    "except:\n",
    "    data = pd.read_csv ('https://raw.githubusercontent.com/Cellport/Projects/main/%D0%98%D1%81%D1%81%D0%BB%D0%B5%D0%B4%D0%BE%D0%B2%D0%B0%D0%BD%D0%B8%D0%B5%20%D0%B7%D0%B0%D0%BA%D0%BE%D0%BD%D0%BE%D0%BC%D0%B5%D1%80%D0%BD%D0%BE%D1%81%D1%82%D0%B5%D0%B9%20%D1%83%D1%81%D0%BF%D0%B5%D1%88%D0%BD%D0%BE%D1%81%D1%82%D0%B8%20%D0%B8%D0%B3%D1%80/games.csv')"
   ]
  },
  {
   "cell_type": "code",
   "execution_count": 3,
   "metadata": {},
   "outputs": [
    {
     "data": {
      "text/html": [
       "<div>\n",
       "<style scoped>\n",
       "    .dataframe tbody tr th:only-of-type {\n",
       "        vertical-align: middle;\n",
       "    }\n",
       "\n",
       "    .dataframe tbody tr th {\n",
       "        vertical-align: top;\n",
       "    }\n",
       "\n",
       "    .dataframe thead th {\n",
       "        text-align: right;\n",
       "    }\n",
       "</style>\n",
       "<table border=\"1\" class=\"dataframe\">\n",
       "  <thead>\n",
       "    <tr style=\"text-align: right;\">\n",
       "      <th></th>\n",
       "      <th>Name</th>\n",
       "      <th>Platform</th>\n",
       "      <th>Year_of_Release</th>\n",
       "      <th>Genre</th>\n",
       "      <th>NA_sales</th>\n",
       "      <th>EU_sales</th>\n",
       "      <th>JP_sales</th>\n",
       "      <th>Other_sales</th>\n",
       "      <th>Critic_Score</th>\n",
       "      <th>User_Score</th>\n",
       "      <th>Rating</th>\n",
       "    </tr>\n",
       "  </thead>\n",
       "  <tbody>\n",
       "    <tr>\n",
       "      <th>0</th>\n",
       "      <td>Wii Sports</td>\n",
       "      <td>Wii</td>\n",
       "      <td>2006.0</td>\n",
       "      <td>Sports</td>\n",
       "      <td>41.36</td>\n",
       "      <td>28.96</td>\n",
       "      <td>3.77</td>\n",
       "      <td>8.45</td>\n",
       "      <td>76.0</td>\n",
       "      <td>8</td>\n",
       "      <td>E</td>\n",
       "    </tr>\n",
       "    <tr>\n",
       "      <th>1</th>\n",
       "      <td>Super Mario Bros.</td>\n",
       "      <td>NES</td>\n",
       "      <td>1985.0</td>\n",
       "      <td>Platform</td>\n",
       "      <td>29.08</td>\n",
       "      <td>3.58</td>\n",
       "      <td>6.81</td>\n",
       "      <td>0.77</td>\n",
       "      <td>NaN</td>\n",
       "      <td>NaN</td>\n",
       "      <td>NaN</td>\n",
       "    </tr>\n",
       "    <tr>\n",
       "      <th>2</th>\n",
       "      <td>Mario Kart Wii</td>\n",
       "      <td>Wii</td>\n",
       "      <td>2008.0</td>\n",
       "      <td>Racing</td>\n",
       "      <td>15.68</td>\n",
       "      <td>12.76</td>\n",
       "      <td>3.79</td>\n",
       "      <td>3.29</td>\n",
       "      <td>82.0</td>\n",
       "      <td>8.3</td>\n",
       "      <td>E</td>\n",
       "    </tr>\n",
       "    <tr>\n",
       "      <th>3</th>\n",
       "      <td>Wii Sports Resort</td>\n",
       "      <td>Wii</td>\n",
       "      <td>2009.0</td>\n",
       "      <td>Sports</td>\n",
       "      <td>15.61</td>\n",
       "      <td>10.93</td>\n",
       "      <td>3.28</td>\n",
       "      <td>2.95</td>\n",
       "      <td>80.0</td>\n",
       "      <td>8</td>\n",
       "      <td>E</td>\n",
       "    </tr>\n",
       "    <tr>\n",
       "      <th>4</th>\n",
       "      <td>Pokemon Red/Pokemon Blue</td>\n",
       "      <td>GB</td>\n",
       "      <td>1996.0</td>\n",
       "      <td>Role-Playing</td>\n",
       "      <td>11.27</td>\n",
       "      <td>8.89</td>\n",
       "      <td>10.22</td>\n",
       "      <td>1.00</td>\n",
       "      <td>NaN</td>\n",
       "      <td>NaN</td>\n",
       "      <td>NaN</td>\n",
       "    </tr>\n",
       "  </tbody>\n",
       "</table>\n",
       "</div>"
      ],
      "text/plain": [
       "                       Name Platform  Year_of_Release         Genre  NA_sales  \\\n",
       "0                Wii Sports      Wii           2006.0        Sports     41.36   \n",
       "1         Super Mario Bros.      NES           1985.0      Platform     29.08   \n",
       "2            Mario Kart Wii      Wii           2008.0        Racing     15.68   \n",
       "3         Wii Sports Resort      Wii           2009.0        Sports     15.61   \n",
       "4  Pokemon Red/Pokemon Blue       GB           1996.0  Role-Playing     11.27   \n",
       "\n",
       "   EU_sales  JP_sales  Other_sales  Critic_Score User_Score Rating  \n",
       "0     28.96      3.77         8.45          76.0          8      E  \n",
       "1      3.58      6.81         0.77           NaN        NaN    NaN  \n",
       "2     12.76      3.79         3.29          82.0        8.3      E  \n",
       "3     10.93      3.28         2.95          80.0          8      E  \n",
       "4      8.89     10.22         1.00           NaN        NaN    NaN  "
      ]
     },
     "execution_count": 3,
     "metadata": {},
     "output_type": "execute_result"
    }
   ],
   "source": [
    "data.head(5)"
   ]
  },
  {
   "cell_type": "code",
   "execution_count": 4,
   "metadata": {},
   "outputs": [
    {
     "name": "stdout",
     "output_type": "stream",
     "text": [
      "<class 'pandas.core.frame.DataFrame'>\n",
      "RangeIndex: 16715 entries, 0 to 16714\n",
      "Data columns (total 11 columns):\n",
      " #   Column           Non-Null Count  Dtype  \n",
      "---  ------           --------------  -----  \n",
      " 0   Name             16713 non-null  object \n",
      " 1   Platform         16715 non-null  object \n",
      " 2   Year_of_Release  16446 non-null  float64\n",
      " 3   Genre            16713 non-null  object \n",
      " 4   NA_sales         16715 non-null  float64\n",
      " 5   EU_sales         16715 non-null  float64\n",
      " 6   JP_sales         16715 non-null  float64\n",
      " 7   Other_sales      16715 non-null  float64\n",
      " 8   Critic_Score     8137 non-null   float64\n",
      " 9   User_Score       10014 non-null  object \n",
      " 10  Rating           9949 non-null   object \n",
      "dtypes: float64(6), object(5)\n",
      "memory usage: 1.4+ MB\n"
     ]
    }
   ],
   "source": [
    "data.info()"
   ]
  },
  {
   "cell_type": "markdown",
   "metadata": {},
   "source": [
    "Проверили датафрейм на наличие пропусков и типы данных в столбцах, а также просмотрели как нужно изменить названия столбцов. Это нам понадобится для предобработки данных и корректного анализа. Вывели несколько строк датафрейма для проверки того что данные загружены верно и увидели также, что столбцы нужно привести к строчному виду и *snakecase*. Некоторые столбцы **year_of_release** и **user_score** требуют изменения типов данных, пропущенные значения в других столбцах также заполним на этапе предобработки."
   ]
  },
  {
   "cell_type": "markdown",
   "metadata": {},
   "source": [
    "### Подготовим данные для исследования"
   ]
  },
  {
   "cell_type": "markdown",
   "metadata": {},
   "source": [
    "#### Заменяем названия столбцов (приводим к нижнему регистру)"
   ]
  },
  {
   "cell_type": "code",
   "execution_count": 5,
   "metadata": {},
   "outputs": [],
   "source": [
    "data.columns = data.columns.str.lower()"
   ]
  },
  {
   "cell_type": "markdown",
   "metadata": {},
   "source": [
    "#### Приводим данные к нужному типу"
   ]
  },
  {
   "cell_type": "markdown",
   "metadata": {},
   "source": [
    "Меняем типы данных в столбцах:\n",
    "\n",
    "- **year_of_release** на int, так как год - целое число- **user_score** на float64, так как он содержит числовые данные"
   ]
  },
  {
   "cell_type": "code",
   "execution_count": 6,
   "metadata": {},
   "outputs": [],
   "source": [
    "data['year_of_release'] = data['year_of_release'].astype('Int64')\n"
   ]
  },
  {
   "cell_type": "code",
   "execution_count": 7,
   "metadata": {},
   "outputs": [
    {
     "name": "stdout",
     "output_type": "stream",
     "text": [
      "<class 'pandas.core.frame.DataFrame'>\n",
      "RangeIndex: 16715 entries, 0 to 16714\n",
      "Data columns (total 11 columns):\n",
      " #   Column           Non-Null Count  Dtype  \n",
      "---  ------           --------------  -----  \n",
      " 0   name             16713 non-null  object \n",
      " 1   platform         16715 non-null  object \n",
      " 2   year_of_release  16446 non-null  Int64  \n",
      " 3   genre            16713 non-null  object \n",
      " 4   na_sales         16715 non-null  float64\n",
      " 5   eu_sales         16715 non-null  float64\n",
      " 6   jp_sales         16715 non-null  float64\n",
      " 7   other_sales      16715 non-null  float64\n",
      " 8   critic_score     8137 non-null   float64\n",
      " 9   user_score       10014 non-null  object \n",
      " 10  rating           9949 non-null   object \n",
      "dtypes: Int64(1), float64(5), object(5)\n",
      "memory usage: 1.4+ MB\n"
     ]
    }
   ],
   "source": [
    "data.info()"
   ]
  },
  {
   "cell_type": "markdown",
   "metadata": {},
   "source": [
    "#### Проведём обработку пропусков"
   ]
  },
  {
   "cell_type": "markdown",
   "metadata": {},
   "source": [
    "Разберёмся подробнее в каких столбцах датафрейма есть пропуски и в каком количестве."
   ]
  },
  {
   "cell_type": "code",
   "execution_count": 8,
   "metadata": {
    "scrolled": false
   },
   "outputs": [
    {
     "data": {
      "text/html": [
       "<style type=\"text/css\">\n",
       "#T_088a8_row0_col0, #T_088a8_row1_col0, #T_088a8_row3_col0, #T_088a8_row4_col0, #T_088a8_row5_col0, #T_088a8_row6_col0, #T_088a8_row7_col0 {\n",
       "  background-color: #3b4cc0;\n",
       "  color: #f1f1f1;\n",
       "}\n",
       "#T_088a8_row2_col0 {\n",
       "  background-color: #465ecf;\n",
       "  color: #f1f1f1;\n",
       "}\n",
       "#T_088a8_row8_col0 {\n",
       "  background-color: #b40426;\n",
       "  color: #f1f1f1;\n",
       "}\n",
       "#T_088a8_row9_col0, #T_088a8_row10_col0 {\n",
       "  background-color: #f08b6e;\n",
       "  color: #f1f1f1;\n",
       "}\n",
       "</style>\n",
       "<table id=\"T_088a8\">\n",
       "  <thead>\n",
       "    <tr>\n",
       "      <th class=\"blank level0\" >&nbsp;</th>\n",
       "      <th id=\"T_088a8_level0_col0\" class=\"col_heading level0 col0\" >0</th>\n",
       "    </tr>\n",
       "  </thead>\n",
       "  <tbody>\n",
       "    <tr>\n",
       "      <th id=\"T_088a8_level0_row0\" class=\"row_heading level0 row0\" >name</th>\n",
       "      <td id=\"T_088a8_row0_col0\" class=\"data row0 col0\" >0.000000</td>\n",
       "    </tr>\n",
       "    <tr>\n",
       "      <th id=\"T_088a8_level0_row1\" class=\"row_heading level0 row1\" >platform</th>\n",
       "      <td id=\"T_088a8_row1_col0\" class=\"data row1 col0\" >0.000000</td>\n",
       "    </tr>\n",
       "    <tr>\n",
       "      <th id=\"T_088a8_level0_row2\" class=\"row_heading level0 row2\" >year_of_release</th>\n",
       "      <td id=\"T_088a8_row2_col0\" class=\"data row2 col0\" >2.000000</td>\n",
       "    </tr>\n",
       "    <tr>\n",
       "      <th id=\"T_088a8_level0_row3\" class=\"row_heading level0 row3\" >genre</th>\n",
       "      <td id=\"T_088a8_row3_col0\" class=\"data row3 col0\" >0.000000</td>\n",
       "    </tr>\n",
       "    <tr>\n",
       "      <th id=\"T_088a8_level0_row4\" class=\"row_heading level0 row4\" >na_sales</th>\n",
       "      <td id=\"T_088a8_row4_col0\" class=\"data row4 col0\" >0.000000</td>\n",
       "    </tr>\n",
       "    <tr>\n",
       "      <th id=\"T_088a8_level0_row5\" class=\"row_heading level0 row5\" >eu_sales</th>\n",
       "      <td id=\"T_088a8_row5_col0\" class=\"data row5 col0\" >0.000000</td>\n",
       "    </tr>\n",
       "    <tr>\n",
       "      <th id=\"T_088a8_level0_row6\" class=\"row_heading level0 row6\" >jp_sales</th>\n",
       "      <td id=\"T_088a8_row6_col0\" class=\"data row6 col0\" >0.000000</td>\n",
       "    </tr>\n",
       "    <tr>\n",
       "      <th id=\"T_088a8_level0_row7\" class=\"row_heading level0 row7\" >other_sales</th>\n",
       "      <td id=\"T_088a8_row7_col0\" class=\"data row7 col0\" >0.000000</td>\n",
       "    </tr>\n",
       "    <tr>\n",
       "      <th id=\"T_088a8_level0_row8\" class=\"row_heading level0 row8\" >critic_score</th>\n",
       "      <td id=\"T_088a8_row8_col0\" class=\"data row8 col0\" >51.000000</td>\n",
       "    </tr>\n",
       "    <tr>\n",
       "      <th id=\"T_088a8_level0_row9\" class=\"row_heading level0 row9\" >user_score</th>\n",
       "      <td id=\"T_088a8_row9_col0\" class=\"data row9 col0\" >40.000000</td>\n",
       "    </tr>\n",
       "    <tr>\n",
       "      <th id=\"T_088a8_level0_row10\" class=\"row_heading level0 row10\" >rating</th>\n",
       "      <td id=\"T_088a8_row10_col0\" class=\"data row10 col0\" >40.000000</td>\n",
       "    </tr>\n",
       "  </tbody>\n",
       "</table>\n"
      ],
      "text/plain": [
       "<pandas.io.formats.style.Styler at 0x25fca846dd0>"
      ]
     },
     "execution_count": 8,
     "metadata": {},
     "output_type": "execute_result"
    }
   ],
   "source": [
    "pd.DataFrame(round(data.isna().mean()*100,)).style.background_gradient('coolwarm')"
   ]
  },
  {
   "cell_type": "markdown",
   "metadata": {},
   "source": [
    "Пропуски в данных могут быть связаны с необязательностью проставления пользовательской оценки, оценки критиков и рейтинга. Можно без колебаний удалить строки с пропусками в столбце **year_of_release**, так как их всего 2%, такое число вряд-ли повлияет на корректность исследования. В столбце **name** количество пропусков несущественно, можно удалить. Более важны и существенны пропуски в столбцах **critic_score**, **user_score** и **rating**, в них содержатся числовые данные, которые важны для исследования. Отсутствующие значения в столбце **rating** заполним заглушкой, означающей отсутствие рейтинга. В столбцах **critic_score**, **user_score** пропуски заменим на число *-1*, так мы выделим отдельную категорию отсутствующих оценок. Аббревиатуру *tbd*, что означает 'Подлежит уточнению', заменим её на *-2*. Одинаковое количество пропусков в **user_score** и **rating** можно объяснить тем, что рейтинг выставляется на основе оценки пользователей."
   ]
  },
  {
   "cell_type": "code",
   "execution_count": 9,
   "metadata": {},
   "outputs": [],
   "source": [
    "data.dropna(subset=['year_of_release'], inplace=True)"
   ]
  },
  {
   "cell_type": "code",
   "execution_count": 10,
   "metadata": {},
   "outputs": [],
   "source": [
    "data.dropna(subset=['name'], inplace=True)"
   ]
  },
  {
   "cell_type": "markdown",
   "metadata": {},
   "source": [
    "Более существенны пропуски в столбцах **critic_score**, **user_score** и  **rating**, так как их там от 40% до 51%. Отсутствующие значения в столбце **rating** заполним заглушкой, означающей отсутствие рейтинга. В столбцах **critic_score**, user_score пропуски заменим на число -1, так мы выделим отдельную категорию отсутствующих оценок. Аббревиатуру *tbd*, что означает 'Подлежит уточнению', заменим её на -2."
   ]
  },
  {
   "cell_type": "code",
   "execution_count": 11,
   "metadata": {},
   "outputs": [
    {
     "data": {
      "text/plain": [
       "array([76., nan, 82., 80., 89., 58., 87., 91., 61., 97., 95., 77., 88.,\n",
       "       83., 94., 93., 85., 86., 98., 96., 90., 84., 73., 74., 78., 92.,\n",
       "       71., 72., 68., 62., 49., 67., 81., 66., 56., 79., 70., 59., 64.,\n",
       "       75., 60., 63., 69., 50., 25., 42., 44., 55., 48., 57., 29., 47.,\n",
       "       65., 54., 20., 53., 37., 38., 33., 52., 30., 32., 43., 45., 51.,\n",
       "       40., 46., 39., 34., 41., 36., 31., 27., 35., 26., 19., 28., 23.,\n",
       "       24., 21., 17., 13.])"
      ]
     },
     "execution_count": 11,
     "metadata": {},
     "output_type": "execute_result"
    }
   ],
   "source": [
    "data['critic_score'].unique()"
   ]
  },
  {
   "cell_type": "code",
   "execution_count": 12,
   "metadata": {},
   "outputs": [
    {
     "data": {
      "text/plain": [
       "array(['8', nan, '8.3', '8.5', '6.6', '8.4', '8.6', '7.7', '6.3', '7.4',\n",
       "       '8.2', '9', '7.9', '8.1', '8.7', '7.1', '3.4', '5.3', '4.8', '3.2',\n",
       "       '8.9', '6.4', '7.8', '7.5', '2.6', '7.2', '9.2', '7', '7.3', '4.3',\n",
       "       '7.6', '5.7', '5', '9.1', '6.5', 'tbd', '8.8', '6.9', '9.4', '6.8',\n",
       "       '6.1', '6.7', '5.4', '4', '4.9', '4.5', '9.3', '6.2', '4.2', '6',\n",
       "       '3.7', '4.1', '5.8', '5.6', '5.5', '4.4', '4.6', '5.9', '3.9',\n",
       "       '3.1', '2.9', '5.2', '3.3', '4.7', '5.1', '3.5', '2.5', '1.9', '3',\n",
       "       '2.7', '2.2', '2', '9.5', '2.1', '3.6', '2.8', '1.8', '3.8', '0',\n",
       "       '1.6', '9.6', '2.4', '1.7', '1.1', '0.3', '1.5', '0.7', '1.2',\n",
       "       '2.3', '0.5', '1.3', '0.2', '0.6', '1.4', '0.9', '1', '9.7'],\n",
       "      dtype=object)"
      ]
     },
     "execution_count": 12,
     "metadata": {},
     "output_type": "execute_result"
    }
   ],
   "source": [
    "data['user_score'].unique()"
   ]
  },
  {
   "cell_type": "code",
   "execution_count": 13,
   "metadata": {},
   "outputs": [
    {
     "data": {
      "text/plain": [
       "array(['E', nan, 'M', 'T', 'E10+', 'K-A', 'AO', 'EC', 'RP'], dtype=object)"
      ]
     },
     "execution_count": 13,
     "metadata": {},
     "output_type": "execute_result"
    }
   ],
   "source": [
    "data['rating'].unique()"
   ]
  },
  {
   "cell_type": "code",
   "execution_count": 14,
   "metadata": {},
   "outputs": [
    {
     "data": {
      "text/plain": [
       "array(['E', 'Отсутствует', 'M', 'T', 'E10+', 'K-A', 'AO', 'EC', 'RP'],\n",
       "      dtype=object)"
      ]
     },
     "execution_count": 14,
     "metadata": {},
     "output_type": "execute_result"
    }
   ],
   "source": [
    "data.loc[data['rating'].isna(), 'rating'] = 'Отсутствует'\n",
    "data['rating'].unique()"
   ]
  },
  {
   "cell_type": "code",
   "execution_count": 15,
   "metadata": {},
   "outputs": [],
   "source": [
    "data.loc[data['user_score'].isna(), 'user_score'] = -1"
   ]
  },
  {
   "cell_type": "code",
   "execution_count": 16,
   "metadata": {},
   "outputs": [],
   "source": [
    "data.loc[data['user_score'] == 'tbd', 'user_score'] = -2"
   ]
  },
  {
   "cell_type": "code",
   "execution_count": 17,
   "metadata": {
    "scrolled": false
   },
   "outputs": [
    {
     "data": {
      "text/plain": [
       "array(['8', -1, '8.3', '8.5', '6.6', '8.4', '8.6', '7.7', '6.3', '7.4',\n",
       "       '8.2', '9', '7.9', '8.1', '8.7', '7.1', '3.4', '5.3', '4.8', '3.2',\n",
       "       '8.9', '6.4', '7.8', '7.5', '2.6', '7.2', '9.2', '7', '7.3', '4.3',\n",
       "       '7.6', '5.7', '5', '9.1', '6.5', -2, '8.8', '6.9', '9.4', '6.8',\n",
       "       '6.1', '6.7', '5.4', '4', '4.9', '4.5', '9.3', '6.2', '4.2', '6',\n",
       "       '3.7', '4.1', '5.8', '5.6', '5.5', '4.4', '4.6', '5.9', '3.9',\n",
       "       '3.1', '2.9', '5.2', '3.3', '4.7', '5.1', '3.5', '2.5', '1.9', '3',\n",
       "       '2.7', '2.2', '2', '9.5', '2.1', '3.6', '2.8', '1.8', '3.8', '0',\n",
       "       '1.6', '9.6', '2.4', '1.7', '1.1', '0.3', '1.5', '0.7', '1.2',\n",
       "       '2.3', '0.5', '1.3', '0.2', '0.6', '1.4', '0.9', '1', '9.7'],\n",
       "      dtype=object)"
      ]
     },
     "execution_count": 17,
     "metadata": {},
     "output_type": "execute_result"
    }
   ],
   "source": [
    "data['user_score'].unique()"
   ]
  },
  {
   "cell_type": "code",
   "execution_count": 18,
   "metadata": {},
   "outputs": [],
   "source": [
    "#поменяем тип столбца на числовой\n",
    "data['user_score'] = pd.to_numeric(data['user_score'])"
   ]
  },
  {
   "cell_type": "code",
   "execution_count": 19,
   "metadata": {
    "scrolled": true
   },
   "outputs": [
    {
     "data": {
      "text/plain": [
       "array([76., -1., 82., 80., 89., 58., 87., 91., 61., 97., 95., 77., 88.,\n",
       "       83., 94., 93., 85., 86., 98., 96., 90., 84., 73., 74., 78., 92.,\n",
       "       71., 72., 68., 62., 49., 67., 81., 66., 56., 79., 70., 59., 64.,\n",
       "       75., 60., 63., 69., 50., 25., 42., 44., 55., 48., 57., 29., 47.,\n",
       "       65., 54., 20., 53., 37., 38., 33., 52., 30., 32., 43., 45., 51.,\n",
       "       40., 46., 39., 34., 41., 36., 31., 27., 35., 26., 19., 28., 23.,\n",
       "       24., 21., 17., 13.])"
      ]
     },
     "execution_count": 19,
     "metadata": {},
     "output_type": "execute_result"
    }
   ],
   "source": [
    "data.loc[data['critic_score'].isna(), 'critic_score'] = -1\n",
    "data['critic_score'].unique()"
   ]
  },
  {
   "cell_type": "code",
   "execution_count": 20,
   "metadata": {},
   "outputs": [],
   "source": [
    "data['user_score'] = data['user_score'].astype('float64')"
   ]
  },
  {
   "cell_type": "markdown",
   "metadata": {},
   "source": [
    "#### Посчитаем суммарные продажи во всех регионах и запишем их в отдельный столбец"
   ]
  },
  {
   "cell_type": "code",
   "execution_count": 21,
   "metadata": {},
   "outputs": [],
   "source": [
    "data['total_sales'] = data[['na_sales', 'eu_sales', 'jp_sales', 'other_sales']].sum(axis=1)"
   ]
  },
  {
   "cell_type": "markdown",
   "metadata": {},
   "source": [
    "Проверим датафрейм на наличие явных и неявных дубликатов"
   ]
  },
  {
   "cell_type": "code",
   "execution_count": 22,
   "metadata": {},
   "outputs": [
    {
     "data": {
      "text/plain": [
       "0"
      ]
     },
     "execution_count": 22,
     "metadata": {},
     "output_type": "execute_result"
    }
   ],
   "source": [
    "#проверим явные дубликаты\n",
    "data.duplicated().sum()"
   ]
  },
  {
   "cell_type": "code",
   "execution_count": 23,
   "metadata": {},
   "outputs": [
    {
     "data": {
      "text/html": [
       "<div>\n",
       "<style scoped>\n",
       "    .dataframe tbody tr th:only-of-type {\n",
       "        vertical-align: middle;\n",
       "    }\n",
       "\n",
       "    .dataframe tbody tr th {\n",
       "        vertical-align: top;\n",
       "    }\n",
       "\n",
       "    .dataframe thead th {\n",
       "        text-align: right;\n",
       "    }\n",
       "</style>\n",
       "<table border=\"1\" class=\"dataframe\">\n",
       "  <thead>\n",
       "    <tr style=\"text-align: right;\">\n",
       "      <th></th>\n",
       "      <th>name</th>\n",
       "      <th>platform</th>\n",
       "      <th>year_of_release</th>\n",
       "      <th>genre</th>\n",
       "      <th>na_sales</th>\n",
       "      <th>eu_sales</th>\n",
       "      <th>jp_sales</th>\n",
       "      <th>other_sales</th>\n",
       "      <th>critic_score</th>\n",
       "      <th>user_score</th>\n",
       "      <th>rating</th>\n",
       "      <th>total_sales</th>\n",
       "    </tr>\n",
       "  </thead>\n",
       "  <tbody>\n",
       "    <tr>\n",
       "      <th>0</th>\n",
       "      <td>Wii Sports</td>\n",
       "      <td>Wii</td>\n",
       "      <td>2006</td>\n",
       "      <td>Sports</td>\n",
       "      <td>41.36</td>\n",
       "      <td>28.96</td>\n",
       "      <td>3.77</td>\n",
       "      <td>8.45</td>\n",
       "      <td>76.0</td>\n",
       "      <td>8.0</td>\n",
       "      <td>E</td>\n",
       "      <td>82.54</td>\n",
       "    </tr>\n",
       "    <tr>\n",
       "      <th>1</th>\n",
       "      <td>Super Mario Bros.</td>\n",
       "      <td>NES</td>\n",
       "      <td>1985</td>\n",
       "      <td>Platform</td>\n",
       "      <td>29.08</td>\n",
       "      <td>3.58</td>\n",
       "      <td>6.81</td>\n",
       "      <td>0.77</td>\n",
       "      <td>-1.0</td>\n",
       "      <td>-1.0</td>\n",
       "      <td>Отсутствует</td>\n",
       "      <td>40.24</td>\n",
       "    </tr>\n",
       "    <tr>\n",
       "      <th>2</th>\n",
       "      <td>Mario Kart Wii</td>\n",
       "      <td>Wii</td>\n",
       "      <td>2008</td>\n",
       "      <td>Racing</td>\n",
       "      <td>15.68</td>\n",
       "      <td>12.76</td>\n",
       "      <td>3.79</td>\n",
       "      <td>3.29</td>\n",
       "      <td>82.0</td>\n",
       "      <td>8.3</td>\n",
       "      <td>E</td>\n",
       "      <td>35.52</td>\n",
       "    </tr>\n",
       "    <tr>\n",
       "      <th>3</th>\n",
       "      <td>Wii Sports Resort</td>\n",
       "      <td>Wii</td>\n",
       "      <td>2009</td>\n",
       "      <td>Sports</td>\n",
       "      <td>15.61</td>\n",
       "      <td>10.93</td>\n",
       "      <td>3.28</td>\n",
       "      <td>2.95</td>\n",
       "      <td>80.0</td>\n",
       "      <td>8.0</td>\n",
       "      <td>E</td>\n",
       "      <td>32.77</td>\n",
       "    </tr>\n",
       "    <tr>\n",
       "      <th>4</th>\n",
       "      <td>Pokemon Red/Pokemon Blue</td>\n",
       "      <td>GB</td>\n",
       "      <td>1996</td>\n",
       "      <td>Role-Playing</td>\n",
       "      <td>11.27</td>\n",
       "      <td>8.89</td>\n",
       "      <td>10.22</td>\n",
       "      <td>1.00</td>\n",
       "      <td>-1.0</td>\n",
       "      <td>-1.0</td>\n",
       "      <td>Отсутствует</td>\n",
       "      <td>31.38</td>\n",
       "    </tr>\n",
       "    <tr>\n",
       "      <th>...</th>\n",
       "      <td>...</td>\n",
       "      <td>...</td>\n",
       "      <td>...</td>\n",
       "      <td>...</td>\n",
       "      <td>...</td>\n",
       "      <td>...</td>\n",
       "      <td>...</td>\n",
       "      <td>...</td>\n",
       "      <td>...</td>\n",
       "      <td>...</td>\n",
       "      <td>...</td>\n",
       "      <td>...</td>\n",
       "    </tr>\n",
       "    <tr>\n",
       "      <th>16710</th>\n",
       "      <td>Samurai Warriors: Sanada Maru</td>\n",
       "      <td>PS3</td>\n",
       "      <td>2016</td>\n",
       "      <td>Action</td>\n",
       "      <td>0.00</td>\n",
       "      <td>0.00</td>\n",
       "      <td>0.01</td>\n",
       "      <td>0.00</td>\n",
       "      <td>-1.0</td>\n",
       "      <td>-1.0</td>\n",
       "      <td>Отсутствует</td>\n",
       "      <td>0.01</td>\n",
       "    </tr>\n",
       "    <tr>\n",
       "      <th>16711</th>\n",
       "      <td>LMA Manager 2007</td>\n",
       "      <td>X360</td>\n",
       "      <td>2006</td>\n",
       "      <td>Sports</td>\n",
       "      <td>0.00</td>\n",
       "      <td>0.01</td>\n",
       "      <td>0.00</td>\n",
       "      <td>0.00</td>\n",
       "      <td>-1.0</td>\n",
       "      <td>-1.0</td>\n",
       "      <td>Отсутствует</td>\n",
       "      <td>0.01</td>\n",
       "    </tr>\n",
       "    <tr>\n",
       "      <th>16712</th>\n",
       "      <td>Haitaka no Psychedelica</td>\n",
       "      <td>PSV</td>\n",
       "      <td>2016</td>\n",
       "      <td>Adventure</td>\n",
       "      <td>0.00</td>\n",
       "      <td>0.00</td>\n",
       "      <td>0.01</td>\n",
       "      <td>0.00</td>\n",
       "      <td>-1.0</td>\n",
       "      <td>-1.0</td>\n",
       "      <td>Отсутствует</td>\n",
       "      <td>0.01</td>\n",
       "    </tr>\n",
       "    <tr>\n",
       "      <th>16713</th>\n",
       "      <td>Spirits &amp; Spells</td>\n",
       "      <td>GBA</td>\n",
       "      <td>2003</td>\n",
       "      <td>Platform</td>\n",
       "      <td>0.01</td>\n",
       "      <td>0.00</td>\n",
       "      <td>0.00</td>\n",
       "      <td>0.00</td>\n",
       "      <td>-1.0</td>\n",
       "      <td>-1.0</td>\n",
       "      <td>Отсутствует</td>\n",
       "      <td>0.01</td>\n",
       "    </tr>\n",
       "    <tr>\n",
       "      <th>16714</th>\n",
       "      <td>Winning Post 8 2016</td>\n",
       "      <td>PSV</td>\n",
       "      <td>2016</td>\n",
       "      <td>Simulation</td>\n",
       "      <td>0.00</td>\n",
       "      <td>0.00</td>\n",
       "      <td>0.01</td>\n",
       "      <td>0.00</td>\n",
       "      <td>-1.0</td>\n",
       "      <td>-1.0</td>\n",
       "      <td>Отсутствует</td>\n",
       "      <td>0.01</td>\n",
       "    </tr>\n",
       "  </tbody>\n",
       "</table>\n",
       "<p>16441 rows × 12 columns</p>\n",
       "</div>"
      ],
      "text/plain": [
       "                                name platform  year_of_release         genre  \\\n",
       "0                         Wii Sports      Wii             2006        Sports   \n",
       "1                  Super Mario Bros.      NES             1985      Platform   \n",
       "2                     Mario Kart Wii      Wii             2008        Racing   \n",
       "3                  Wii Sports Resort      Wii             2009        Sports   \n",
       "4           Pokemon Red/Pokemon Blue       GB             1996  Role-Playing   \n",
       "...                              ...      ...              ...           ...   \n",
       "16710  Samurai Warriors: Sanada Maru      PS3             2016        Action   \n",
       "16711               LMA Manager 2007     X360             2006        Sports   \n",
       "16712        Haitaka no Psychedelica      PSV             2016     Adventure   \n",
       "16713               Spirits & Spells      GBA             2003      Platform   \n",
       "16714            Winning Post 8 2016      PSV             2016    Simulation   \n",
       "\n",
       "       na_sales  eu_sales  jp_sales  other_sales  critic_score  user_score  \\\n",
       "0         41.36     28.96      3.77         8.45          76.0         8.0   \n",
       "1         29.08      3.58      6.81         0.77          -1.0        -1.0   \n",
       "2         15.68     12.76      3.79         3.29          82.0         8.3   \n",
       "3         15.61     10.93      3.28         2.95          80.0         8.0   \n",
       "4         11.27      8.89     10.22         1.00          -1.0        -1.0   \n",
       "...         ...       ...       ...          ...           ...         ...   \n",
       "16710      0.00      0.00      0.01         0.00          -1.0        -1.0   \n",
       "16711      0.00      0.01      0.00         0.00          -1.0        -1.0   \n",
       "16712      0.00      0.00      0.01         0.00          -1.0        -1.0   \n",
       "16713      0.01      0.00      0.00         0.00          -1.0        -1.0   \n",
       "16714      0.00      0.00      0.01         0.00          -1.0        -1.0   \n",
       "\n",
       "            rating  total_sales  \n",
       "0                E        82.54  \n",
       "1      Отсутствует        40.24  \n",
       "2                E        35.52  \n",
       "3                E        32.77  \n",
       "4      Отсутствует        31.38  \n",
       "...            ...          ...  \n",
       "16710  Отсутствует         0.01  \n",
       "16711  Отсутствует         0.01  \n",
       "16712  Отсутствует         0.01  \n",
       "16713  Отсутствует         0.01  \n",
       "16714  Отсутствует         0.01  \n",
       "\n",
       "[16441 rows x 12 columns]"
      ]
     },
     "execution_count": 23,
     "metadata": {},
     "output_type": "execute_result"
    }
   ],
   "source": [
    "#проверим и удалим неявные дубликаты в столбцах с названием игры и платформы\n",
    "data.drop_duplicates(subset=['name', 'platform'])"
   ]
  },
  {
   "cell_type": "markdown",
   "metadata": {},
   "source": [
    "На данном этапе исследования мы нашли пропуски в столбцах, выявили из природу и обработали, согласно логике исследования с той целью, чтобы не пропали значимые данные. Также была проведена проверка на дубликаты для того, чтобы исключить их влияние на результаты исследования."
   ]
  },
  {
   "cell_type": "markdown",
   "metadata": {},
   "source": [
    "### Проведём исследовательский анализ данных"
   ]
  },
  {
   "cell_type": "markdown",
   "metadata": {},
   "source": [
    "#### Посмотрим сколько игр выпускалось в разные годы. Определим важны ли данные за все периоды?"
   ]
  },
  {
   "cell_type": "code",
   "execution_count": 24,
   "metadata": {},
   "outputs": [
    {
     "data": {
      "image/png": "[encoded data removed]",
      "text/plain": [
       "<Figure size 640x480 with 1 Axes>"
      ]
     },
     "metadata": {},
     "output_type": "display_data"
    }
   ],
   "source": [
    "releases = data.pivot_table(index='year_of_release', values='name', aggfunc='count')\n",
    "releases.plot();"
   ]
  },
  {
   "cell_type": "markdown",
   "metadata": {},
   "source": [
    "В наличии имеется статистика об играх, выпускаемых с **1980** года, до 1994 года счёт релизов шёл на десятки, вероятно эти данные менее важны, так как не будут отражать общую тенденцию. Восходящий тренд, соответствующий нормальному распределению, отмечается как раз с 1994 года."
   ]
  },
  {
   "cell_type": "markdown",
   "metadata": {},
   "source": [
    "#### Определим как менялись продажи по платформам"
   ]
  },
  {
   "cell_type": "markdown",
   "metadata": {},
   "source": [
    "Выберем платформы с наиюольшими суммарными продажами и построим распределение по годам. Выявим за какой характерный срок появляются и исчезают старые платформы."
   ]
  },
  {
   "cell_type": "code",
   "execution_count": 25,
   "metadata": {},
   "outputs": [],
   "source": [
    "platform_grouped = data.pivot_table(index=['platform'], values='total_sales', aggfunc='sum').sort_values(by='total_sales', ascending=False)"
   ]
  },
  {
   "cell_type": "code",
   "execution_count": 26,
   "metadata": {},
   "outputs": [
    {
     "data": {
      "text/html": [
       "<div>\n",
       "<style scoped>\n",
       "    .dataframe tbody tr th:only-of-type {\n",
       "        vertical-align: middle;\n",
       "    }\n",
       "\n",
       "    .dataframe tbody tr th {\n",
       "        vertical-align: top;\n",
       "    }\n",
       "\n",
       "    .dataframe thead th {\n",
       "        text-align: right;\n",
       "    }\n",
       "</style>\n",
       "<table border=\"1\" class=\"dataframe\">\n",
       "  <thead>\n",
       "    <tr style=\"text-align: right;\">\n",
       "      <th></th>\n",
       "      <th>total_sales</th>\n",
       "    </tr>\n",
       "    <tr>\n",
       "      <th>platform</th>\n",
       "      <th></th>\n",
       "    </tr>\n",
       "  </thead>\n",
       "  <tbody>\n",
       "    <tr>\n",
       "      <th>PS2</th>\n",
       "      <td>1233.56</td>\n",
       "    </tr>\n",
       "    <tr>\n",
       "      <th>X360</th>\n",
       "      <td>961.24</td>\n",
       "    </tr>\n",
       "    <tr>\n",
       "      <th>PS3</th>\n",
       "      <td>931.34</td>\n",
       "    </tr>\n",
       "    <tr>\n",
       "      <th>Wii</th>\n",
       "      <td>891.18</td>\n",
       "    </tr>\n",
       "    <tr>\n",
       "      <th>DS</th>\n",
       "      <td>802.78</td>\n",
       "    </tr>\n",
       "    <tr>\n",
       "      <th>PS</th>\n",
       "      <td>727.58</td>\n",
       "    </tr>\n",
       "    <tr>\n",
       "      <th>PS4</th>\n",
       "      <td>314.14</td>\n",
       "    </tr>\n",
       "    <tr>\n",
       "      <th>GBA</th>\n",
       "      <td>312.88</td>\n",
       "    </tr>\n",
       "    <tr>\n",
       "      <th>PSP</th>\n",
       "      <td>289.53</td>\n",
       "    </tr>\n",
       "    <tr>\n",
       "      <th>3DS</th>\n",
       "      <td>257.81</td>\n",
       "    </tr>\n",
       "    <tr>\n",
       "      <th>PC</th>\n",
       "      <td>255.76</td>\n",
       "    </tr>\n",
       "    <tr>\n",
       "      <th>GB</th>\n",
       "      <td>254.43</td>\n",
       "    </tr>\n",
       "    <tr>\n",
       "      <th>XB</th>\n",
       "      <td>251.57</td>\n",
       "    </tr>\n",
       "    <tr>\n",
       "      <th>NES</th>\n",
       "      <td>251.05</td>\n",
       "    </tr>\n",
       "    <tr>\n",
       "      <th>N64</th>\n",
       "      <td>218.01</td>\n",
       "    </tr>\n",
       "    <tr>\n",
       "      <th>SNES</th>\n",
       "      <td>200.04</td>\n",
       "    </tr>\n",
       "    <tr>\n",
       "      <th>GC</th>\n",
       "      <td>196.73</td>\n",
       "    </tr>\n",
       "    <tr>\n",
       "      <th>XOne</th>\n",
       "      <td>159.32</td>\n",
       "    </tr>\n",
       "    <tr>\n",
       "      <th>2600</th>\n",
       "      <td>86.48</td>\n",
       "    </tr>\n",
       "    <tr>\n",
       "      <th>WiiU</th>\n",
       "      <td>82.19</td>\n",
       "    </tr>\n",
       "    <tr>\n",
       "      <th>PSV</th>\n",
       "      <td>53.81</td>\n",
       "    </tr>\n",
       "    <tr>\n",
       "      <th>SAT</th>\n",
       "      <td>33.59</td>\n",
       "    </tr>\n",
       "    <tr>\n",
       "      <th>GEN</th>\n",
       "      <td>28.35</td>\n",
       "    </tr>\n",
       "    <tr>\n",
       "      <th>DC</th>\n",
       "      <td>15.95</td>\n",
       "    </tr>\n",
       "    <tr>\n",
       "      <th>SCD</th>\n",
       "      <td>1.86</td>\n",
       "    </tr>\n",
       "    <tr>\n",
       "      <th>NG</th>\n",
       "      <td>1.44</td>\n",
       "    </tr>\n",
       "    <tr>\n",
       "      <th>WS</th>\n",
       "      <td>1.42</td>\n",
       "    </tr>\n",
       "    <tr>\n",
       "      <th>TG16</th>\n",
       "      <td>0.16</td>\n",
       "    </tr>\n",
       "    <tr>\n",
       "      <th>3DO</th>\n",
       "      <td>0.10</td>\n",
       "    </tr>\n",
       "    <tr>\n",
       "      <th>GG</th>\n",
       "      <td>0.04</td>\n",
       "    </tr>\n",
       "    <tr>\n",
       "      <th>PCFX</th>\n",
       "      <td>0.03</td>\n",
       "    </tr>\n",
       "  </tbody>\n",
       "</table>\n",
       "</div>"
      ],
      "text/plain": [
       "          total_sales\n",
       "platform             \n",
       "PS2           1233.56\n",
       "X360           961.24\n",
       "PS3            931.34\n",
       "Wii            891.18\n",
       "DS             802.78\n",
       "PS             727.58\n",
       "PS4            314.14\n",
       "GBA            312.88\n",
       "PSP            289.53\n",
       "3DS            257.81\n",
       "PC             255.76\n",
       "GB             254.43\n",
       "XB             251.57\n",
       "NES            251.05\n",
       "N64            218.01\n",
       "SNES           200.04\n",
       "GC             196.73\n",
       "XOne           159.32\n",
       "2600            86.48\n",
       "WiiU            82.19\n",
       "PSV             53.81\n",
       "SAT             33.59\n",
       "GEN             28.35\n",
       "DC              15.95\n",
       "SCD              1.86\n",
       "NG               1.44\n",
       "WS               1.42\n",
       "TG16             0.16\n",
       "3DO              0.10\n",
       "GG               0.04\n",
       "PCFX             0.03"
      ]
     },
     "execution_count": 26,
     "metadata": {},
     "output_type": "execute_result"
    }
   ],
   "source": [
    "data.pivot_table(index='platform', values='total_sales', aggfunc='sum').sort_values(by ='total_sales', ascending = False)"
   ]
  },
  {
   "cell_type": "code",
   "execution_count": 27,
   "metadata": {},
   "outputs": [
    {
     "data": {
      "text/plain": [
       "Index(['DS', 'Wii', 'PS3', 'X360', 'PS2'], dtype='object', name='platform')"
      ]
     },
     "execution_count": 27,
     "metadata": {},
     "output_type": "execute_result"
    }
   ],
   "source": [
    "top = platform_grouped.sort_values(by='total_sales').iloc[-5:].index\n",
    "top"
   ]
  },
  {
   "cell_type": "code",
   "execution_count": 28,
   "metadata": {},
   "outputs": [
    {
     "data": {
      "text/html": [
       "<div>\n",
       "<style scoped>\n",
       "    .dataframe tbody tr th:only-of-type {\n",
       "        vertical-align: middle;\n",
       "    }\n",
       "\n",
       "    .dataframe tbody tr th {\n",
       "        vertical-align: top;\n",
       "    }\n",
       "\n",
       "    .dataframe thead th {\n",
       "        text-align: right;\n",
       "    }\n",
       "</style>\n",
       "<table border=\"1\" class=\"dataframe\">\n",
       "  <thead>\n",
       "    <tr style=\"text-align: right;\">\n",
       "      <th></th>\n",
       "      <th>name</th>\n",
       "      <th>platform</th>\n",
       "      <th>year_of_release</th>\n",
       "      <th>genre</th>\n",
       "      <th>na_sales</th>\n",
       "      <th>eu_sales</th>\n",
       "      <th>jp_sales</th>\n",
       "      <th>other_sales</th>\n",
       "      <th>critic_score</th>\n",
       "      <th>user_score</th>\n",
       "      <th>rating</th>\n",
       "      <th>total_sales</th>\n",
       "    </tr>\n",
       "  </thead>\n",
       "  <tbody>\n",
       "    <tr>\n",
       "      <th>0</th>\n",
       "      <td>Wii Sports</td>\n",
       "      <td>Wii</td>\n",
       "      <td>2006</td>\n",
       "      <td>Sports</td>\n",
       "      <td>41.36</td>\n",
       "      <td>28.96</td>\n",
       "      <td>3.77</td>\n",
       "      <td>8.45</td>\n",
       "      <td>76.0</td>\n",
       "      <td>8.0</td>\n",
       "      <td>E</td>\n",
       "      <td>82.54</td>\n",
       "    </tr>\n",
       "    <tr>\n",
       "      <th>2</th>\n",
       "      <td>Mario Kart Wii</td>\n",
       "      <td>Wii</td>\n",
       "      <td>2008</td>\n",
       "      <td>Racing</td>\n",
       "      <td>15.68</td>\n",
       "      <td>12.76</td>\n",
       "      <td>3.79</td>\n",
       "      <td>3.29</td>\n",
       "      <td>82.0</td>\n",
       "      <td>8.3</td>\n",
       "      <td>E</td>\n",
       "      <td>35.52</td>\n",
       "    </tr>\n",
       "    <tr>\n",
       "      <th>3</th>\n",
       "      <td>Wii Sports Resort</td>\n",
       "      <td>Wii</td>\n",
       "      <td>2009</td>\n",
       "      <td>Sports</td>\n",
       "      <td>15.61</td>\n",
       "      <td>10.93</td>\n",
       "      <td>3.28</td>\n",
       "      <td>2.95</td>\n",
       "      <td>80.0</td>\n",
       "      <td>8.0</td>\n",
       "      <td>E</td>\n",
       "      <td>32.77</td>\n",
       "    </tr>\n",
       "    <tr>\n",
       "      <th>6</th>\n",
       "      <td>New Super Mario Bros.</td>\n",
       "      <td>DS</td>\n",
       "      <td>2006</td>\n",
       "      <td>Platform</td>\n",
       "      <td>11.28</td>\n",
       "      <td>9.14</td>\n",
       "      <td>6.50</td>\n",
       "      <td>2.88</td>\n",
       "      <td>89.0</td>\n",
       "      <td>8.5</td>\n",
       "      <td>E</td>\n",
       "      <td>29.80</td>\n",
       "    </tr>\n",
       "    <tr>\n",
       "      <th>7</th>\n",
       "      <td>Wii Play</td>\n",
       "      <td>Wii</td>\n",
       "      <td>2006</td>\n",
       "      <td>Misc</td>\n",
       "      <td>13.96</td>\n",
       "      <td>9.18</td>\n",
       "      <td>2.93</td>\n",
       "      <td>2.84</td>\n",
       "      <td>58.0</td>\n",
       "      <td>6.6</td>\n",
       "      <td>E</td>\n",
       "      <td>28.91</td>\n",
       "    </tr>\n",
       "    <tr>\n",
       "      <th>...</th>\n",
       "      <td>...</td>\n",
       "      <td>...</td>\n",
       "      <td>...</td>\n",
       "      <td>...</td>\n",
       "      <td>...</td>\n",
       "      <td>...</td>\n",
       "      <td>...</td>\n",
       "      <td>...</td>\n",
       "      <td>...</td>\n",
       "      <td>...</td>\n",
       "      <td>...</td>\n",
       "      <td>...</td>\n",
       "    </tr>\n",
       "    <tr>\n",
       "      <th>16700</th>\n",
       "      <td>Mezase!! Tsuri Master DS</td>\n",
       "      <td>DS</td>\n",
       "      <td>2009</td>\n",
       "      <td>Sports</td>\n",
       "      <td>0.00</td>\n",
       "      <td>0.00</td>\n",
       "      <td>0.01</td>\n",
       "      <td>0.00</td>\n",
       "      <td>-1.0</td>\n",
       "      <td>-1.0</td>\n",
       "      <td>Отсутствует</td>\n",
       "      <td>0.01</td>\n",
       "    </tr>\n",
       "    <tr>\n",
       "      <th>16704</th>\n",
       "      <td>Plushees</td>\n",
       "      <td>DS</td>\n",
       "      <td>2008</td>\n",
       "      <td>Simulation</td>\n",
       "      <td>0.01</td>\n",
       "      <td>0.00</td>\n",
       "      <td>0.00</td>\n",
       "      <td>0.00</td>\n",
       "      <td>-1.0</td>\n",
       "      <td>-2.0</td>\n",
       "      <td>E</td>\n",
       "      <td>0.01</td>\n",
       "    </tr>\n",
       "    <tr>\n",
       "      <th>16709</th>\n",
       "      <td>SCORE International Baja 1000: The Official Game</td>\n",
       "      <td>PS2</td>\n",
       "      <td>2008</td>\n",
       "      <td>Racing</td>\n",
       "      <td>0.00</td>\n",
       "      <td>0.00</td>\n",
       "      <td>0.00</td>\n",
       "      <td>0.00</td>\n",
       "      <td>-1.0</td>\n",
       "      <td>-1.0</td>\n",
       "      <td>Отсутствует</td>\n",
       "      <td>0.00</td>\n",
       "    </tr>\n",
       "    <tr>\n",
       "      <th>16710</th>\n",
       "      <td>Samurai Warriors: Sanada Maru</td>\n",
       "      <td>PS3</td>\n",
       "      <td>2016</td>\n",
       "      <td>Action</td>\n",
       "      <td>0.00</td>\n",
       "      <td>0.00</td>\n",
       "      <td>0.01</td>\n",
       "      <td>0.00</td>\n",
       "      <td>-1.0</td>\n",
       "      <td>-1.0</td>\n",
       "      <td>Отсутствует</td>\n",
       "      <td>0.01</td>\n",
       "    </tr>\n",
       "    <tr>\n",
       "      <th>16711</th>\n",
       "      <td>LMA Manager 2007</td>\n",
       "      <td>X360</td>\n",
       "      <td>2006</td>\n",
       "      <td>Sports</td>\n",
       "      <td>0.00</td>\n",
       "      <td>0.01</td>\n",
       "      <td>0.00</td>\n",
       "      <td>0.00</td>\n",
       "      <td>-1.0</td>\n",
       "      <td>-1.0</td>\n",
       "      <td>Отсутствует</td>\n",
       "      <td>0.01</td>\n",
       "    </tr>\n",
       "  </tbody>\n",
       "</table>\n",
       "<p>8072 rows × 12 columns</p>\n",
       "</div>"
      ],
      "text/plain": [
       "                                                   name platform  \\\n",
       "0                                            Wii Sports      Wii   \n",
       "2                                        Mario Kart Wii      Wii   \n",
       "3                                     Wii Sports Resort      Wii   \n",
       "6                                 New Super Mario Bros.       DS   \n",
       "7                                              Wii Play      Wii   \n",
       "...                                                 ...      ...   \n",
       "16700                          Mezase!! Tsuri Master DS       DS   \n",
       "16704                                          Plushees       DS   \n",
       "16709  SCORE International Baja 1000: The Official Game      PS2   \n",
       "16710                     Samurai Warriors: Sanada Maru      PS3   \n",
       "16711                                  LMA Manager 2007     X360   \n",
       "\n",
       "       year_of_release       genre  na_sales  eu_sales  jp_sales  other_sales  \\\n",
       "0                 2006      Sports     41.36     28.96      3.77         8.45   \n",
       "2                 2008      Racing     15.68     12.76      3.79         3.29   \n",
       "3                 2009      Sports     15.61     10.93      3.28         2.95   \n",
       "6                 2006    Platform     11.28      9.14      6.50         2.88   \n",
       "7                 2006        Misc     13.96      9.18      2.93         2.84   \n",
       "...                ...         ...       ...       ...       ...          ...   \n",
       "16700             2009      Sports      0.00      0.00      0.01         0.00   \n",
       "16704             2008  Simulation      0.01      0.00      0.00         0.00   \n",
       "16709             2008      Racing      0.00      0.00      0.00         0.00   \n",
       "16710             2016      Action      0.00      0.00      0.01         0.00   \n",
       "16711             2006      Sports      0.00      0.01      0.00         0.00   \n",
       "\n",
       "       critic_score  user_score       rating  total_sales  \n",
       "0              76.0         8.0            E        82.54  \n",
       "2              82.0         8.3            E        35.52  \n",
       "3              80.0         8.0            E        32.77  \n",
       "6              89.0         8.5            E        29.80  \n",
       "7              58.0         6.6            E        28.91  \n",
       "...             ...         ...          ...          ...  \n",
       "16700          -1.0        -1.0  Отсутствует         0.01  \n",
       "16704          -1.0        -2.0            E         0.01  \n",
       "16709          -1.0        -1.0  Отсутствует         0.00  \n",
       "16710          -1.0        -1.0  Отсутствует         0.01  \n",
       "16711          -1.0        -1.0  Отсутствует         0.01  \n",
       "\n",
       "[8072 rows x 12 columns]"
      ]
     },
     "execution_count": 28,
     "metadata": {},
     "output_type": "execute_result"
    }
   ],
   "source": [
    "platform_top = data[data['platform'].isin(top)]\n",
    "platform_top"
   ]
  },
  {
   "cell_type": "code",
   "execution_count": 29,
   "metadata": {},
   "outputs": [
    {
     "data": {
      "image/png": "[encoded data removed]",
      "text/plain": [
       "<Figure size 1700x400 with 1 Axes>"
      ]
     },
     "metadata": {},
     "output_type": "display_data"
    }
   ],
   "source": [
    "platform_top.groupby(['platform', 'year_of_release'])['total_sales'].count().unstack('platform').plot(figsize=(17, 4), title='ТОП Платформ, срок их жизни');"
   ]
  },
  {
   "cell_type": "markdown",
   "metadata": {},
   "source": [
    "Очевидно, что в ТОП самых популярных игровых платформ за весь исследуемый период входят: **PS2, X360, PS3, Wii, DS**, развитие которых происходило с начала нулевых годов. Срок \"жизни\" платформ из ТОПа ориентировочно около 10 лет."
   ]
  },
  {
   "cell_type": "markdown",
   "metadata": {},
   "source": [
    "#### Определим актуальный период для построения прогноза на 2017 год и определим лидеров продаж"
   ]
  },
  {
   "cell_type": "code",
   "execution_count": 30,
   "metadata": {},
   "outputs": [
    {
     "data": {
      "text/html": [
       "<div>\n",
       "<style scoped>\n",
       "    .dataframe tbody tr th:only-of-type {\n",
       "        vertical-align: middle;\n",
       "    }\n",
       "\n",
       "    .dataframe tbody tr th {\n",
       "        vertical-align: top;\n",
       "    }\n",
       "\n",
       "    .dataframe thead th {\n",
       "        text-align: right;\n",
       "    }\n",
       "</style>\n",
       "<table border=\"1\" class=\"dataframe\">\n",
       "  <thead>\n",
       "    <tr style=\"text-align: right;\">\n",
       "      <th></th>\n",
       "      <th>name</th>\n",
       "      <th>platform</th>\n",
       "      <th>year_of_release</th>\n",
       "      <th>genre</th>\n",
       "      <th>na_sales</th>\n",
       "      <th>eu_sales</th>\n",
       "      <th>jp_sales</th>\n",
       "      <th>other_sales</th>\n",
       "      <th>critic_score</th>\n",
       "      <th>user_score</th>\n",
       "      <th>rating</th>\n",
       "      <th>total_sales</th>\n",
       "    </tr>\n",
       "  </thead>\n",
       "  <tbody>\n",
       "    <tr>\n",
       "      <th>31</th>\n",
       "      <td>Call of Duty: Black Ops 3</td>\n",
       "      <td>PS4</td>\n",
       "      <td>2015</td>\n",
       "      <td>Shooter</td>\n",
       "      <td>6.03</td>\n",
       "      <td>5.86</td>\n",
       "      <td>0.36</td>\n",
       "      <td>2.38</td>\n",
       "      <td>-1.0</td>\n",
       "      <td>-1.0</td>\n",
       "      <td>Отсутствует</td>\n",
       "      <td>14.63</td>\n",
       "    </tr>\n",
       "    <tr>\n",
       "      <th>42</th>\n",
       "      <td>Grand Theft Auto V</td>\n",
       "      <td>PS4</td>\n",
       "      <td>2014</td>\n",
       "      <td>Action</td>\n",
       "      <td>3.96</td>\n",
       "      <td>6.31</td>\n",
       "      <td>0.38</td>\n",
       "      <td>1.97</td>\n",
       "      <td>97.0</td>\n",
       "      <td>8.3</td>\n",
       "      <td>M</td>\n",
       "      <td>12.62</td>\n",
       "    </tr>\n",
       "    <tr>\n",
       "      <th>47</th>\n",
       "      <td>Pokemon Omega Ruby/Pokemon Alpha Sapphire</td>\n",
       "      <td>3DS</td>\n",
       "      <td>2014</td>\n",
       "      <td>Role-Playing</td>\n",
       "      <td>4.35</td>\n",
       "      <td>3.49</td>\n",
       "      <td>3.10</td>\n",
       "      <td>0.74</td>\n",
       "      <td>-1.0</td>\n",
       "      <td>-1.0</td>\n",
       "      <td>Отсутствует</td>\n",
       "      <td>11.68</td>\n",
       "    </tr>\n",
       "    <tr>\n",
       "      <th>77</th>\n",
       "      <td>FIFA 16</td>\n",
       "      <td>PS4</td>\n",
       "      <td>2015</td>\n",
       "      <td>Sports</td>\n",
       "      <td>1.12</td>\n",
       "      <td>6.12</td>\n",
       "      <td>0.06</td>\n",
       "      <td>1.28</td>\n",
       "      <td>82.0</td>\n",
       "      <td>4.3</td>\n",
       "      <td>E</td>\n",
       "      <td>8.58</td>\n",
       "    </tr>\n",
       "    <tr>\n",
       "      <th>87</th>\n",
       "      <td>Star Wars Battlefront (2015)</td>\n",
       "      <td>PS4</td>\n",
       "      <td>2015</td>\n",
       "      <td>Shooter</td>\n",
       "      <td>2.99</td>\n",
       "      <td>3.49</td>\n",
       "      <td>0.22</td>\n",
       "      <td>1.28</td>\n",
       "      <td>-1.0</td>\n",
       "      <td>-1.0</td>\n",
       "      <td>Отсутствует</td>\n",
       "      <td>7.98</td>\n",
       "    </tr>\n",
       "    <tr>\n",
       "      <th>...</th>\n",
       "      <td>...</td>\n",
       "      <td>...</td>\n",
       "      <td>...</td>\n",
       "      <td>...</td>\n",
       "      <td>...</td>\n",
       "      <td>...</td>\n",
       "      <td>...</td>\n",
       "      <td>...</td>\n",
       "      <td>...</td>\n",
       "      <td>...</td>\n",
       "      <td>...</td>\n",
       "      <td>...</td>\n",
       "    </tr>\n",
       "    <tr>\n",
       "      <th>16703</th>\n",
       "      <td>Strawberry Nauts</td>\n",
       "      <td>PSV</td>\n",
       "      <td>2016</td>\n",
       "      <td>Adventure</td>\n",
       "      <td>0.00</td>\n",
       "      <td>0.00</td>\n",
       "      <td>0.01</td>\n",
       "      <td>0.00</td>\n",
       "      <td>-1.0</td>\n",
       "      <td>-1.0</td>\n",
       "      <td>Отсутствует</td>\n",
       "      <td>0.01</td>\n",
       "    </tr>\n",
       "    <tr>\n",
       "      <th>16707</th>\n",
       "      <td>Aiyoku no Eustia</td>\n",
       "      <td>PSV</td>\n",
       "      <td>2014</td>\n",
       "      <td>Misc</td>\n",
       "      <td>0.00</td>\n",
       "      <td>0.00</td>\n",
       "      <td>0.01</td>\n",
       "      <td>0.00</td>\n",
       "      <td>-1.0</td>\n",
       "      <td>-1.0</td>\n",
       "      <td>Отсутствует</td>\n",
       "      <td>0.01</td>\n",
       "    </tr>\n",
       "    <tr>\n",
       "      <th>16710</th>\n",
       "      <td>Samurai Warriors: Sanada Maru</td>\n",
       "      <td>PS3</td>\n",
       "      <td>2016</td>\n",
       "      <td>Action</td>\n",
       "      <td>0.00</td>\n",
       "      <td>0.00</td>\n",
       "      <td>0.01</td>\n",
       "      <td>0.00</td>\n",
       "      <td>-1.0</td>\n",
       "      <td>-1.0</td>\n",
       "      <td>Отсутствует</td>\n",
       "      <td>0.01</td>\n",
       "    </tr>\n",
       "    <tr>\n",
       "      <th>16712</th>\n",
       "      <td>Haitaka no Psychedelica</td>\n",
       "      <td>PSV</td>\n",
       "      <td>2016</td>\n",
       "      <td>Adventure</td>\n",
       "      <td>0.00</td>\n",
       "      <td>0.00</td>\n",
       "      <td>0.01</td>\n",
       "      <td>0.00</td>\n",
       "      <td>-1.0</td>\n",
       "      <td>-1.0</td>\n",
       "      <td>Отсутствует</td>\n",
       "      <td>0.01</td>\n",
       "    </tr>\n",
       "    <tr>\n",
       "      <th>16714</th>\n",
       "      <td>Winning Post 8 2016</td>\n",
       "      <td>PSV</td>\n",
       "      <td>2016</td>\n",
       "      <td>Simulation</td>\n",
       "      <td>0.00</td>\n",
       "      <td>0.00</td>\n",
       "      <td>0.01</td>\n",
       "      <td>0.00</td>\n",
       "      <td>-1.0</td>\n",
       "      <td>-1.0</td>\n",
       "      <td>Отсутствует</td>\n",
       "      <td>0.01</td>\n",
       "    </tr>\n",
       "  </tbody>\n",
       "</table>\n",
       "<p>1689 rows × 12 columns</p>\n",
       "</div>"
      ],
      "text/plain": [
       "                                            name platform  year_of_release  \\\n",
       "31                     Call of Duty: Black Ops 3      PS4             2015   \n",
       "42                            Grand Theft Auto V      PS4             2014   \n",
       "47     Pokemon Omega Ruby/Pokemon Alpha Sapphire      3DS             2014   \n",
       "77                                       FIFA 16      PS4             2015   \n",
       "87                  Star Wars Battlefront (2015)      PS4             2015   \n",
       "...                                          ...      ...              ...   \n",
       "16703                           Strawberry Nauts      PSV             2016   \n",
       "16707                           Aiyoku no Eustia      PSV             2014   \n",
       "16710              Samurai Warriors: Sanada Maru      PS3             2016   \n",
       "16712                    Haitaka no Psychedelica      PSV             2016   \n",
       "16714                        Winning Post 8 2016      PSV             2016   \n",
       "\n",
       "              genre  na_sales  eu_sales  jp_sales  other_sales  critic_score  \\\n",
       "31          Shooter      6.03      5.86      0.36         2.38          -1.0   \n",
       "42           Action      3.96      6.31      0.38         1.97          97.0   \n",
       "47     Role-Playing      4.35      3.49      3.10         0.74          -1.0   \n",
       "77           Sports      1.12      6.12      0.06         1.28          82.0   \n",
       "87          Shooter      2.99      3.49      0.22         1.28          -1.0   \n",
       "...             ...       ...       ...       ...          ...           ...   \n",
       "16703     Adventure      0.00      0.00      0.01         0.00          -1.0   \n",
       "16707          Misc      0.00      0.00      0.01         0.00          -1.0   \n",
       "16710        Action      0.00      0.00      0.01         0.00          -1.0   \n",
       "16712     Adventure      0.00      0.00      0.01         0.00          -1.0   \n",
       "16714    Simulation      0.00      0.00      0.01         0.00          -1.0   \n",
       "\n",
       "       user_score       rating  total_sales  \n",
       "31           -1.0  Отсутствует        14.63  \n",
       "42            8.3            M        12.62  \n",
       "47           -1.0  Отсутствует        11.68  \n",
       "77            4.3            E         8.58  \n",
       "87           -1.0  Отсутствует         7.98  \n",
       "...           ...          ...          ...  \n",
       "16703        -1.0  Отсутствует         0.01  \n",
       "16707        -1.0  Отсутствует         0.01  \n",
       "16710        -1.0  Отсутствует         0.01  \n",
       "16712        -1.0  Отсутствует         0.01  \n",
       "16714        -1.0  Отсутствует         0.01  \n",
       "\n",
       "[1689 rows x 12 columns]"
      ]
     },
     "execution_count": 30,
     "metadata": {},
     "output_type": "execute_result"
    }
   ],
   "source": [
    "actual_period = data.query('year_of_release > 2013')\n",
    "actual_period"
   ]
  },
  {
   "cell_type": "code",
   "execution_count": 31,
   "metadata": {},
   "outputs": [
    {
     "data": {
      "text/plain": [
       "Index(['X360', 'PS3', '3DS', 'XOne', 'PS4'], dtype='object', name='platform')"
      ]
     },
     "execution_count": 31,
     "metadata": {},
     "output_type": "execute_result"
    }
   ],
   "source": [
    "sales_top = actual_period.pivot_table(index='platform', values='total_sales', aggfunc='sum').sort_values(by='total_sales').iloc[-5:].index\n",
    "sales_top"
   ]
  },
  {
   "cell_type": "markdown",
   "metadata": {},
   "source": [
    "Лучшие показатели продаж показывают игры для следующих платформ: **XOne, 3DS, PS4, X360, PS3**"
   ]
  },
  {
   "cell_type": "markdown",
   "metadata": {},
   "source": [
    "#### Построим график «ящик с усами» по глобальным продажам игр в разбивке по платформам."
   ]
  },
  {
   "cell_type": "code",
   "execution_count": 32,
   "metadata": {
    "scrolled": true
   },
   "outputs": [
    {
     "data": {
      "image/png": "[encoded data removed]",
      "text/plain": [
       "<Figure size 1000x600 with 1 Axes>"
      ]
     },
     "metadata": {},
     "output_type": "display_data"
    }
   ],
   "source": [
    "plt.figure(figsize=(10, 6));\n",
    "sns.boxplot(x='platform', y='total_sales', data=platform_top);\n",
    "plt.ylim(0, 0.85);\n",
    "\n",
    "plt.title('Продажи игр в разрезе по платформам');"
   ]
  },
  {
   "cell_type": "markdown",
   "metadata": {},
   "source": [
    "Полученный график показывает что наиболее высоки медианы продаж у платформ **X360** и **PS3**. При этом они же имеют явное смещение в сторону более высокой цены, относительно медианы."
   ]
  },
  {
   "cell_type": "markdown",
   "metadata": {},
   "source": [
    "#### Посмотрим, как влияют на продажи внутри одной популярной платформы отзывы пользователей и критиков. Построим диаграмму рассеяния и посчитайте корреляцию между отзывами и продажами.\n"
   ]
  },
  {
   "cell_type": "markdown",
   "metadata": {},
   "source": [
    "В качестве примера возьмем информацию о платформе PS4, так как она имеет большое количество продаж и популярность"
   ]
  },
  {
   "cell_type": "code",
   "execution_count": 33,
   "metadata": {},
   "outputs": [],
   "source": [
    "ps4 = actual_period[(actual_period['platform'] == 'PS4') \\\n",
    "                    & (actual_period['critic_score']>0) \\\n",
    "                    & (actual_period['user_score']>0)].copy()"
   ]
  },
  {
   "cell_type": "code",
   "execution_count": 34,
   "metadata": {},
   "outputs": [
    {
     "data": {
      "image/png": "[encoded data removed]",
      "text/plain": [
       "<Figure size 500x500 with 1 Axes>"
      ]
     },
     "metadata": {},
     "output_type": "display_data"
    }
   ],
   "source": [
    "ps4.plot(x='user_score', y='total_sales', kind='scatter', alpha=0.3, figsize=(5,5), grid=True, title='Корреляция между отзывами и продажами.')\n",
    "plt.show()"
   ]
  },
  {
   "cell_type": "markdown",
   "metadata": {},
   "source": [
    "Замена пропусков на *-1* и *tbd* на -2 позволила нам увидеть их на графиках и не учитывать в оценке корреляции."
   ]
  },
  {
   "cell_type": "code",
   "execution_count": 35,
   "metadata": {
    "scrolled": true
   },
   "outputs": [
    {
     "data": {
      "image/png": "[encoded data removed]",
      "text/plain": [
       "<Figure size 500x500 with 1 Axes>"
      ]
     },
     "metadata": {},
     "output_type": "display_data"
    }
   ],
   "source": [
    "ps4.plot(x='critic_score', y='total_sales', kind='scatter', alpha=0.3, figsize=(5,5), grid=True, title='Корреляция между отзывами критиков и продажами.')\n",
    "plt.show()"
   ]
  },
  {
   "cell_type": "code",
   "execution_count": 36,
   "metadata": {},
   "outputs": [
    {
     "name": "stderr",
     "output_type": "stream",
     "text": [
      "C:\\Users\\Alim\\AppData\\Local\\Temp\\ipykernel_8652\\839410094.py:1: FutureWarning: The default value of numeric_only in DataFrame.corr is deprecated. In a future version, it will default to False. Select only valid columns or specify the value of numeric_only to silence this warning.\n",
      "  ps4.corr()\n"
     ]
    },
    {
     "data": {
      "text/html": [
       "<div>\n",
       "<style scoped>\n",
       "    .dataframe tbody tr th:only-of-type {\n",
       "        vertical-align: middle;\n",
       "    }\n",
       "\n",
       "    .dataframe tbody tr th {\n",
       "        vertical-align: top;\n",
       "    }\n",
       "\n",
       "    .dataframe thead th {\n",
       "        text-align: right;\n",
       "    }\n",
       "</style>\n",
       "<table border=\"1\" class=\"dataframe\">\n",
       "  <thead>\n",
       "    <tr style=\"text-align: right;\">\n",
       "      <th></th>\n",
       "      <th>year_of_release</th>\n",
       "      <th>na_sales</th>\n",
       "      <th>eu_sales</th>\n",
       "      <th>jp_sales</th>\n",
       "      <th>other_sales</th>\n",
       "      <th>critic_score</th>\n",
       "      <th>user_score</th>\n",
       "      <th>total_sales</th>\n",
       "    </tr>\n",
       "  </thead>\n",
       "  <tbody>\n",
       "    <tr>\n",
       "      <th>year_of_release</th>\n",
       "      <td>1.000000</td>\n",
       "      <td>-0.230985</td>\n",
       "      <td>-0.183494</td>\n",
       "      <td>-0.093172</td>\n",
       "      <td>-0.221852</td>\n",
       "      <td>-0.043417</td>\n",
       "      <td>0.028938</td>\n",
       "      <td>-0.216492</td>\n",
       "    </tr>\n",
       "    <tr>\n",
       "      <th>na_sales</th>\n",
       "      <td>-0.230985</td>\n",
       "      <td>1.000000</td>\n",
       "      <td>0.712972</td>\n",
       "      <td>0.566980</td>\n",
       "      <td>0.915730</td>\n",
       "      <td>0.410773</td>\n",
       "      <td>-0.018847</td>\n",
       "      <td>0.892578</td>\n",
       "    </tr>\n",
       "    <tr>\n",
       "      <th>eu_sales</th>\n",
       "      <td>-0.183494</td>\n",
       "      <td>0.712972</td>\n",
       "      <td>1.000000</td>\n",
       "      <td>0.541119</td>\n",
       "      <td>0.934511</td>\n",
       "      <td>0.339526</td>\n",
       "      <td>-0.067377</td>\n",
       "      <td>0.951783</td>\n",
       "    </tr>\n",
       "    <tr>\n",
       "      <th>jp_sales</th>\n",
       "      <td>-0.093172</td>\n",
       "      <td>0.566980</td>\n",
       "      <td>0.541119</td>\n",
       "      <td>1.000000</td>\n",
       "      <td>0.598046</td>\n",
       "      <td>0.378852</td>\n",
       "      <td>0.182245</td>\n",
       "      <td>0.618891</td>\n",
       "    </tr>\n",
       "    <tr>\n",
       "      <th>other_sales</th>\n",
       "      <td>-0.221852</td>\n",
       "      <td>0.915730</td>\n",
       "      <td>0.934511</td>\n",
       "      <td>0.598046</td>\n",
       "      <td>1.000000</td>\n",
       "      <td>0.403824</td>\n",
       "      <td>-0.047267</td>\n",
       "      <td>0.998054</td>\n",
       "    </tr>\n",
       "    <tr>\n",
       "      <th>critic_score</th>\n",
       "      <td>-0.043417</td>\n",
       "      <td>0.410773</td>\n",
       "      <td>0.339526</td>\n",
       "      <td>0.378852</td>\n",
       "      <td>0.403824</td>\n",
       "      <td>1.000000</td>\n",
       "      <td>0.546434</td>\n",
       "      <td>0.401903</td>\n",
       "    </tr>\n",
       "    <tr>\n",
       "      <th>user_score</th>\n",
       "      <td>0.028938</td>\n",
       "      <td>-0.018847</td>\n",
       "      <td>-0.067377</td>\n",
       "      <td>0.182245</td>\n",
       "      <td>-0.047267</td>\n",
       "      <td>0.546434</td>\n",
       "      <td>1.000000</td>\n",
       "      <td>-0.043186</td>\n",
       "    </tr>\n",
       "    <tr>\n",
       "      <th>total_sales</th>\n",
       "      <td>-0.216492</td>\n",
       "      <td>0.892578</td>\n",
       "      <td>0.951783</td>\n",
       "      <td>0.618891</td>\n",
       "      <td>0.998054</td>\n",
       "      <td>0.401903</td>\n",
       "      <td>-0.043186</td>\n",
       "      <td>1.000000</td>\n",
       "    </tr>\n",
       "  </tbody>\n",
       "</table>\n",
       "</div>"
      ],
      "text/plain": [
       "                 year_of_release  na_sales  eu_sales  jp_sales  other_sales  \\\n",
       "year_of_release         1.000000 -0.230985 -0.183494 -0.093172    -0.221852   \n",
       "na_sales               -0.230985  1.000000  0.712972  0.566980     0.915730   \n",
       "eu_sales               -0.183494  0.712972  1.000000  0.541119     0.934511   \n",
       "jp_sales               -0.093172  0.566980  0.541119  1.000000     0.598046   \n",
       "other_sales            -0.221852  0.915730  0.934511  0.598046     1.000000   \n",
       "critic_score           -0.043417  0.410773  0.339526  0.378852     0.403824   \n",
       "user_score              0.028938 -0.018847 -0.067377  0.182245    -0.047267   \n",
       "total_sales            -0.216492  0.892578  0.951783  0.618891     0.998054   \n",
       "\n",
       "                 critic_score  user_score  total_sales  \n",
       "year_of_release     -0.043417    0.028938    -0.216492  \n",
       "na_sales             0.410773   -0.018847     0.892578  \n",
       "eu_sales             0.339526   -0.067377     0.951783  \n",
       "jp_sales             0.378852    0.182245     0.618891  \n",
       "other_sales          0.403824   -0.047267     0.998054  \n",
       "critic_score         1.000000    0.546434     0.401903  \n",
       "user_score           0.546434    1.000000    -0.043186  \n",
       "total_sales          0.401903   -0.043186     1.000000  "
      ]
     },
     "execution_count": 36,
     "metadata": {},
     "output_type": "execute_result"
    }
   ],
   "source": [
    "ps4.corr()"
   ]
  },
  {
   "cell_type": "code",
   "execution_count": 37,
   "metadata": {},
   "outputs": [
    {
     "data": {
      "image/png": "[encoded data removed]",
      "text/plain": [
       "<Figure size 500x500 with 1 Axes>"
      ]
     },
     "metadata": {},
     "output_type": "display_data"
    },
    {
     "data": {
      "image/png": "[encoded data removed]",
      "text/plain": [
       "<Figure size 500x500 with 1 Axes>"
      ]
     },
     "metadata": {},
     "output_type": "display_data"
    },
    {
     "name": "stderr",
     "output_type": "stream",
     "text": [
      "C:\\Users\\Alim\\AppData\\Local\\Temp\\ipykernel_8652\\2424567509.py:8: FutureWarning: The default value of numeric_only in DataFrame.corr is deprecated. In a future version, it will default to False. Select only valid columns or specify the value of numeric_only to silence this warning.\n",
      "  ps3.corr()\n"
     ]
    },
    {
     "data": {
      "text/html": [
       "<div>\n",
       "<style scoped>\n",
       "    .dataframe tbody tr th:only-of-type {\n",
       "        vertical-align: middle;\n",
       "    }\n",
       "\n",
       "    .dataframe tbody tr th {\n",
       "        vertical-align: top;\n",
       "    }\n",
       "\n",
       "    .dataframe thead th {\n",
       "        text-align: right;\n",
       "    }\n",
       "</style>\n",
       "<table border=\"1\" class=\"dataframe\">\n",
       "  <thead>\n",
       "    <tr style=\"text-align: right;\">\n",
       "      <th></th>\n",
       "      <th>year_of_release</th>\n",
       "      <th>na_sales</th>\n",
       "      <th>eu_sales</th>\n",
       "      <th>jp_sales</th>\n",
       "      <th>other_sales</th>\n",
       "      <th>critic_score</th>\n",
       "      <th>user_score</th>\n",
       "      <th>total_sales</th>\n",
       "    </tr>\n",
       "  </thead>\n",
       "  <tbody>\n",
       "    <tr>\n",
       "      <th>year_of_release</th>\n",
       "      <td>1.000000</td>\n",
       "      <td>-0.120256</td>\n",
       "      <td>-0.126841</td>\n",
       "      <td>-0.103732</td>\n",
       "      <td>-0.144228</td>\n",
       "      <td>-0.044960</td>\n",
       "      <td>-0.013439</td>\n",
       "      <td>-0.146313</td>\n",
       "    </tr>\n",
       "    <tr>\n",
       "      <th>na_sales</th>\n",
       "      <td>-0.120256</td>\n",
       "      <td>1.000000</td>\n",
       "      <td>0.800949</td>\n",
       "      <td>0.252251</td>\n",
       "      <td>0.961872</td>\n",
       "      <td>0.412858</td>\n",
       "      <td>0.129911</td>\n",
       "      <td>0.931353</td>\n",
       "    </tr>\n",
       "    <tr>\n",
       "      <th>eu_sales</th>\n",
       "      <td>-0.126841</td>\n",
       "      <td>0.800949</td>\n",
       "      <td>1.000000</td>\n",
       "      <td>0.185375</td>\n",
       "      <td>0.930855</td>\n",
       "      <td>0.287064</td>\n",
       "      <td>0.003411</td>\n",
       "      <td>0.915923</td>\n",
       "    </tr>\n",
       "    <tr>\n",
       "      <th>jp_sales</th>\n",
       "      <td>-0.103732</td>\n",
       "      <td>0.252251</td>\n",
       "      <td>0.185375</td>\n",
       "      <td>1.000000</td>\n",
       "      <td>0.241063</td>\n",
       "      <td>0.450181</td>\n",
       "      <td>0.373697</td>\n",
       "      <td>0.447466</td>\n",
       "    </tr>\n",
       "    <tr>\n",
       "      <th>other_sales</th>\n",
       "      <td>-0.144228</td>\n",
       "      <td>0.961872</td>\n",
       "      <td>0.930855</td>\n",
       "      <td>0.241063</td>\n",
       "      <td>1.000000</td>\n",
       "      <td>0.390738</td>\n",
       "      <td>0.108700</td>\n",
       "      <td>0.973750</td>\n",
       "    </tr>\n",
       "    <tr>\n",
       "      <th>critic_score</th>\n",
       "      <td>-0.044960</td>\n",
       "      <td>0.412858</td>\n",
       "      <td>0.287064</td>\n",
       "      <td>0.450181</td>\n",
       "      <td>0.390738</td>\n",
       "      <td>1.000000</td>\n",
       "      <td>0.693445</td>\n",
       "      <td>0.446575</td>\n",
       "    </tr>\n",
       "    <tr>\n",
       "      <th>user_score</th>\n",
       "      <td>-0.013439</td>\n",
       "      <td>0.129911</td>\n",
       "      <td>0.003411</td>\n",
       "      <td>0.373697</td>\n",
       "      <td>0.108700</td>\n",
       "      <td>0.693445</td>\n",
       "      <td>1.000000</td>\n",
       "      <td>0.156595</td>\n",
       "    </tr>\n",
       "    <tr>\n",
       "      <th>total_sales</th>\n",
       "      <td>-0.146313</td>\n",
       "      <td>0.931353</td>\n",
       "      <td>0.915923</td>\n",
       "      <td>0.447466</td>\n",
       "      <td>0.973750</td>\n",
       "      <td>0.446575</td>\n",
       "      <td>0.156595</td>\n",
       "      <td>1.000000</td>\n",
       "    </tr>\n",
       "  </tbody>\n",
       "</table>\n",
       "</div>"
      ],
      "text/plain": [
       "                 year_of_release  na_sales  eu_sales  jp_sales  other_sales  \\\n",
       "year_of_release         1.000000 -0.120256 -0.126841 -0.103732    -0.144228   \n",
       "na_sales               -0.120256  1.000000  0.800949  0.252251     0.961872   \n",
       "eu_sales               -0.126841  0.800949  1.000000  0.185375     0.930855   \n",
       "jp_sales               -0.103732  0.252251  0.185375  1.000000     0.241063   \n",
       "other_sales            -0.144228  0.961872  0.930855  0.241063     1.000000   \n",
       "critic_score           -0.044960  0.412858  0.287064  0.450181     0.390738   \n",
       "user_score             -0.013439  0.129911  0.003411  0.373697     0.108700   \n",
       "total_sales            -0.146313  0.931353  0.915923  0.447466     0.973750   \n",
       "\n",
       "                 critic_score  user_score  total_sales  \n",
       "year_of_release     -0.044960   -0.013439    -0.146313  \n",
       "na_sales             0.412858    0.129911     0.931353  \n",
       "eu_sales             0.287064    0.003411     0.915923  \n",
       "jp_sales             0.450181    0.373697     0.447466  \n",
       "other_sales          0.390738    0.108700     0.973750  \n",
       "critic_score         1.000000    0.693445     0.446575  \n",
       "user_score           0.693445    1.000000     0.156595  \n",
       "total_sales          0.446575    0.156595     1.000000  "
      ]
     },
     "execution_count": 37,
     "metadata": {},
     "output_type": "execute_result"
    }
   ],
   "source": [
    "#для надёжности проверим корреляции для ещё двух популярных платформ *PS3* и *X360*\n",
    "\n",
    "ps3 = actual_period[(actual_period['platform'] == 'PS3') & (actual_period['critic_score']>0) & (actual_period['user_score']>0)].copy()\n",
    "ps3.plot(x='user_score', y='total_sales', kind='scatter', alpha=0.3, figsize=(5,5), grid=True, title='Корреляция между отзывами и продажами.')\n",
    "plt.show()\n",
    "ps3.plot(x='critic_score', y='total_sales', kind='scatter', alpha=0.3, figsize=(5,5), grid=True, title='Корреляция между отзывами критиков и продажами.')\n",
    "plt.show()\n",
    "ps3.corr()"
   ]
  },
  {
   "cell_type": "code",
   "execution_count": 38,
   "metadata": {},
   "outputs": [
    {
     "data": {
      "image/png": "[encoded data removed]",
      "text/plain": [
       "<Figure size 500x500 with 1 Axes>"
      ]
     },
     "metadata": {},
     "output_type": "display_data"
    },
    {
     "data": {
      "image/png": "[encoded data removed]",
      "text/plain": [
       "<Figure size 500x500 with 1 Axes>"
      ]
     },
     "metadata": {},
     "output_type": "display_data"
    },
    {
     "name": "stderr",
     "output_type": "stream",
     "text": [
      "C:\\Users\\Alim\\AppData\\Local\\Temp\\ipykernel_8652\\4172242928.py:6: FutureWarning: The default value of numeric_only in DataFrame.corr is deprecated. In a future version, it will default to False. Select only valid columns or specify the value of numeric_only to silence this warning.\n",
      "  x360.corr()\n"
     ]
    },
    {
     "data": {
      "text/html": [
       "<div>\n",
       "<style scoped>\n",
       "    .dataframe tbody tr th:only-of-type {\n",
       "        vertical-align: middle;\n",
       "    }\n",
       "\n",
       "    .dataframe tbody tr th {\n",
       "        vertical-align: top;\n",
       "    }\n",
       "\n",
       "    .dataframe thead th {\n",
       "        text-align: right;\n",
       "    }\n",
       "</style>\n",
       "<table border=\"1\" class=\"dataframe\">\n",
       "  <thead>\n",
       "    <tr style=\"text-align: right;\">\n",
       "      <th></th>\n",
       "      <th>year_of_release</th>\n",
       "      <th>na_sales</th>\n",
       "      <th>eu_sales</th>\n",
       "      <th>jp_sales</th>\n",
       "      <th>other_sales</th>\n",
       "      <th>critic_score</th>\n",
       "      <th>user_score</th>\n",
       "      <th>total_sales</th>\n",
       "    </tr>\n",
       "  </thead>\n",
       "  <tbody>\n",
       "    <tr>\n",
       "      <th>year_of_release</th>\n",
       "      <td>NaN</td>\n",
       "      <td>NaN</td>\n",
       "      <td>NaN</td>\n",
       "      <td>NaN</td>\n",
       "      <td>NaN</td>\n",
       "      <td>NaN</td>\n",
       "      <td>NaN</td>\n",
       "      <td>NaN</td>\n",
       "    </tr>\n",
       "    <tr>\n",
       "      <th>na_sales</th>\n",
       "      <td>NaN</td>\n",
       "      <td>1.000000</td>\n",
       "      <td>0.868295</td>\n",
       "      <td>0.607244</td>\n",
       "      <td>0.992850</td>\n",
       "      <td>0.539778</td>\n",
       "      <td>0.333766</td>\n",
       "      <td>0.985611</td>\n",
       "    </tr>\n",
       "    <tr>\n",
       "      <th>eu_sales</th>\n",
       "      <td>NaN</td>\n",
       "      <td>0.868295</td>\n",
       "      <td>1.000000</td>\n",
       "      <td>0.304520</td>\n",
       "      <td>0.906479</td>\n",
       "      <td>0.443965</td>\n",
       "      <td>0.313098</td>\n",
       "      <td>0.939489</td>\n",
       "    </tr>\n",
       "    <tr>\n",
       "      <th>jp_sales</th>\n",
       "      <td>NaN</td>\n",
       "      <td>0.607244</td>\n",
       "      <td>0.304520</td>\n",
       "      <td>1.000000</td>\n",
       "      <td>0.564631</td>\n",
       "      <td>0.435430</td>\n",
       "      <td>0.087589</td>\n",
       "      <td>0.527556</td>\n",
       "    </tr>\n",
       "    <tr>\n",
       "      <th>other_sales</th>\n",
       "      <td>NaN</td>\n",
       "      <td>0.992850</td>\n",
       "      <td>0.906479</td>\n",
       "      <td>0.564631</td>\n",
       "      <td>1.000000</td>\n",
       "      <td>0.544409</td>\n",
       "      <td>0.342506</td>\n",
       "      <td>0.994262</td>\n",
       "    </tr>\n",
       "    <tr>\n",
       "      <th>critic_score</th>\n",
       "      <td>NaN</td>\n",
       "      <td>0.539778</td>\n",
       "      <td>0.443965</td>\n",
       "      <td>0.435430</td>\n",
       "      <td>0.544409</td>\n",
       "      <td>1.000000</td>\n",
       "      <td>0.625309</td>\n",
       "      <td>0.525723</td>\n",
       "    </tr>\n",
       "    <tr>\n",
       "      <th>user_score</th>\n",
       "      <td>NaN</td>\n",
       "      <td>0.333766</td>\n",
       "      <td>0.313098</td>\n",
       "      <td>0.087589</td>\n",
       "      <td>0.342506</td>\n",
       "      <td>0.625309</td>\n",
       "      <td>1.000000</td>\n",
       "      <td>0.336514</td>\n",
       "    </tr>\n",
       "    <tr>\n",
       "      <th>total_sales</th>\n",
       "      <td>NaN</td>\n",
       "      <td>0.985611</td>\n",
       "      <td>0.939489</td>\n",
       "      <td>0.527556</td>\n",
       "      <td>0.994262</td>\n",
       "      <td>0.525723</td>\n",
       "      <td>0.336514</td>\n",
       "      <td>1.000000</td>\n",
       "    </tr>\n",
       "  </tbody>\n",
       "</table>\n",
       "</div>"
      ],
      "text/plain": [
       "                 year_of_release  na_sales  eu_sales  jp_sales  other_sales  \\\n",
       "year_of_release              NaN       NaN       NaN       NaN          NaN   \n",
       "na_sales                     NaN  1.000000  0.868295  0.607244     0.992850   \n",
       "eu_sales                     NaN  0.868295  1.000000  0.304520     0.906479   \n",
       "jp_sales                     NaN  0.607244  0.304520  1.000000     0.564631   \n",
       "other_sales                  NaN  0.992850  0.906479  0.564631     1.000000   \n",
       "critic_score                 NaN  0.539778  0.443965  0.435430     0.544409   \n",
       "user_score                   NaN  0.333766  0.313098  0.087589     0.342506   \n",
       "total_sales                  NaN  0.985611  0.939489  0.527556     0.994262   \n",
       "\n",
       "                 critic_score  user_score  total_sales  \n",
       "year_of_release           NaN         NaN          NaN  \n",
       "na_sales             0.539778    0.333766     0.985611  \n",
       "eu_sales             0.443965    0.313098     0.939489  \n",
       "jp_sales             0.435430    0.087589     0.527556  \n",
       "other_sales          0.544409    0.342506     0.994262  \n",
       "critic_score         1.000000    0.625309     0.525723  \n",
       "user_score           0.625309    1.000000     0.336514  \n",
       "total_sales          0.525723    0.336514     1.000000  "
      ]
     },
     "execution_count": 38,
     "metadata": {},
     "output_type": "execute_result"
    }
   ],
   "source": [
    "x360 = actual_period[(actual_period['platform'] == 'X360') & (actual_period['critic_score']>0) & (actual_period['user_score']>0)].copy()\n",
    "x360.plot(x='user_score', y='total_sales', kind='scatter', alpha=0.3, figsize=(5,5), grid=True, title='Корреляция между отзывами и продажами.')\n",
    "plt.show()\n",
    "x360.plot(x='critic_score', y='total_sales', kind='scatter', alpha=0.3, figsize=(5,5), grid=True, title='Корреляция между отзывами критиков и продажами.')\n",
    "plt.show()\n",
    "x360.corr()"
   ]
  },
  {
   "cell_type": "markdown",
   "metadata": {},
   "source": [
    "Замена пропусков на *-1* и *tbd* на -2 позволила нам увидеть их на графиках и не учитывать в оценке корреляции."
   ]
  },
  {
   "cell_type": "markdown",
   "metadata": {},
   "source": [
    "Полученные графики и матрица корреляции на основе нескольких популярных платформ показывают, что хорошая оценка пользователей очень слабо коррелирует с высоким уровнем продаж игры. В то же время видна корреляция между продажами и оценкой критиков. То есть можно сделать вывод, что критики оценивают более объективно."
   ]
  },
  {
   "cell_type": "markdown",
   "metadata": {},
   "source": [
    "#### Посмотрим на общее распределение игр по жанрам."
   ]
  },
  {
   "cell_type": "code",
   "execution_count": 39,
   "metadata": {},
   "outputs": [
    {
     "data": {
      "image/png": "[encoded data removed]",
      "text/plain": [
       "<Figure size 1500x500 with 1 Axes>"
      ]
     },
     "metadata": {},
     "output_type": "display_data"
    }
   ],
   "source": [
    "actual_period.pivot_table(index='genre', values='total_sales', aggfunc='median').boxplot(column='total_sales', by='genre', figsize=(15,5))\n",
    "plt.show()"
   ]
  },
  {
   "cell_type": "markdown",
   "metadata": {},
   "source": [
    "Что можно сказать о самых прибыльных жанрах? Выделяются ли жанры с высокими и низкими продажами?\n",
    "\n",
    "Наибольшую прибыль приносят игры в жанрах: **Platform**, **Shooter** и **Sports**. С существенным отрывом лидируют шутеры, на их продажи имеет смысл сделать акцент в 2017 году."
   ]
  },
  {
   "cell_type": "markdown",
   "metadata": {},
   "source": [
    "### Составим портрет пользователя каждого региона"
   ]
  },
  {
   "cell_type": "markdown",
   "metadata": {},
   "source": [
    "**Определим для пользователя каждого региона (NA, EU, JP):**"
   ]
  },
  {
   "cell_type": "markdown",
   "metadata": {},
   "source": [
    "#### Самые популярные платформы (ТОП-5). Опишите различия в долях продаж."
   ]
  },
  {
   "cell_type": "code",
   "execution_count": 40,
   "metadata": {},
   "outputs": [
    {
     "data": {
      "image/png": "[encoded data removed]",
      "text/plain": [
       "<Figure size 1500x500 with 1 Axes>"
      ]
     },
     "metadata": {},
     "output_type": "display_data"
    },
    {
     "data": {
      "image/png": "[encoded data removed]",
      "text/plain": [
       "<Figure size 1500x500 with 1 Axes>"
      ]
     },
     "metadata": {},
     "output_type": "display_data"
    },
    {
     "data": {
      "image/png": "[encoded data removed]",
      "text/plain": [
       "<Figure size 1500x500 with 1 Axes>"
      ]
     },
     "metadata": {},
     "output_type": "display_data"
    }
   ],
   "source": [
    "actual_period.pivot_table(index='platform', values='na_sales', aggfunc='sum').sort_values(ascending=False, by='na_sales').plot(kind='bar', figsize=(15,5), title='Северная Америка');\n",
    "actual_period.pivot_table(index='platform', values='jp_sales', aggfunc='sum').sort_values(ascending=False, by='jp_sales').plot(kind='bar', figsize=(15,5), title='Япония');\n",
    "actual_period.pivot_table(index = 'platform', values = 'eu_sales', aggfunc = 'sum').sort_values(ascending=False, by = 'eu_sales').plot(kind = 'bar', figsize=(15,5), title='Европа');"
   ]
  },
  {
   "cell_type": "markdown",
   "metadata": {},
   "source": [
    "Полученные  графики показывают, что в Северной Америке самая популярная игровая консоль - **X360**, в Японии - **3DS**, а в Европе - **PS3**. При этом консоли **PS3** и **PS4** входят в ТОП-3 всех регионов, наряду со вхождением в ТОП-3 консоли **PSP** в Японии. Из этого можно сделать вывод, что компания **Sony** является устойчивым лидером продаж на игровом рынке. Также можно сделать вывод, что в ТОП-5 практически везде входят платформы: **PS-3**, **PS-4**, **3DS**, **X360** - крупные игроки, выпускающие эксклюзивные игры. Можно также отметить, что жители Европы также предпочитают играть на **PC**, жители Японии предпочитают консоли своей страны от компании Sony, а жители Северной Америки X360 и XOne - продукт американской компании Microsoft, вероятно это значит, что США и Япония лучше ориентируются на рынке своих стран и в Европе отсутствует игрок, который может себя им противопоставить."
   ]
  },
  {
   "cell_type": "markdown",
   "metadata": {},
   "source": [
    "#### Самые популярные жанры (топ-5). Поясните разницу."
   ]
  },
  {
   "cell_type": "code",
   "execution_count": 41,
   "metadata": {
    "scrolled": false
   },
   "outputs": [
    {
     "data": {
      "image/png": "[encoded data removed]",
      "text/plain": [
       "<Figure size 1500x500 with 1 Axes>"
      ]
     },
     "metadata": {},
     "output_type": "display_data"
    },
    {
     "data": {
      "image/png": "[encoded data removed]",
      "text/plain": [
       "<Figure size 1500x500 with 1 Axes>"
      ]
     },
     "metadata": {},
     "output_type": "display_data"
    },
    {
     "data": {
      "image/png": "[encoded data removed]",
      "text/plain": [
       "<Figure size 1500x500 with 1 Axes>"
      ]
     },
     "metadata": {},
     "output_type": "display_data"
    }
   ],
   "source": [
    "actual_period.pivot_table(index='genre', values='na_sales', aggfunc='sum').sort_values(ascending=False, by='na_sales').plot(kind='bar', figsize=(15,5), title='Северная Америка');\n",
    "actual_period.pivot_table(index='genre', values='jp_sales', aggfunc='sum').sort_values(ascending=False, by='jp_sales').plot(kind='bar', figsize=(15,5), title='Япония');\n",
    "actual_period.pivot_table(index = 'genre', values = 'eu_sales', aggfunc = 'sum').sort_values(ascending=False, by = 'eu_sales').plot(kind = 'bar', figsize=(15,5), title='Европа');\n"
   ]
  },
  {
   "cell_type": "markdown",
   "metadata": {},
   "source": [
    "В ТОП-5 жанров во всех трёх регионах входят жанры **Action** и **Role-Playing**, в двух из трёх присутствуют жанры **Shooter**, **Sports**, **Racing**. Предпочтения японцев также отличает любовь к жанрам **Misc**, **Fighting** и **Platform**."
   ]
  },
  {
   "cell_type": "markdown",
   "metadata": {},
   "source": [
    "#### Влияет ли рейтинг ESRB на продажи в отдельном регионе?"
   ]
  },
  {
   "cell_type": "code",
   "execution_count": 42,
   "metadata": {},
   "outputs": [
    {
     "data": {
      "text/html": [
       "<div>\n",
       "<style scoped>\n",
       "    .dataframe tbody tr th:only-of-type {\n",
       "        vertical-align: middle;\n",
       "    }\n",
       "\n",
       "    .dataframe tbody tr th {\n",
       "        vertical-align: top;\n",
       "    }\n",
       "\n",
       "    .dataframe thead th {\n",
       "        text-align: right;\n",
       "    }\n",
       "</style>\n",
       "<table border=\"1\" class=\"dataframe\">\n",
       "  <thead>\n",
       "    <tr style=\"text-align: right;\">\n",
       "      <th></th>\n",
       "      <th>eu_sales</th>\n",
       "      <th>jp_sales</th>\n",
       "      <th>na_sales</th>\n",
       "    </tr>\n",
       "    <tr>\n",
       "      <th>rating</th>\n",
       "      <th></th>\n",
       "      <th></th>\n",
       "      <th></th>\n",
       "    </tr>\n",
       "  </thead>\n",
       "  <tbody>\n",
       "    <tr>\n",
       "      <th>E</th>\n",
       "      <td>58.06</td>\n",
       "      <td>8.94</td>\n",
       "      <td>50.74</td>\n",
       "    </tr>\n",
       "    <tr>\n",
       "      <th>E10+</th>\n",
       "      <td>26.16</td>\n",
       "      <td>4.46</td>\n",
       "      <td>33.23</td>\n",
       "    </tr>\n",
       "    <tr>\n",
       "      <th>M</th>\n",
       "      <td>93.44</td>\n",
       "      <td>8.01</td>\n",
       "      <td>96.42</td>\n",
       "    </tr>\n",
       "    <tr>\n",
       "      <th>T</th>\n",
       "      <td>34.07</td>\n",
       "      <td>14.78</td>\n",
       "      <td>38.95</td>\n",
       "    </tr>\n",
       "    <tr>\n",
       "      <th>Отсутствует</th>\n",
       "      <td>58.95</td>\n",
       "      <td>56.90</td>\n",
       "      <td>64.72</td>\n",
       "    </tr>\n",
       "  </tbody>\n",
       "</table>\n",
       "</div>"
      ],
      "text/plain": [
       "             eu_sales  jp_sales  na_sales\n",
       "rating                                   \n",
       "E               58.06      8.94     50.74\n",
       "E10+            26.16      4.46     33.23\n",
       "M               93.44      8.01     96.42\n",
       "T               34.07     14.78     38.95\n",
       "Отсутствует     58.95     56.90     64.72"
      ]
     },
     "execution_count": 42,
     "metadata": {},
     "output_type": "execute_result"
    }
   ],
   "source": [
    "esrb_rating = actual_period.pivot_table(index = 'rating', values = ['na_sales', 'jp_sales', 'eu_sales'], aggfunc = 'sum')\n",
    "esrb_rating"
   ]
  },
  {
   "cell_type": "markdown",
   "metadata": {},
   "source": [
    "Предпочтения пользователей из разных регионов действительно зависят от возрастного рейтинга игры. Нужно учитывать региональные особенности и выводить на рынок игры, с рейтингом, который больше предпочитают пользователи."
   ]
  },
  {
   "cell_type": "markdown",
   "metadata": {},
   "source": [
    "### Проверим гипотезы"
   ]
  },
  {
   "cell_type": "markdown",
   "metadata": {},
   "source": [
    "Средние пользовательские рейтинги платформ Xbox One и PC одинаковые"
   ]
  },
  {
   "cell_type": "code",
   "execution_count": 43,
   "metadata": {},
   "outputs": [
    {
     "name": "stdout",
     "output_type": "stream",
     "text": [
      "Средний user_score платформы Xbox One: 6.594545454545456\n",
      "Средний user_score платформы PC 6.298360655737705\n"
     ]
    }
   ],
   "source": [
    "XOne = actual_period[(actual_period['platform'] == 'XOne') &  (actual_period['user_score'] > 0)]['user_score']\n",
    "PC = actual_period[(actual_period['platform'] == 'PC') &  (actual_period['user_score'] > 0)]['user_score']\n",
    "print('Средний user_score платформы Xbox One:', XOne.mean())\n",
    "print('Средний user_score платформы PC', PC.mean())"
   ]
  },
  {
   "cell_type": "code",
   "execution_count": 44,
   "metadata": {},
   "outputs": [
    {
     "name": "stdout",
     "output_type": "stream",
     "text": [
      "p-значение: 0.11601398086668835\n",
      "Гипотеза подтвердилась\n"
     ]
    }
   ],
   "source": [
    "alpha = .05\n",
    "\n",
    "results = st.ttest_ind(XOne, PC, equal_var=False)\n",
    "\n",
    "print('p-значение:', results.pvalue)\n",
    "\n",
    "\n",
    "if (results.pvalue < alpha):\n",
    "    print(\"Гипотеза не подтвердилась\")\n",
    "else:\n",
    "    print(\"Гипотеза подтвердилась\")"
   ]
  },
  {
   "cell_type": "markdown",
   "metadata": {},
   "source": [
    "Средние пользовательские рейтинги жанров Action (англ. «действие», экшен-игры) и Sports (англ. «спортивные соревнования») разные."
   ]
  },
  {
   "cell_type": "code",
   "execution_count": 45,
   "metadata": {},
   "outputs": [
    {
     "name": "stdout",
     "output_type": "stream",
     "text": [
      "Средний user_score жанра Action: 6.760606060606061\n",
      "Средний user_score жанра Sports 5.2251968503937\n"
     ]
    }
   ],
   "source": [
    "action = actual_period[(actual_period['genre'] == 'Action') &  (actual_period['user_score'] > 0)]['user_score']\n",
    "sports = actual_period[(actual_period['genre'] == 'Sports') &  (actual_period['user_score'] > 0)]['user_score']\n",
    "print('Средний user_score жанра Action:', action.mean())\n",
    "print('Средний user_score жанра Sports', sports.mean())"
   ]
  },
  {
   "cell_type": "code",
   "execution_count": 46,
   "metadata": {},
   "outputs": [
    {
     "name": "stdout",
     "output_type": "stream",
     "text": [
      "p-значение: 1.1825550382644557e-14\n",
      "Гипотеза не подтвердилась\n"
     ]
    }
   ],
   "source": [
    "alpha = .05\n",
    "\n",
    "results = st.ttest_ind(action, sports, equal_var=False)\n",
    "\n",
    "print('p-значение:', results.pvalue)\n",
    "\n",
    "\n",
    "if (results.pvalue < alpha):\n",
    "    print(\"Гипотеза не подтвердилась\")\n",
    "else:\n",
    "    print(\"Гипотеза подтвердилась\")"
   ]
  },
  {
   "cell_type": "markdown",
   "metadata": {},
   "source": [
    "По итогам этого этапа исследования мы получили портрет пользователя в трёх регионах мира и выявили различия в их жанровых предпочтениях и популярности игровых платформ. Стоит обратить внимание, что шутеры отлично продаются во всём мире. Важный вывод состоит в том, что игры с разным возрастным рейтингом по-разному продаются в мире. Проверка гипотез показала, что у нас есть основания полагать, что средние пользовательские рейтинги платформ Xbox One и PC и рейтинги жанров Action, Sports одинаковые."
   ]
  },
  {
   "cell_type": "markdown",
   "metadata": {},
   "source": [
    "# Вывод"
   ]
  },
  {
   "cell_type": "markdown",
   "metadata": {},
   "source": [
    "Цель исследования была в выявлении определяющих успешность игры закономерностей. По его итогам можно сделать вывод, что есть региональные особенности на рынке игр, но в то же время стоит сделать упор на продажу продуктов компании SONY, платформы которой популярны везде. Можно также обратить внимание на предпочтения пользователей разных регионов в зависимости от возрастного рейтинга, этот показатель является очень важным. Если учитывать жанровые предпочтения, то лучше всего будут продаваться игры жанров Shooter, на их продажи стоит сделать акцент в первую очередь.\n",
    "\n",
    "Для успеха продаж в 2017 году нужно:\n",
    "\n",
    "- продавать больше игр жанра Shooter по всему миру\n",
    "- акцентировать внимание на продажи игрф для следующих платформ: 'DS', 'Wii', 'PS3', 'X360', 'PS2'\n",
    "- В разных регионах продавать больше игр с наиболее популярным возрастным рейтингом. В Северной Америке и Европе - M, в Японии E."
   ]
  }
 ],
 "metadata": {
  "ExecuteTimeLog": [
   {
    "duration": 104,
    "start_time": "2022-10-13T07:43:08.631Z"
   },
   {
    "duration": 71,
    "start_time": "2022-10-13T07:43:32.591Z"
   },
   {
    "duration": 688,
    "start_time": "2022-10-13T07:53:19.150Z"
   },
   {
    "duration": 3,
    "start_time": "2022-10-13T07:54:15.980Z"
   },
   {
    "duration": 3,
    "start_time": "2022-10-13T07:55:41.114Z"
   },
   {
    "duration": 67,
    "start_time": "2022-10-13T08:13:53.515Z"
   },
   {
    "duration": 74,
    "start_time": "2022-10-13T08:14:01.461Z"
   },
   {
    "duration": 38,
    "start_time": "2022-10-13T08:14:09.272Z"
   },
   {
    "duration": 55,
    "start_time": "2022-10-13T08:14:15.160Z"
   },
   {
    "duration": 7,
    "start_time": "2022-10-13T08:14:48.928Z"
   },
   {
    "duration": 14,
    "start_time": "2022-10-13T08:14:53.176Z"
   },
   {
    "duration": 8,
    "start_time": "2022-10-13T08:15:03.279Z"
   },
   {
    "duration": 7,
    "start_time": "2022-10-13T08:15:09.293Z"
   },
   {
    "duration": 27,
    "start_time": "2022-10-13T08:15:16.248Z"
   },
   {
    "duration": 7,
    "start_time": "2022-10-13T08:20:28.947Z"
   },
   {
    "duration": 18,
    "start_time": "2022-10-13T08:20:33.379Z"
   },
   {
    "duration": 3,
    "start_time": "2022-10-13T08:21:25.451Z"
   },
   {
    "duration": 13,
    "start_time": "2022-10-13T08:46:50.915Z"
   },
   {
    "duration": 20,
    "start_time": "2022-10-13T08:56:09.184Z"
   },
   {
    "duration": 7,
    "start_time": "2022-10-13T08:59:38.429Z"
   },
   {
    "duration": 19,
    "start_time": "2022-10-13T08:59:42.366Z"
   },
   {
    "duration": 13,
    "start_time": "2022-10-13T08:59:49.038Z"
   },
   {
    "duration": 6,
    "start_time": "2022-10-13T09:00:05.434Z"
   },
   {
    "duration": 6,
    "start_time": "2022-10-13T09:00:14.806Z"
   },
   {
    "duration": 13,
    "start_time": "2022-10-13T09:00:51.430Z"
   },
   {
    "duration": 11,
    "start_time": "2022-10-13T09:00:55.613Z"
   },
   {
    "duration": 11,
    "start_time": "2022-10-13T09:01:41.300Z"
   },
   {
    "duration": 12,
    "start_time": "2022-10-13T09:01:51.493Z"
   },
   {
    "duration": 7,
    "start_time": "2022-10-13T09:16:10.386Z"
   },
   {
    "duration": 7,
    "start_time": "2022-10-13T09:16:13.323Z"
   },
   {
    "duration": 9,
    "start_time": "2022-10-13T09:16:18.482Z"
   },
   {
    "duration": 11,
    "start_time": "2022-10-13T09:16:24.234Z"
   },
   {
    "duration": 8,
    "start_time": "2022-10-13T09:16:30.409Z"
   },
   {
    "duration": 7,
    "start_time": "2022-10-13T09:16:33.697Z"
   },
   {
    "duration": 7,
    "start_time": "2022-10-13T09:16:40.761Z"
   },
   {
    "duration": 12,
    "start_time": "2022-10-13T09:16:45.850Z"
   },
   {
    "duration": 11,
    "start_time": "2022-10-13T09:17:25.216Z"
   },
   {
    "duration": 660,
    "start_time": "2022-10-13T09:19:33.064Z"
   },
   {
    "duration": 7,
    "start_time": "2022-10-13T09:20:05.984Z"
   },
   {
    "duration": 11,
    "start_time": "2022-10-13T09:20:09.103Z"
   },
   {
    "duration": 480,
    "start_time": "2022-10-13T11:16:18.750Z"
   },
   {
    "duration": 48,
    "start_time": "2022-10-13T11:24:01.184Z"
   },
   {
    "duration": 13,
    "start_time": "2022-10-13T11:24:30.591Z"
   },
   {
    "duration": 31,
    "start_time": "2022-10-13T11:26:43.240Z"
   },
   {
    "duration": 7,
    "start_time": "2022-10-13T11:26:55.980Z"
   },
   {
    "duration": 15,
    "start_time": "2022-10-13T11:27:03.124Z"
   },
   {
    "duration": 20,
    "start_time": "2022-10-13T11:28:56.547Z"
   },
   {
    "duration": 13,
    "start_time": "2022-10-13T11:29:01.043Z"
   },
   {
    "duration": 14,
    "start_time": "2022-10-13T11:29:25.011Z"
   },
   {
    "duration": 8,
    "start_time": "2022-10-13T11:31:19.985Z"
   },
   {
    "duration": 8,
    "start_time": "2022-10-13T11:31:23.944Z"
   },
   {
    "duration": 7,
    "start_time": "2022-10-13T11:31:25.397Z"
   },
   {
    "duration": 12,
    "start_time": "2022-10-13T11:31:47.536Z"
   },
   {
    "duration": 5,
    "start_time": "2022-10-13T11:35:39.069Z"
   },
   {
    "duration": 6,
    "start_time": "2022-10-13T11:35:44.940Z"
   },
   {
    "duration": 7,
    "start_time": "2022-10-13T11:35:47.725Z"
   },
   {
    "duration": 5,
    "start_time": "2022-10-13T11:35:57.774Z"
   },
   {
    "duration": 8,
    "start_time": "2022-10-13T11:36:00.765Z"
   },
   {
    "duration": 6,
    "start_time": "2022-10-13T11:36:18.540Z"
   },
   {
    "duration": 10,
    "start_time": "2022-10-13T11:36:34.437Z"
   },
   {
    "duration": 4,
    "start_time": "2022-10-13T11:36:37.877Z"
   },
   {
    "duration": 5,
    "start_time": "2022-10-13T11:36:49.436Z"
   },
   {
    "duration": 12,
    "start_time": "2022-10-13T13:13:36.986Z"
   },
   {
    "duration": 9,
    "start_time": "2022-10-13T13:15:56.748Z"
   },
   {
    "duration": 10,
    "start_time": "2022-10-13T13:16:20.518Z"
   },
   {
    "duration": 6,
    "start_time": "2022-10-13T13:16:24.764Z"
   },
   {
    "duration": 5,
    "start_time": "2022-10-13T13:17:09.954Z"
   },
   {
    "duration": 6,
    "start_time": "2022-10-13T13:17:15.219Z"
   },
   {
    "duration": 9,
    "start_time": "2022-10-13T13:17:24.171Z"
   },
   {
    "duration": 8,
    "start_time": "2022-10-13T13:17:27.789Z"
   },
   {
    "duration": 9,
    "start_time": "2022-10-13T13:17:32.012Z"
   },
   {
    "duration": 10,
    "start_time": "2022-10-13T13:17:51.749Z"
   },
   {
    "duration": 11,
    "start_time": "2022-10-13T13:17:58.491Z"
   },
   {
    "duration": 7,
    "start_time": "2022-10-13T13:18:07.856Z"
   },
   {
    "duration": 9,
    "start_time": "2022-10-13T13:19:18.098Z"
   },
   {
    "duration": 1093,
    "start_time": "2022-10-13T13:19:26.447Z"
   },
   {
    "duration": 60,
    "start_time": "2022-10-13T13:19:27.543Z"
   },
   {
    "duration": 16,
    "start_time": "2022-10-13T13:19:27.606Z"
   },
   {
    "duration": 4,
    "start_time": "2022-10-13T13:19:27.624Z"
   },
   {
    "duration": 12,
    "start_time": "2022-10-13T13:19:27.630Z"
   },
   {
    "duration": 8,
    "start_time": "2022-10-13T13:19:27.644Z"
   },
   {
    "duration": 19,
    "start_time": "2022-10-13T13:19:27.653Z"
   },
   {
    "duration": 77,
    "start_time": "2022-10-13T13:19:27.675Z"
   },
   {
    "duration": 6,
    "start_time": "2022-10-13T13:19:27.753Z"
   },
   {
    "duration": 10,
    "start_time": "2022-10-13T13:19:27.761Z"
   },
   {
    "duration": 15,
    "start_time": "2022-10-13T13:19:27.772Z"
   },
   {
    "duration": 28,
    "start_time": "2022-10-13T13:19:27.789Z"
   },
   {
    "duration": 10,
    "start_time": "2022-10-13T13:19:27.818Z"
   },
   {
    "duration": 12,
    "start_time": "2022-10-13T13:19:27.830Z"
   },
   {
    "duration": 57,
    "start_time": "2022-10-13T13:19:37.182Z"
   },
   {
    "duration": 5,
    "start_time": "2022-10-13T13:19:46.853Z"
   },
   {
    "duration": 5,
    "start_time": "2022-10-13T13:19:59.123Z"
   },
   {
    "duration": 10,
    "start_time": "2022-10-13T13:21:05.947Z"
   },
   {
    "duration": 11,
    "start_time": "2022-10-13T13:21:15.427Z"
   },
   {
    "duration": 12,
    "start_time": "2022-10-13T13:21:24.683Z"
   },
   {
    "duration": 30,
    "start_time": "2022-10-13T13:21:34.745Z"
   },
   {
    "duration": 12,
    "start_time": "2022-10-13T13:21:53.339Z"
   },
   {
    "duration": 8,
    "start_time": "2022-10-13T13:22:57.371Z"
   },
   {
    "duration": 5,
    "start_time": "2022-10-13T13:23:03.171Z"
   },
   {
    "duration": 10,
    "start_time": "2022-10-13T13:24:39.161Z"
   },
   {
    "duration": 81,
    "start_time": "2022-10-13T13:24:45.810Z"
   },
   {
    "duration": 8,
    "start_time": "2022-10-13T13:24:52.056Z"
   },
   {
    "duration": 2,
    "start_time": "2022-10-13T13:34:45.310Z"
   },
   {
    "duration": 7,
    "start_time": "2022-10-13T13:34:50.062Z"
   },
   {
    "duration": 4,
    "start_time": "2022-10-13T13:34:51.607Z"
   },
   {
    "duration": 4,
    "start_time": "2022-10-13T13:34:53.231Z"
   },
   {
    "duration": 5,
    "start_time": "2022-10-13T13:35:13.885Z"
   },
   {
    "duration": 7,
    "start_time": "2022-10-13T13:35:16.034Z"
   },
   {
    "duration": 5,
    "start_time": "2022-10-13T13:35:18.002Z"
   },
   {
    "duration": 11,
    "start_time": "2022-10-13T13:35:26.856Z"
   },
   {
    "duration": 4,
    "start_time": "2022-10-13T13:35:27.976Z"
   },
   {
    "duration": 6,
    "start_time": "2022-10-13T13:35:28.994Z"
   },
   {
    "duration": 3,
    "start_time": "2022-10-13T13:35:35.291Z"
   },
   {
    "duration": 55,
    "start_time": "2022-10-13T13:35:35.296Z"
   },
   {
    "duration": 12,
    "start_time": "2022-10-13T13:35:35.353Z"
   },
   {
    "duration": 5,
    "start_time": "2022-10-13T13:35:35.366Z"
   },
   {
    "duration": 8,
    "start_time": "2022-10-13T13:35:35.372Z"
   },
   {
    "duration": 7,
    "start_time": "2022-10-13T13:35:35.381Z"
   },
   {
    "duration": 22,
    "start_time": "2022-10-13T13:35:35.389Z"
   },
   {
    "duration": 13,
    "start_time": "2022-10-13T13:35:35.412Z"
   },
   {
    "duration": 6,
    "start_time": "2022-10-13T13:35:35.427Z"
   },
   {
    "duration": 6,
    "start_time": "2022-10-13T13:35:35.434Z"
   },
   {
    "duration": 21,
    "start_time": "2022-10-13T13:35:35.442Z"
   },
   {
    "duration": 7,
    "start_time": "2022-10-13T13:35:35.464Z"
   },
   {
    "duration": 11,
    "start_time": "2022-10-13T13:35:35.473Z"
   },
   {
    "duration": 92,
    "start_time": "2022-10-13T13:35:35.485Z"
   },
   {
    "duration": 11,
    "start_time": "2022-10-13T13:36:19.284Z"
   },
   {
    "duration": 8,
    "start_time": "2022-10-13T13:37:43.827Z"
   },
   {
    "duration": 3,
    "start_time": "2022-10-13T13:38:16.087Z"
   },
   {
    "duration": 73,
    "start_time": "2022-10-13T13:38:16.092Z"
   },
   {
    "duration": 13,
    "start_time": "2022-10-13T13:38:16.166Z"
   },
   {
    "duration": 5,
    "start_time": "2022-10-13T13:38:16.180Z"
   },
   {
    "duration": 11,
    "start_time": "2022-10-13T13:38:16.187Z"
   },
   {
    "duration": 5,
    "start_time": "2022-10-13T13:38:16.199Z"
   },
   {
    "duration": 4,
    "start_time": "2022-10-13T13:38:16.205Z"
   },
   {
    "duration": 16,
    "start_time": "2022-10-13T13:38:16.211Z"
   },
   {
    "duration": 6,
    "start_time": "2022-10-13T13:38:16.229Z"
   },
   {
    "duration": 9,
    "start_time": "2022-10-13T13:38:16.237Z"
   },
   {
    "duration": 6,
    "start_time": "2022-10-13T13:38:16.248Z"
   },
   {
    "duration": 7,
    "start_time": "2022-10-13T13:38:16.255Z"
   },
   {
    "duration": 9,
    "start_time": "2022-10-13T13:38:16.264Z"
   },
   {
    "duration": 31,
    "start_time": "2022-10-13T13:38:16.274Z"
   },
   {
    "duration": 0,
    "start_time": "2022-10-13T13:38:16.307Z"
   },
   {
    "duration": 4,
    "start_time": "2022-10-13T13:40:31.833Z"
   },
   {
    "duration": 5,
    "start_time": "2022-10-13T13:40:34.026Z"
   },
   {
    "duration": 6,
    "start_time": "2022-10-13T13:40:42.568Z"
   },
   {
    "duration": 4,
    "start_time": "2022-10-13T13:40:47.208Z"
   },
   {
    "duration": 6,
    "start_time": "2022-10-13T13:40:55.016Z"
   },
   {
    "duration": 4,
    "start_time": "2022-10-13T13:40:58.491Z"
   },
   {
    "duration": 12,
    "start_time": "2022-10-13T13:48:16.452Z"
   },
   {
    "duration": 8,
    "start_time": "2022-10-13T13:48:17.484Z"
   },
   {
    "duration": 8,
    "start_time": "2022-10-13T13:48:18.314Z"
   },
   {
    "duration": 7,
    "start_time": "2022-10-13T13:48:22.809Z"
   },
   {
    "duration": 7,
    "start_time": "2022-10-13T13:48:23.898Z"
   },
   {
    "duration": 7,
    "start_time": "2022-10-13T13:48:25.026Z"
   },
   {
    "duration": 6,
    "start_time": "2022-10-13T13:48:32.875Z"
   },
   {
    "duration": 4,
    "start_time": "2022-10-13T13:49:22.777Z"
   },
   {
    "duration": 7,
    "start_time": "2022-10-13T13:49:29.267Z"
   },
   {
    "duration": 4,
    "start_time": "2022-10-13T13:49:42.099Z"
   },
   {
    "duration": 7,
    "start_time": "2022-10-13T13:49:43.201Z"
   },
   {
    "duration": 5,
    "start_time": "2022-10-13T13:52:45.297Z"
   },
   {
    "duration": 5,
    "start_time": "2022-10-13T13:52:51.709Z"
   },
   {
    "duration": 4,
    "start_time": "2022-10-13T13:52:55.337Z"
   },
   {
    "duration": 4,
    "start_time": "2022-10-13T13:53:09.559Z"
   },
   {
    "duration": 4,
    "start_time": "2022-10-13T13:53:10.679Z"
   },
   {
    "duration": 6,
    "start_time": "2022-10-13T13:53:14.917Z"
   },
   {
    "duration": 3,
    "start_time": "2022-10-13T13:53:22.121Z"
   },
   {
    "duration": 89,
    "start_time": "2022-10-13T13:53:22.126Z"
   },
   {
    "duration": 11,
    "start_time": "2022-10-13T13:53:22.216Z"
   },
   {
    "duration": 9,
    "start_time": "2022-10-13T13:53:22.229Z"
   },
   {
    "duration": 20,
    "start_time": "2022-10-13T13:53:22.241Z"
   },
   {
    "duration": 31,
    "start_time": "2022-10-13T13:53:22.262Z"
   },
   {
    "duration": 30,
    "start_time": "2022-10-13T13:53:22.294Z"
   },
   {
    "duration": 19,
    "start_time": "2022-10-13T13:53:22.325Z"
   },
   {
    "duration": 7,
    "start_time": "2022-10-13T13:53:22.345Z"
   },
   {
    "duration": 11,
    "start_time": "2022-10-13T13:53:22.353Z"
   },
   {
    "duration": 9,
    "start_time": "2022-10-13T13:53:22.366Z"
   },
   {
    "duration": 16,
    "start_time": "2022-10-13T13:53:22.377Z"
   },
   {
    "duration": 7,
    "start_time": "2022-10-13T13:53:22.394Z"
   },
   {
    "duration": 16,
    "start_time": "2022-10-13T13:53:22.403Z"
   },
   {
    "duration": 7,
    "start_time": "2022-10-13T13:53:22.421Z"
   },
   {
    "duration": 6,
    "start_time": "2022-10-13T13:53:40.533Z"
   },
   {
    "duration": 4,
    "start_time": "2022-10-13T13:54:28.628Z"
   },
   {
    "duration": 5,
    "start_time": "2022-10-13T13:54:40.332Z"
   },
   {
    "duration": 7,
    "start_time": "2022-10-13T13:54:50.998Z"
   },
   {
    "duration": 3,
    "start_time": "2022-10-13T13:55:28.984Z"
   },
   {
    "duration": 3,
    "start_time": "2022-10-13T13:55:31.991Z"
   },
   {
    "duration": 75,
    "start_time": "2022-10-13T13:55:31.997Z"
   },
   {
    "duration": 11,
    "start_time": "2022-10-13T13:55:32.074Z"
   },
   {
    "duration": 9,
    "start_time": "2022-10-13T13:55:32.086Z"
   },
   {
    "duration": 14,
    "start_time": "2022-10-13T13:55:32.097Z"
   },
   {
    "duration": 12,
    "start_time": "2022-10-13T13:55:32.113Z"
   },
   {
    "duration": 25,
    "start_time": "2022-10-13T13:55:32.126Z"
   },
   {
    "duration": 19,
    "start_time": "2022-10-13T13:55:32.152Z"
   },
   {
    "duration": 14,
    "start_time": "2022-10-13T13:55:32.173Z"
   },
   {
    "duration": 11,
    "start_time": "2022-10-13T13:55:32.188Z"
   },
   {
    "duration": 5,
    "start_time": "2022-10-13T13:55:32.201Z"
   },
   {
    "duration": 15,
    "start_time": "2022-10-13T13:55:32.207Z"
   },
   {
    "duration": 10,
    "start_time": "2022-10-13T13:55:32.223Z"
   },
   {
    "duration": 16,
    "start_time": "2022-10-13T13:55:32.234Z"
   },
   {
    "duration": 9,
    "start_time": "2022-10-13T13:55:32.251Z"
   },
   {
    "duration": 4,
    "start_time": "2022-10-13T13:57:21.699Z"
   },
   {
    "duration": 6,
    "start_time": "2022-10-13T13:57:36.979Z"
   },
   {
    "duration": 5,
    "start_time": "2022-10-13T13:58:15.666Z"
   },
   {
    "duration": 5,
    "start_time": "2022-10-13T13:58:25.594Z"
   },
   {
    "duration": 6,
    "start_time": "2022-10-13T13:59:15.449Z"
   },
   {
    "duration": 6,
    "start_time": "2022-10-13T13:59:26.233Z"
   },
   {
    "duration": 3,
    "start_time": "2022-10-13T14:00:04.453Z"
   },
   {
    "duration": 85,
    "start_time": "2022-10-13T14:00:04.458Z"
   },
   {
    "duration": 15,
    "start_time": "2022-10-13T14:00:04.545Z"
   },
   {
    "duration": 36,
    "start_time": "2022-10-13T14:00:04.562Z"
   },
   {
    "duration": 35,
    "start_time": "2022-10-13T14:00:04.601Z"
   },
   {
    "duration": 23,
    "start_time": "2022-10-13T14:00:04.638Z"
   },
   {
    "duration": 45,
    "start_time": "2022-10-13T14:00:04.663Z"
   },
   {
    "duration": 25,
    "start_time": "2022-10-13T14:00:04.709Z"
   },
   {
    "duration": 28,
    "start_time": "2022-10-13T14:00:04.736Z"
   },
   {
    "duration": 36,
    "start_time": "2022-10-13T14:00:04.766Z"
   },
   {
    "duration": 10,
    "start_time": "2022-10-13T14:00:04.804Z"
   },
   {
    "duration": 26,
    "start_time": "2022-10-13T14:00:04.816Z"
   },
   {
    "duration": 28,
    "start_time": "2022-10-13T14:00:04.843Z"
   },
   {
    "duration": 28,
    "start_time": "2022-10-13T14:00:04.872Z"
   },
   {
    "duration": 70,
    "start_time": "2022-10-13T14:00:04.901Z"
   },
   {
    "duration": 18,
    "start_time": "2022-10-13T14:00:04.973Z"
   },
   {
    "duration": 12,
    "start_time": "2022-10-13T14:01:39.633Z"
   },
   {
    "duration": 4,
    "start_time": "2022-10-13T14:02:09.232Z"
   },
   {
    "duration": 5,
    "start_time": "2022-10-13T14:02:38.823Z"
   },
   {
    "duration": 4,
    "start_time": "2022-10-13T14:02:39.830Z"
   },
   {
    "duration": 4,
    "start_time": "2022-10-13T14:03:08.325Z"
   },
   {
    "duration": 5,
    "start_time": "2022-10-13T14:03:09.661Z"
   },
   {
    "duration": 3,
    "start_time": "2022-10-13T14:03:13.028Z"
   },
   {
    "duration": 51,
    "start_time": "2022-10-13T14:03:13.034Z"
   },
   {
    "duration": 11,
    "start_time": "2022-10-13T14:03:13.087Z"
   },
   {
    "duration": 23,
    "start_time": "2022-10-13T14:03:13.100Z"
   },
   {
    "duration": 8,
    "start_time": "2022-10-13T14:03:13.126Z"
   },
   {
    "duration": 12,
    "start_time": "2022-10-13T14:03:13.136Z"
   },
   {
    "duration": 14,
    "start_time": "2022-10-13T14:03:13.150Z"
   },
   {
    "duration": 6,
    "start_time": "2022-10-13T14:03:13.166Z"
   },
   {
    "duration": 10,
    "start_time": "2022-10-13T14:03:13.173Z"
   },
   {
    "duration": 16,
    "start_time": "2022-10-13T14:03:13.185Z"
   },
   {
    "duration": 15,
    "start_time": "2022-10-13T14:03:13.205Z"
   },
   {
    "duration": 10,
    "start_time": "2022-10-13T14:03:13.223Z"
   },
   {
    "duration": 11,
    "start_time": "2022-10-13T14:03:13.234Z"
   },
   {
    "duration": 8,
    "start_time": "2022-10-13T14:03:13.246Z"
   },
   {
    "duration": 6,
    "start_time": "2022-10-13T14:03:13.255Z"
   },
   {
    "duration": 6,
    "start_time": "2022-10-13T14:03:13.262Z"
   },
   {
    "duration": 6,
    "start_time": "2022-10-13T14:03:13.270Z"
   },
   {
    "duration": 6,
    "start_time": "2022-10-13T14:04:42.988Z"
   },
   {
    "duration": 4,
    "start_time": "2022-10-13T14:04:43.324Z"
   },
   {
    "duration": 6,
    "start_time": "2022-10-13T14:04:43.668Z"
   },
   {
    "duration": 7,
    "start_time": "2022-10-13T14:04:44.425Z"
   },
   {
    "duration": 3,
    "start_time": "2022-10-13T14:04:47.692Z"
   },
   {
    "duration": 63,
    "start_time": "2022-10-13T14:04:47.697Z"
   },
   {
    "duration": 12,
    "start_time": "2022-10-13T14:04:47.762Z"
   },
   {
    "duration": 5,
    "start_time": "2022-10-13T14:04:47.776Z"
   },
   {
    "duration": 6,
    "start_time": "2022-10-13T14:04:47.783Z"
   },
   {
    "duration": 15,
    "start_time": "2022-10-13T14:04:47.791Z"
   },
   {
    "duration": 15,
    "start_time": "2022-10-13T14:04:47.807Z"
   },
   {
    "duration": 10,
    "start_time": "2022-10-13T14:04:47.824Z"
   },
   {
    "duration": 12,
    "start_time": "2022-10-13T14:04:47.836Z"
   },
   {
    "duration": 7,
    "start_time": "2022-10-13T14:04:47.849Z"
   },
   {
    "duration": 11,
    "start_time": "2022-10-13T14:04:47.858Z"
   },
   {
    "duration": 8,
    "start_time": "2022-10-13T14:04:47.871Z"
   },
   {
    "duration": 14,
    "start_time": "2022-10-13T14:04:47.907Z"
   },
   {
    "duration": 4,
    "start_time": "2022-10-13T14:04:47.923Z"
   },
   {
    "duration": 6,
    "start_time": "2022-10-13T14:04:47.929Z"
   },
   {
    "duration": 11,
    "start_time": "2022-10-13T14:04:47.937Z"
   },
   {
    "duration": 7,
    "start_time": "2022-10-13T14:04:47.950Z"
   },
   {
    "duration": 364,
    "start_time": "2022-10-13T14:06:29.979Z"
   },
   {
    "duration": 6,
    "start_time": "2022-10-13T14:06:30.509Z"
   },
   {
    "duration": 4,
    "start_time": "2022-10-13T14:06:38.692Z"
   },
   {
    "duration": 6,
    "start_time": "2022-10-13T14:06:39.387Z"
   },
   {
    "duration": 7,
    "start_time": "2022-10-13T14:07:44.234Z"
   },
   {
    "duration": 5,
    "start_time": "2022-10-13T14:07:44.520Z"
   },
   {
    "duration": 7,
    "start_time": "2022-10-13T14:07:44.819Z"
   },
   {
    "duration": 4,
    "start_time": "2022-10-13T14:07:45.252Z"
   },
   {
    "duration": 5,
    "start_time": "2022-10-13T14:07:58.193Z"
   },
   {
    "duration": 8,
    "start_time": "2022-10-13T14:07:59.115Z"
   },
   {
    "duration": 3,
    "start_time": "2022-10-13T14:08:01.793Z"
   },
   {
    "duration": 59,
    "start_time": "2022-10-13T14:08:01.800Z"
   },
   {
    "duration": 11,
    "start_time": "2022-10-13T14:08:01.861Z"
   },
   {
    "duration": 22,
    "start_time": "2022-10-13T14:08:01.874Z"
   },
   {
    "duration": 43,
    "start_time": "2022-10-13T14:08:01.898Z"
   },
   {
    "duration": 44,
    "start_time": "2022-10-13T14:08:01.942Z"
   },
   {
    "duration": 23,
    "start_time": "2022-10-13T14:08:01.988Z"
   },
   {
    "duration": 20,
    "start_time": "2022-10-13T14:08:02.014Z"
   },
   {
    "duration": 20,
    "start_time": "2022-10-13T14:08:02.036Z"
   },
   {
    "duration": 19,
    "start_time": "2022-10-13T14:08:02.058Z"
   },
   {
    "duration": 40,
    "start_time": "2022-10-13T14:08:02.079Z"
   },
   {
    "duration": 24,
    "start_time": "2022-10-13T14:08:02.122Z"
   },
   {
    "duration": 31,
    "start_time": "2022-10-13T14:08:02.147Z"
   },
   {
    "duration": 56,
    "start_time": "2022-10-13T14:08:02.179Z"
   },
   {
    "duration": 9,
    "start_time": "2022-10-13T14:08:02.236Z"
   },
   {
    "duration": 7,
    "start_time": "2022-10-13T14:08:02.247Z"
   },
   {
    "duration": 8,
    "start_time": "2022-10-13T14:08:02.255Z"
   },
   {
    "duration": 20,
    "start_time": "2022-10-13T14:10:30.220Z"
   },
   {
    "duration": 10,
    "start_time": "2022-10-13T14:10:34.531Z"
   },
   {
    "duration": 9,
    "start_time": "2022-10-13T14:10:39.129Z"
   },
   {
    "duration": 12,
    "start_time": "2022-10-13T14:10:45.711Z"
   },
   {
    "duration": 4,
    "start_time": "2022-10-13T14:10:49.223Z"
   },
   {
    "duration": 5,
    "start_time": "2022-10-13T14:14:04.574Z"
   },
   {
    "duration": 5,
    "start_time": "2022-10-13T14:14:11.955Z"
   },
   {
    "duration": 21,
    "start_time": "2022-10-13T14:14:17.787Z"
   },
   {
    "duration": 5,
    "start_time": "2022-10-13T14:14:57.846Z"
   },
   {
    "duration": 8,
    "start_time": "2022-10-13T14:19:56.489Z"
   },
   {
    "duration": 15,
    "start_time": "2022-10-13T14:20:02.230Z"
   },
   {
    "duration": 131,
    "start_time": "2022-10-13T14:40:16.388Z"
   },
   {
    "duration": 1284,
    "start_time": "2022-10-13T14:41:09.029Z"
   },
   {
    "duration": 8,
    "start_time": "2022-10-13T14:41:49.071Z"
   },
   {
    "duration": 3,
    "start_time": "2022-10-13T14:42:02.543Z"
   },
   {
    "duration": 58,
    "start_time": "2022-10-13T14:42:02.803Z"
   },
   {
    "duration": 12,
    "start_time": "2022-10-13T14:42:02.863Z"
   },
   {
    "duration": 2,
    "start_time": "2022-10-13T14:42:02.877Z"
   },
   {
    "duration": 6,
    "start_time": "2022-10-13T14:42:02.881Z"
   },
   {
    "duration": 13,
    "start_time": "2022-10-13T14:42:02.912Z"
   },
   {
    "duration": 15,
    "start_time": "2022-10-13T14:42:02.944Z"
   },
   {
    "duration": 6,
    "start_time": "2022-10-13T14:42:02.961Z"
   },
   {
    "duration": 15,
    "start_time": "2022-10-13T14:42:02.969Z"
   },
   {
    "duration": 6,
    "start_time": "2022-10-13T14:42:02.985Z"
   },
   {
    "duration": 20,
    "start_time": "2022-10-13T14:42:02.992Z"
   },
   {
    "duration": 10,
    "start_time": "2022-10-13T14:42:03.014Z"
   },
   {
    "duration": 9,
    "start_time": "2022-10-13T14:42:03.026Z"
   },
   {
    "duration": 4,
    "start_time": "2022-10-13T14:42:03.043Z"
   },
   {
    "duration": 7,
    "start_time": "2022-10-13T14:42:03.051Z"
   },
   {
    "duration": 6,
    "start_time": "2022-10-13T14:42:03.060Z"
   },
   {
    "duration": 6,
    "start_time": "2022-10-13T14:42:03.077Z"
   },
   {
    "duration": 4,
    "start_time": "2022-10-13T14:42:03.151Z"
   },
   {
    "duration": 5,
    "start_time": "2022-10-13T14:42:03.189Z"
   },
   {
    "duration": 9,
    "start_time": "2022-10-13T14:42:03.250Z"
   },
   {
    "duration": 111,
    "start_time": "2022-10-13T14:42:03.261Z"
   },
   {
    "duration": 127,
    "start_time": "2022-10-13T14:42:57.419Z"
   },
   {
    "duration": 13,
    "start_time": "2022-10-13T14:43:07.738Z"
   },
   {
    "duration": 120,
    "start_time": "2022-10-13T14:43:20.061Z"
   },
   {
    "duration": 118,
    "start_time": "2022-10-13T14:43:27.299Z"
   },
   {
    "duration": 9,
    "start_time": "2022-10-13T14:44:11.336Z"
   },
   {
    "duration": 129,
    "start_time": "2022-10-13T14:44:13.817Z"
   },
   {
    "duration": 7,
    "start_time": "2022-10-13T14:45:23.242Z"
   },
   {
    "duration": 3,
    "start_time": "2022-10-13T14:45:27.055Z"
   },
   {
    "duration": 61,
    "start_time": "2022-10-13T14:45:27.062Z"
   },
   {
    "duration": 12,
    "start_time": "2022-10-13T14:45:27.125Z"
   },
   {
    "duration": 4,
    "start_time": "2022-10-13T14:45:27.139Z"
   },
   {
    "duration": 6,
    "start_time": "2022-10-13T14:45:27.145Z"
   },
   {
    "duration": 14,
    "start_time": "2022-10-13T14:45:27.153Z"
   },
   {
    "duration": 14,
    "start_time": "2022-10-13T14:45:27.168Z"
   },
   {
    "duration": 9,
    "start_time": "2022-10-13T14:45:27.206Z"
   },
   {
    "duration": 8,
    "start_time": "2022-10-13T14:45:27.217Z"
   },
   {
    "duration": 5,
    "start_time": "2022-10-13T14:45:27.227Z"
   },
   {
    "duration": 6,
    "start_time": "2022-10-13T14:45:27.234Z"
   },
   {
    "duration": 10,
    "start_time": "2022-10-13T14:45:27.241Z"
   },
   {
    "duration": 7,
    "start_time": "2022-10-13T14:45:27.252Z"
   },
   {
    "duration": 4,
    "start_time": "2022-10-13T14:45:27.261Z"
   },
   {
    "duration": 5,
    "start_time": "2022-10-13T14:45:27.267Z"
   },
   {
    "duration": 38,
    "start_time": "2022-10-13T14:45:27.273Z"
   },
   {
    "duration": 10,
    "start_time": "2022-10-13T14:45:27.313Z"
   },
   {
    "duration": 8,
    "start_time": "2022-10-13T14:45:27.325Z"
   },
   {
    "duration": 7,
    "start_time": "2022-10-13T14:45:27.334Z"
   },
   {
    "duration": 21,
    "start_time": "2022-10-13T14:45:27.342Z"
   },
   {
    "duration": 151,
    "start_time": "2022-10-13T14:45:27.365Z"
   },
   {
    "duration": 152,
    "start_time": "2022-10-13T14:45:36.889Z"
   },
   {
    "duration": 218,
    "start_time": "2022-10-13T14:45:47.219Z"
   },
   {
    "duration": 132,
    "start_time": "2022-10-13T14:52:24.962Z"
   },
   {
    "duration": 157,
    "start_time": "2022-10-13T15:03:07.037Z"
   },
   {
    "duration": 152,
    "start_time": "2022-10-13T15:04:37.133Z"
   },
   {
    "duration": 48,
    "start_time": "2022-10-13T17:21:59.224Z"
   },
   {
    "duration": 1330,
    "start_time": "2022-10-13T17:22:09.075Z"
   },
   {
    "duration": 223,
    "start_time": "2022-10-13T17:22:10.408Z"
   },
   {
    "duration": 17,
    "start_time": "2022-10-13T17:22:10.633Z"
   },
   {
    "duration": 9,
    "start_time": "2022-10-13T17:22:10.653Z"
   },
   {
    "duration": 29,
    "start_time": "2022-10-13T17:22:10.665Z"
   },
   {
    "duration": 25,
    "start_time": "2022-10-13T17:22:10.697Z"
   },
   {
    "duration": 79,
    "start_time": "2022-10-13T17:22:10.723Z"
   },
   {
    "duration": 7,
    "start_time": "2022-10-13T17:22:10.804Z"
   },
   {
    "duration": 28,
    "start_time": "2022-10-13T17:22:10.813Z"
   },
   {
    "duration": 29,
    "start_time": "2022-10-13T17:22:10.843Z"
   },
   {
    "duration": 26,
    "start_time": "2022-10-13T17:22:10.874Z"
   },
   {
    "duration": 33,
    "start_time": "2022-10-13T17:22:10.902Z"
   },
   {
    "duration": 32,
    "start_time": "2022-10-13T17:22:10.936Z"
   },
   {
    "duration": 17,
    "start_time": "2022-10-13T17:22:10.970Z"
   },
   {
    "duration": 30,
    "start_time": "2022-10-13T17:22:10.988Z"
   },
   {
    "duration": 28,
    "start_time": "2022-10-13T17:22:11.020Z"
   },
   {
    "duration": 31,
    "start_time": "2022-10-13T17:22:11.049Z"
   },
   {
    "duration": 23,
    "start_time": "2022-10-13T17:22:11.082Z"
   },
   {
    "duration": 25,
    "start_time": "2022-10-13T17:22:11.107Z"
   },
   {
    "duration": 201,
    "start_time": "2022-10-13T17:22:11.134Z"
   },
   {
    "duration": 10,
    "start_time": "2022-10-13T17:22:11.337Z"
   },
   {
    "duration": 140,
    "start_time": "2022-10-13T17:22:31.256Z"
   },
   {
    "duration": 71,
    "start_time": "2022-10-13T17:23:02.887Z"
   },
   {
    "duration": 22,
    "start_time": "2022-10-13T17:23:12.196Z"
   },
   {
    "duration": 138,
    "start_time": "2022-10-13T17:23:25.743Z"
   },
   {
    "duration": 20,
    "start_time": "2022-10-13T17:23:38.359Z"
   },
   {
    "duration": 72,
    "start_time": "2022-10-13T17:23:47.546Z"
   },
   {
    "duration": 170,
    "start_time": "2022-10-13T17:23:52.027Z"
   },
   {
    "duration": 140,
    "start_time": "2022-10-13T17:23:57.176Z"
   },
   {
    "duration": 165,
    "start_time": "2022-10-13T17:24:05.823Z"
   },
   {
    "duration": 153,
    "start_time": "2022-10-13T17:24:11.279Z"
   },
   {
    "duration": 170,
    "start_time": "2022-10-13T17:24:30.859Z"
   },
   {
    "duration": 204,
    "start_time": "2022-10-13T17:24:39.536Z"
   },
   {
    "duration": 164,
    "start_time": "2022-10-13T17:24:44.691Z"
   },
   {
    "duration": 80,
    "start_time": "2022-10-13T17:24:59.197Z"
   },
   {
    "duration": 188,
    "start_time": "2022-10-13T17:25:03.639Z"
   },
   {
    "duration": 156,
    "start_time": "2022-10-13T17:25:12.036Z"
   },
   {
    "duration": 155,
    "start_time": "2022-10-13T17:25:23.227Z"
   },
   {
    "duration": 1332,
    "start_time": "2022-10-13T17:30:37.034Z"
   },
   {
    "duration": 1153,
    "start_time": "2022-10-13T17:31:12.266Z"
   },
   {
    "duration": 3,
    "start_time": "2022-10-13T17:31:25.018Z"
   },
   {
    "duration": 4,
    "start_time": "2022-10-13T17:31:33.066Z"
   },
   {
    "duration": 5,
    "start_time": "2022-10-13T17:31:43.226Z"
   },
   {
    "duration": 6,
    "start_time": "2022-10-13T17:32:26.314Z"
   },
   {
    "duration": 5,
    "start_time": "2022-10-13T17:37:38.998Z"
   },
   {
    "duration": 6,
    "start_time": "2022-10-13T17:38:03.030Z"
   },
   {
    "duration": 4,
    "start_time": "2022-10-13T17:38:36.106Z"
   },
   {
    "duration": 4,
    "start_time": "2022-10-13T17:38:40.950Z"
   },
   {
    "duration": 3,
    "start_time": "2022-10-13T17:38:59.607Z"
   },
   {
    "duration": 5,
    "start_time": "2022-10-13T17:39:00.259Z"
   },
   {
    "duration": 17,
    "start_time": "2022-10-13T17:42:43.643Z"
   },
   {
    "duration": 3,
    "start_time": "2022-10-13T17:44:26.335Z"
   },
   {
    "duration": 5,
    "start_time": "2022-10-13T17:44:31.027Z"
   },
   {
    "duration": 5,
    "start_time": "2022-10-13T17:46:11.947Z"
   },
   {
    "duration": 6,
    "start_time": "2022-10-13T17:46:23.223Z"
   },
   {
    "duration": 8,
    "start_time": "2022-10-13T17:47:24.287Z"
   },
   {
    "duration": 8,
    "start_time": "2022-10-13T17:47:44.055Z"
   },
   {
    "duration": 8,
    "start_time": "2022-10-13T17:47:52.195Z"
   },
   {
    "duration": 13,
    "start_time": "2022-10-13T17:50:48.176Z"
   },
   {
    "duration": 12,
    "start_time": "2022-10-13T17:51:00.824Z"
   },
   {
    "duration": 14,
    "start_time": "2022-10-13T17:51:17.743Z"
   },
   {
    "duration": 11,
    "start_time": "2022-10-13T17:51:34.700Z"
   },
   {
    "duration": 7,
    "start_time": "2022-10-13T17:52:23.068Z"
   },
   {
    "duration": 5,
    "start_time": "2022-10-13T17:53:29.967Z"
   },
   {
    "duration": 10,
    "start_time": "2022-10-13T17:53:36.027Z"
   },
   {
    "duration": 14,
    "start_time": "2022-10-13T17:59:16.910Z"
   },
   {
    "duration": 60,
    "start_time": "2022-10-13T17:59:24.734Z"
   },
   {
    "duration": 69,
    "start_time": "2022-10-13T17:59:24.795Z"
   },
   {
    "duration": 13,
    "start_time": "2022-10-13T17:59:24.866Z"
   },
   {
    "duration": 4,
    "start_time": "2022-10-13T17:59:24.880Z"
   },
   {
    "duration": 6,
    "start_time": "2022-10-13T17:59:24.885Z"
   },
   {
    "duration": 16,
    "start_time": "2022-10-13T17:59:24.892Z"
   },
   {
    "duration": 16,
    "start_time": "2022-10-13T17:59:24.909Z"
   },
   {
    "duration": 7,
    "start_time": "2022-10-13T17:59:24.926Z"
   },
   {
    "duration": 8,
    "start_time": "2022-10-13T17:59:24.935Z"
   },
   {
    "duration": 5,
    "start_time": "2022-10-13T17:59:24.945Z"
   },
   {
    "duration": 7,
    "start_time": "2022-10-13T17:59:24.951Z"
   },
   {
    "duration": 41,
    "start_time": "2022-10-13T17:59:24.959Z"
   },
   {
    "duration": 13,
    "start_time": "2022-10-13T17:59:25.002Z"
   },
   {
    "duration": 6,
    "start_time": "2022-10-13T17:59:25.017Z"
   },
   {
    "duration": 7,
    "start_time": "2022-10-13T17:59:25.024Z"
   },
   {
    "duration": 5,
    "start_time": "2022-10-13T17:59:25.132Z"
   },
   {
    "duration": 7,
    "start_time": "2022-10-13T17:59:25.141Z"
   },
   {
    "duration": 8,
    "start_time": "2022-10-13T17:59:25.150Z"
   },
   {
    "duration": 11,
    "start_time": "2022-10-13T17:59:25.160Z"
   },
   {
    "duration": 156,
    "start_time": "2022-10-13T17:59:25.173Z"
   },
   {
    "duration": 10,
    "start_time": "2022-10-13T17:59:25.331Z"
   },
   {
    "duration": 167,
    "start_time": "2022-10-13T17:59:25.343Z"
   },
   {
    "duration": 17,
    "start_time": "2022-10-13T17:59:25.512Z"
   },
   {
    "duration": 321,
    "start_time": "2022-10-13T17:59:25.530Z"
   },
   {
    "duration": 404,
    "start_time": "2022-10-13T17:59:50.635Z"
   },
   {
    "duration": 338,
    "start_time": "2022-10-13T18:00:01.670Z"
   },
   {
    "duration": 326,
    "start_time": "2022-10-13T18:01:21.079Z"
   },
   {
    "duration": 335,
    "start_time": "2022-10-13T18:01:30.335Z"
   },
   {
    "duration": 159,
    "start_time": "2022-10-13T18:02:51.603Z"
   },
   {
    "duration": 10,
    "start_time": "2022-10-13T18:02:57.859Z"
   },
   {
    "duration": 183,
    "start_time": "2022-10-13T18:02:58.349Z"
   },
   {
    "duration": 321,
    "start_time": "2022-10-13T18:03:11.247Z"
   },
   {
    "duration": 422,
    "start_time": "2022-10-13T18:03:37.291Z"
   },
   {
    "duration": 327,
    "start_time": "2022-10-13T18:03:47.191Z"
   },
   {
    "duration": 4,
    "start_time": "2022-10-13T18:10:23.191Z"
   },
   {
    "duration": 5,
    "start_time": "2022-10-13T18:10:30.856Z"
   },
   {
    "duration": 17,
    "start_time": "2022-10-13T18:11:16.560Z"
   },
   {
    "duration": 26,
    "start_time": "2022-10-13T18:11:22.736Z"
   },
   {
    "duration": 176,
    "start_time": "2022-10-13T18:13:37.676Z"
   },
   {
    "duration": 169,
    "start_time": "2022-10-13T18:13:42.120Z"
   },
   {
    "duration": 195,
    "start_time": "2022-10-13T18:14:03.604Z"
   },
   {
    "duration": 185,
    "start_time": "2022-10-13T18:14:13.053Z"
   },
   {
    "duration": 44,
    "start_time": "2022-10-13T19:11:07.597Z"
   },
   {
    "duration": 19,
    "start_time": "2022-10-13T19:12:24.403Z"
   },
   {
    "duration": 12,
    "start_time": "2022-10-13T19:13:47.513Z"
   },
   {
    "duration": 105,
    "start_time": "2022-10-13T19:17:43.946Z"
   },
   {
    "duration": 108,
    "start_time": "2022-10-13T19:18:05.229Z"
   },
   {
    "duration": 123,
    "start_time": "2022-10-13T19:18:18.201Z"
   },
   {
    "duration": 104,
    "start_time": "2022-10-13T19:18:26.337Z"
   },
   {
    "duration": 134,
    "start_time": "2022-10-13T19:18:56.614Z"
   },
   {
    "duration": 130,
    "start_time": "2022-10-13T19:19:08.258Z"
   },
   {
    "duration": 128,
    "start_time": "2022-10-13T19:19:19.036Z"
   },
   {
    "duration": 242,
    "start_time": "2022-10-13T19:19:25.713Z"
   },
   {
    "duration": 117,
    "start_time": "2022-10-13T19:19:31.281Z"
   },
   {
    "duration": 110,
    "start_time": "2022-10-13T19:19:38.034Z"
   },
   {
    "duration": 102,
    "start_time": "2022-10-13T19:19:48.541Z"
   },
   {
    "duration": 104,
    "start_time": "2022-10-13T19:21:15.877Z"
   },
   {
    "duration": 5,
    "start_time": "2022-10-13T19:34:34.230Z"
   },
   {
    "duration": 6,
    "start_time": "2022-10-13T19:35:02.138Z"
   },
   {
    "duration": 22,
    "start_time": "2022-10-13T19:35:13.250Z"
   },
   {
    "duration": 1736,
    "start_time": "2022-10-13T19:37:05.763Z"
   },
   {
    "duration": 161,
    "start_time": "2022-10-13T19:37:24.675Z"
   },
   {
    "duration": 114,
    "start_time": "2022-10-13T19:39:43.624Z"
   },
   {
    "duration": 137,
    "start_time": "2022-10-13T19:39:59.740Z"
   },
   {
    "duration": 5,
    "start_time": "2022-10-13T19:40:03.703Z"
   },
   {
    "duration": 134,
    "start_time": "2022-10-13T19:40:06.027Z"
   },
   {
    "duration": 7,
    "start_time": "2022-10-13T19:41:43.775Z"
   },
   {
    "duration": 6,
    "start_time": "2022-10-13T19:41:46.659Z"
   },
   {
    "duration": 4,
    "start_time": "2022-10-13T19:41:49.588Z"
   },
   {
    "duration": 70,
    "start_time": "2022-10-13T19:41:49.595Z"
   },
   {
    "duration": 14,
    "start_time": "2022-10-13T19:41:49.667Z"
   },
   {
    "duration": 3,
    "start_time": "2022-10-13T19:41:49.682Z"
   },
   {
    "duration": 5,
    "start_time": "2022-10-13T19:41:49.687Z"
   },
   {
    "duration": 14,
    "start_time": "2022-10-13T19:41:49.694Z"
   },
   {
    "duration": 15,
    "start_time": "2022-10-13T19:41:49.709Z"
   },
   {
    "duration": 6,
    "start_time": "2022-10-13T19:41:49.725Z"
   },
   {
    "duration": 6,
    "start_time": "2022-10-13T19:41:49.732Z"
   },
   {
    "duration": 5,
    "start_time": "2022-10-13T19:41:49.740Z"
   },
   {
    "duration": 6,
    "start_time": "2022-10-13T19:41:49.746Z"
   },
   {
    "duration": 6,
    "start_time": "2022-10-13T19:41:49.753Z"
   },
   {
    "duration": 7,
    "start_time": "2022-10-13T19:41:49.916Z"
   },
   {
    "duration": 4,
    "start_time": "2022-10-13T19:41:49.927Z"
   },
   {
    "duration": 5,
    "start_time": "2022-10-13T19:41:49.938Z"
   },
   {
    "duration": 5,
    "start_time": "2022-10-13T19:41:49.947Z"
   },
   {
    "duration": 8,
    "start_time": "2022-10-13T19:41:49.971Z"
   },
   {
    "duration": 4,
    "start_time": "2022-10-13T19:41:49.986Z"
   },
   {
    "duration": 6,
    "start_time": "2022-10-13T19:41:50.012Z"
   },
   {
    "duration": 147,
    "start_time": "2022-10-13T19:41:50.022Z"
   },
   {
    "duration": 11,
    "start_time": "2022-10-13T19:41:50.171Z"
   },
   {
    "duration": 26,
    "start_time": "2022-10-13T19:41:50.184Z"
   },
   {
    "duration": 5,
    "start_time": "2022-10-13T19:41:50.212Z"
   },
   {
    "duration": 22,
    "start_time": "2022-10-13T19:41:50.219Z"
   },
   {
    "duration": 212,
    "start_time": "2022-10-13T19:41:50.243Z"
   },
   {
    "duration": 22,
    "start_time": "2022-10-13T19:41:50.457Z"
   },
   {
    "duration": 25,
    "start_time": "2022-10-13T19:41:50.481Z"
   },
   {
    "duration": 114,
    "start_time": "2022-10-13T19:41:50.508Z"
   },
   {
    "duration": 6,
    "start_time": "2022-10-13T19:41:50.625Z"
   },
   {
    "duration": 168,
    "start_time": "2022-10-13T19:41:50.633Z"
   },
   {
    "duration": 145,
    "start_time": "2022-10-13T19:42:01.588Z"
   },
   {
    "duration": 180,
    "start_time": "2022-10-13T19:43:17.932Z"
   },
   {
    "duration": 175,
    "start_time": "2022-10-13T19:43:39.219Z"
   },
   {
    "duration": 189,
    "start_time": "2022-10-13T19:43:46.568Z"
   },
   {
    "duration": 164,
    "start_time": "2022-10-13T19:43:55.120Z"
   },
   {
    "duration": 153,
    "start_time": "2022-10-13T19:44:06.531Z"
   },
   {
    "duration": 14,
    "start_time": "2022-10-13T19:48:29.732Z"
   },
   {
    "duration": 13,
    "start_time": "2022-10-13T19:48:34.648Z"
   },
   {
    "duration": 2374,
    "start_time": "2022-10-13T19:50:01.814Z"
   },
   {
    "duration": 3,
    "start_time": "2022-10-13T19:50:11.653Z"
   },
   {
    "duration": 84,
    "start_time": "2022-10-13T19:50:11.658Z"
   },
   {
    "duration": 15,
    "start_time": "2022-10-13T19:50:11.744Z"
   },
   {
    "duration": 3,
    "start_time": "2022-10-13T19:50:11.761Z"
   },
   {
    "duration": 7,
    "start_time": "2022-10-13T19:50:11.767Z"
   },
   {
    "duration": 1411,
    "start_time": "2022-10-13T19:50:11.776Z"
   },
   {
    "duration": 0,
    "start_time": "2022-10-13T19:50:13.189Z"
   },
   {
    "duration": 0,
    "start_time": "2022-10-13T19:50:13.191Z"
   },
   {
    "duration": 0,
    "start_time": "2022-10-13T19:50:13.192Z"
   },
   {
    "duration": 0,
    "start_time": "2022-10-13T19:50:13.193Z"
   },
   {
    "duration": 0,
    "start_time": "2022-10-13T19:50:13.195Z"
   },
   {
    "duration": 0,
    "start_time": "2022-10-13T19:50:13.196Z"
   },
   {
    "duration": 0,
    "start_time": "2022-10-13T19:50:13.197Z"
   },
   {
    "duration": 0,
    "start_time": "2022-10-13T19:50:13.200Z"
   },
   {
    "duration": 0,
    "start_time": "2022-10-13T19:50:13.202Z"
   },
   {
    "duration": 0,
    "start_time": "2022-10-13T19:50:13.204Z"
   },
   {
    "duration": 0,
    "start_time": "2022-10-13T19:50:13.206Z"
   },
   {
    "duration": 0,
    "start_time": "2022-10-13T19:50:13.208Z"
   },
   {
    "duration": 0,
    "start_time": "2022-10-13T19:50:13.209Z"
   },
   {
    "duration": 0,
    "start_time": "2022-10-13T19:50:13.211Z"
   },
   {
    "duration": 0,
    "start_time": "2022-10-13T19:50:13.213Z"
   },
   {
    "duration": 0,
    "start_time": "2022-10-13T19:50:13.214Z"
   },
   {
    "duration": 0,
    "start_time": "2022-10-13T19:50:13.215Z"
   },
   {
    "duration": 0,
    "start_time": "2022-10-13T19:50:13.216Z"
   },
   {
    "duration": 0,
    "start_time": "2022-10-13T19:50:13.217Z"
   },
   {
    "duration": 0,
    "start_time": "2022-10-13T19:50:13.218Z"
   },
   {
    "duration": 0,
    "start_time": "2022-10-13T19:50:13.219Z"
   },
   {
    "duration": 0,
    "start_time": "2022-10-13T19:50:13.220Z"
   },
   {
    "duration": 0,
    "start_time": "2022-10-13T19:50:13.220Z"
   },
   {
    "duration": 0,
    "start_time": "2022-10-13T19:50:13.221Z"
   },
   {
    "duration": 0,
    "start_time": "2022-10-13T19:50:13.227Z"
   },
   {
    "duration": 0,
    "start_time": "2022-10-13T19:50:13.228Z"
   },
   {
    "duration": 1190,
    "start_time": "2022-10-13T19:50:35.376Z"
   },
   {
    "duration": 1211,
    "start_time": "2022-10-13T19:51:00.569Z"
   },
   {
    "duration": 16,
    "start_time": "2022-10-13T19:51:22.812Z"
   },
   {
    "duration": 14,
    "start_time": "2022-10-13T19:51:50.493Z"
   },
   {
    "duration": 20,
    "start_time": "2022-10-13T19:52:13.593Z"
   },
   {
    "duration": 4,
    "start_time": "2022-10-13T19:52:24.182Z"
   },
   {
    "duration": 92,
    "start_time": "2022-10-13T19:52:24.188Z"
   },
   {
    "duration": 14,
    "start_time": "2022-10-13T19:52:24.282Z"
   },
   {
    "duration": 10,
    "start_time": "2022-10-13T19:52:24.298Z"
   },
   {
    "duration": 6,
    "start_time": "2022-10-13T19:52:24.311Z"
   },
   {
    "duration": 19,
    "start_time": "2022-10-13T19:52:24.320Z"
   },
   {
    "duration": 16,
    "start_time": "2022-10-13T19:52:24.340Z"
   },
   {
    "duration": 7,
    "start_time": "2022-10-13T19:52:24.357Z"
   },
   {
    "duration": 48,
    "start_time": "2022-10-13T19:52:24.365Z"
   },
   {
    "duration": 15,
    "start_time": "2022-10-13T19:52:24.415Z"
   },
   {
    "duration": 7,
    "start_time": "2022-10-13T19:52:24.433Z"
   },
   {
    "duration": 8,
    "start_time": "2022-10-13T19:52:24.441Z"
   },
   {
    "duration": 9,
    "start_time": "2022-10-13T19:52:24.452Z"
   },
   {
    "duration": 6,
    "start_time": "2022-10-13T19:52:24.462Z"
   },
   {
    "duration": 28,
    "start_time": "2022-10-13T19:52:24.470Z"
   },
   {
    "duration": 35,
    "start_time": "2022-10-13T19:52:24.500Z"
   },
   {
    "duration": 14,
    "start_time": "2022-10-13T19:52:24.537Z"
   },
   {
    "duration": 5,
    "start_time": "2022-10-13T19:52:24.553Z"
   },
   {
    "duration": 11,
    "start_time": "2022-10-13T19:52:24.560Z"
   },
   {
    "duration": 7,
    "start_time": "2022-10-13T19:52:24.573Z"
   },
   {
    "duration": 185,
    "start_time": "2022-10-13T19:52:24.582Z"
   },
   {
    "duration": 10,
    "start_time": "2022-10-13T19:52:24.769Z"
   },
   {
    "duration": 24,
    "start_time": "2022-10-13T19:52:24.780Z"
   },
   {
    "duration": 6,
    "start_time": "2022-10-13T19:52:24.806Z"
   },
   {
    "duration": 45,
    "start_time": "2022-10-13T19:52:24.814Z"
   },
   {
    "duration": 392,
    "start_time": "2022-10-13T19:52:24.860Z"
   },
   {
    "duration": 23,
    "start_time": "2022-10-13T19:52:25.254Z"
   },
   {
    "duration": 18,
    "start_time": "2022-10-13T19:52:25.279Z"
   },
   {
    "duration": 133,
    "start_time": "2022-10-13T19:52:25.301Z"
   },
   {
    "duration": 5,
    "start_time": "2022-10-13T19:52:25.436Z"
   },
   {
    "duration": 180,
    "start_time": "2022-10-13T19:52:25.442Z"
   },
   {
    "duration": 13,
    "start_time": "2022-10-13T19:52:25.623Z"
   },
   {
    "duration": 4,
    "start_time": "2022-10-13T19:52:44.013Z"
   },
   {
    "duration": 14,
    "start_time": "2022-10-13T19:52:50.341Z"
   },
   {
    "duration": 160,
    "start_time": "2022-10-13T19:54:31.625Z"
   },
   {
    "duration": 153,
    "start_time": "2022-10-13T19:55:09.001Z"
   },
   {
    "duration": 13,
    "start_time": "2022-10-13T19:56:09.886Z"
   },
   {
    "duration": 275,
    "start_time": "2022-10-13T20:01:03.702Z"
   },
   {
    "duration": 252,
    "start_time": "2022-10-13T20:01:31.574Z"
   },
   {
    "duration": 268,
    "start_time": "2022-10-13T20:01:38.666Z"
   },
   {
    "duration": 301,
    "start_time": "2022-10-13T20:02:04.374Z"
   },
   {
    "duration": 12,
    "start_time": "2022-10-13T20:38:27.361Z"
   },
   {
    "duration": 190,
    "start_time": "2022-10-13T20:38:40.449Z"
   },
   {
    "duration": 184,
    "start_time": "2022-10-13T20:38:50.234Z"
   },
   {
    "duration": 14,
    "start_time": "2022-10-13T20:42:20.832Z"
   },
   {
    "duration": 212,
    "start_time": "2022-10-13T20:42:40.806Z"
   },
   {
    "duration": 367,
    "start_time": "2022-10-13T20:42:47.557Z"
   },
   {
    "duration": 47,
    "start_time": "2022-10-14T06:14:35.619Z"
   },
   {
    "duration": 1251,
    "start_time": "2022-10-14T06:14:41.544Z"
   },
   {
    "duration": 216,
    "start_time": "2022-10-14T06:14:42.797Z"
   },
   {
    "duration": 13,
    "start_time": "2022-10-14T06:14:43.015Z"
   },
   {
    "duration": 4,
    "start_time": "2022-10-14T06:14:43.029Z"
   },
   {
    "duration": 6,
    "start_time": "2022-10-14T06:14:43.034Z"
   },
   {
    "duration": 13,
    "start_time": "2022-10-14T06:14:43.042Z"
   },
   {
    "duration": 75,
    "start_time": "2022-10-14T06:14:43.057Z"
   },
   {
    "duration": 6,
    "start_time": "2022-10-14T06:14:43.134Z"
   },
   {
    "duration": 7,
    "start_time": "2022-10-14T06:14:43.141Z"
   },
   {
    "duration": 8,
    "start_time": "2022-10-14T06:14:43.149Z"
   },
   {
    "duration": 7,
    "start_time": "2022-10-14T06:14:43.158Z"
   },
   {
    "duration": 7,
    "start_time": "2022-10-14T06:14:43.167Z"
   },
   {
    "duration": 25,
    "start_time": "2022-10-14T06:14:43.175Z"
   },
   {
    "duration": 4,
    "start_time": "2022-10-14T06:14:43.203Z"
   },
   {
    "duration": 7,
    "start_time": "2022-10-14T06:14:43.209Z"
   },
   {
    "duration": 8,
    "start_time": "2022-10-14T06:14:43.217Z"
   },
   {
    "duration": 10,
    "start_time": "2022-10-14T06:14:43.226Z"
   },
   {
    "duration": 5,
    "start_time": "2022-10-14T06:14:43.237Z"
   },
   {
    "duration": 8,
    "start_time": "2022-10-14T06:14:43.243Z"
   },
   {
    "duration": 8,
    "start_time": "2022-10-14T06:14:43.253Z"
   },
   {
    "duration": 189,
    "start_time": "2022-10-14T06:14:43.263Z"
   },
   {
    "duration": 11,
    "start_time": "2022-10-14T06:14:43.453Z"
   },
   {
    "duration": 31,
    "start_time": "2022-10-14T06:14:43.465Z"
   },
   {
    "duration": 5,
    "start_time": "2022-10-14T06:14:43.497Z"
   },
   {
    "duration": 24,
    "start_time": "2022-10-14T06:14:43.503Z"
   },
   {
    "duration": 222,
    "start_time": "2022-10-14T06:14:43.529Z"
   },
   {
    "duration": 25,
    "start_time": "2022-10-14T06:14:43.752Z"
   },
   {
    "duration": 23,
    "start_time": "2022-10-14T06:14:43.779Z"
   },
   {
    "duration": 114,
    "start_time": "2022-10-14T06:14:43.803Z"
   },
   {
    "duration": 5,
    "start_time": "2022-10-14T06:14:43.919Z"
   },
   {
    "duration": 150,
    "start_time": "2022-10-14T06:14:43.926Z"
   },
   {
    "duration": 142,
    "start_time": "2022-10-14T06:14:44.078Z"
   },
   {
    "duration": 12,
    "start_time": "2022-10-14T06:14:44.221Z"
   },
   {
    "duration": 316,
    "start_time": "2022-10-14T06:14:44.234Z"
   },
   {
    "duration": 170,
    "start_time": "2022-10-14T06:14:44.551Z"
   },
   {
    "duration": 198,
    "start_time": "2022-10-14T06:14:44.723Z"
   },
   {
    "duration": 189,
    "start_time": "2022-10-14T06:14:44.923Z"
   },
   {
    "duration": 178,
    "start_time": "2022-10-14T06:44:29.089Z"
   },
   {
    "duration": 219,
    "start_time": "2022-10-14T06:47:33.106Z"
   },
   {
    "duration": 197,
    "start_time": "2022-10-14T06:47:45.657Z"
   },
   {
    "duration": 183,
    "start_time": "2022-10-14T06:47:51.539Z"
   },
   {
    "duration": 358,
    "start_time": "2022-10-14T06:49:49.569Z"
   },
   {
    "duration": 647,
    "start_time": "2022-10-14T06:50:01.275Z"
   },
   {
    "duration": 632,
    "start_time": "2022-10-14T07:03:36.285Z"
   },
   {
    "duration": 25,
    "start_time": "2022-10-14T07:06:34.314Z"
   },
   {
    "duration": 36,
    "start_time": "2022-10-14T07:07:58.770Z"
   },
   {
    "duration": 552,
    "start_time": "2022-10-14T07:10:33.706Z"
   },
   {
    "duration": 9,
    "start_time": "2022-10-14T07:16:02.330Z"
   },
   {
    "duration": 15,
    "start_time": "2022-10-14T07:16:09.082Z"
   },
   {
    "duration": 71,
    "start_time": "2022-10-14T07:18:00.955Z"
   },
   {
    "duration": 12,
    "start_time": "2022-10-14T07:18:06.551Z"
   },
   {
    "duration": 12,
    "start_time": "2022-10-14T07:18:26.568Z"
   },
   {
    "duration": 14,
    "start_time": "2022-10-14T07:18:38.968Z"
   },
   {
    "duration": 8,
    "start_time": "2022-10-14T07:28:55.334Z"
   },
   {
    "duration": 5,
    "start_time": "2022-10-14T07:29:50.196Z"
   },
   {
    "duration": 13,
    "start_time": "2022-10-14T07:31:23.563Z"
   },
   {
    "duration": 7,
    "start_time": "2022-10-14T07:31:35.827Z"
   },
   {
    "duration": 7,
    "start_time": "2022-10-14T07:31:45.883Z"
   },
   {
    "duration": 9,
    "start_time": "2022-10-14T07:32:12.994Z"
   },
   {
    "duration": 5,
    "start_time": "2022-10-14T07:32:23.858Z"
   },
   {
    "duration": 5,
    "start_time": "2022-10-14T07:32:29.612Z"
   },
   {
    "duration": 5,
    "start_time": "2022-10-14T07:33:21.927Z"
   },
   {
    "duration": 1208,
    "start_time": "2022-10-14T07:46:17.987Z"
   },
   {
    "duration": 68,
    "start_time": "2022-10-14T07:46:19.197Z"
   },
   {
    "duration": 13,
    "start_time": "2022-10-14T07:46:19.266Z"
   },
   {
    "duration": 2,
    "start_time": "2022-10-14T07:46:19.281Z"
   },
   {
    "duration": 7,
    "start_time": "2022-10-14T07:46:19.285Z"
   },
   {
    "duration": 13,
    "start_time": "2022-10-14T07:46:19.293Z"
   },
   {
    "duration": 50,
    "start_time": "2022-10-14T07:46:19.307Z"
   },
   {
    "duration": 6,
    "start_time": "2022-10-14T07:46:19.359Z"
   },
   {
    "duration": 7,
    "start_time": "2022-10-14T07:46:19.366Z"
   },
   {
    "duration": 6,
    "start_time": "2022-10-14T07:46:19.394Z"
   },
   {
    "duration": 6,
    "start_time": "2022-10-14T07:46:19.401Z"
   },
   {
    "duration": 5,
    "start_time": "2022-10-14T07:46:19.409Z"
   },
   {
    "duration": 8,
    "start_time": "2022-10-14T07:46:19.416Z"
   },
   {
    "duration": 4,
    "start_time": "2022-10-14T07:46:19.426Z"
   },
   {
    "duration": 6,
    "start_time": "2022-10-14T07:46:19.431Z"
   },
   {
    "duration": 11,
    "start_time": "2022-10-14T07:46:19.438Z"
   },
   {
    "duration": 11,
    "start_time": "2022-10-14T07:46:19.450Z"
   },
   {
    "duration": 35,
    "start_time": "2022-10-14T07:46:19.462Z"
   },
   {
    "duration": 7,
    "start_time": "2022-10-14T07:46:19.498Z"
   },
   {
    "duration": 5,
    "start_time": "2022-10-14T07:46:19.508Z"
   },
   {
    "duration": 170,
    "start_time": "2022-10-14T07:46:19.516Z"
   },
   {
    "duration": 15,
    "start_time": "2022-10-14T07:46:19.688Z"
   },
   {
    "duration": 15,
    "start_time": "2022-10-14T07:46:19.705Z"
   },
   {
    "duration": 5,
    "start_time": "2022-10-14T07:46:19.721Z"
   },
   {
    "duration": 26,
    "start_time": "2022-10-14T07:46:19.728Z"
   },
   {
    "duration": 209,
    "start_time": "2022-10-14T07:46:19.756Z"
   },
   {
    "duration": 30,
    "start_time": "2022-10-14T07:46:19.966Z"
   },
   {
    "duration": 11,
    "start_time": "2022-10-14T07:46:19.999Z"
   },
   {
    "duration": 114,
    "start_time": "2022-10-14T07:46:20.011Z"
   },
   {
    "duration": 6,
    "start_time": "2022-10-14T07:46:20.127Z"
   },
   {
    "duration": 151,
    "start_time": "2022-10-14T07:46:20.134Z"
   },
   {
    "duration": 152,
    "start_time": "2022-10-14T07:46:20.286Z"
   },
   {
    "duration": 13,
    "start_time": "2022-10-14T07:46:20.440Z"
   },
   {
    "duration": 258,
    "start_time": "2022-10-14T07:46:20.454Z"
   },
   {
    "duration": 628,
    "start_time": "2022-10-14T07:46:20.714Z"
   },
   {
    "duration": 575,
    "start_time": "2022-10-14T07:46:21.344Z"
   },
   {
    "duration": 15,
    "start_time": "2022-10-14T07:46:21.920Z"
   },
   {
    "duration": 9,
    "start_time": "2022-10-14T07:46:21.936Z"
   },
   {
    "duration": 9,
    "start_time": "2022-10-14T07:46:21.946Z"
   },
   {
    "duration": 10,
    "start_time": "2022-10-14T07:46:21.956Z"
   },
   {
    "duration": 29,
    "start_time": "2022-10-14T07:46:21.968Z"
   },
   {
    "duration": 1334,
    "start_time": "2022-10-15T07:48:13.509Z"
   },
   {
    "duration": 85,
    "start_time": "2022-10-15T07:48:14.845Z"
   },
   {
    "duration": 16,
    "start_time": "2022-10-15T07:48:14.931Z"
   },
   {
    "duration": 3,
    "start_time": "2022-10-15T07:48:14.949Z"
   },
   {
    "duration": 8,
    "start_time": "2022-10-15T07:48:14.954Z"
   },
   {
    "duration": 13,
    "start_time": "2022-10-15T07:48:14.963Z"
   },
   {
    "duration": 68,
    "start_time": "2022-10-15T07:48:14.978Z"
   },
   {
    "duration": 6,
    "start_time": "2022-10-15T07:48:15.047Z"
   },
   {
    "duration": 8,
    "start_time": "2022-10-15T07:48:15.055Z"
   },
   {
    "duration": 7,
    "start_time": "2022-10-15T07:48:15.066Z"
   },
   {
    "duration": 7,
    "start_time": "2022-10-15T07:48:15.075Z"
   },
   {
    "duration": 10,
    "start_time": "2022-10-15T07:48:15.083Z"
   },
   {
    "duration": 9,
    "start_time": "2022-10-15T07:48:15.094Z"
   },
   {
    "duration": 30,
    "start_time": "2022-10-15T07:48:15.104Z"
   },
   {
    "duration": 6,
    "start_time": "2022-10-15T07:48:15.136Z"
   },
   {
    "duration": 6,
    "start_time": "2022-10-15T07:48:15.144Z"
   },
   {
    "duration": 7,
    "start_time": "2022-10-15T07:48:15.151Z"
   },
   {
    "duration": 18,
    "start_time": "2022-10-15T07:48:15.160Z"
   },
   {
    "duration": 7,
    "start_time": "2022-10-15T07:48:15.180Z"
   },
   {
    "duration": 9,
    "start_time": "2022-10-15T07:48:15.189Z"
   },
   {
    "duration": 176,
    "start_time": "2022-10-15T07:48:15.199Z"
   },
   {
    "duration": 11,
    "start_time": "2022-10-15T07:48:15.376Z"
   },
   {
    "duration": 25,
    "start_time": "2022-10-15T07:48:15.388Z"
   },
   {
    "duration": 5,
    "start_time": "2022-10-15T07:48:15.415Z"
   },
   {
    "duration": 26,
    "start_time": "2022-10-15T07:48:15.433Z"
   },
   {
    "duration": 227,
    "start_time": "2022-10-15T07:48:15.461Z"
   },
   {
    "duration": 26,
    "start_time": "2022-10-15T07:48:15.691Z"
   },
   {
    "duration": 22,
    "start_time": "2022-10-15T07:48:15.721Z"
   },
   {
    "duration": 108,
    "start_time": "2022-10-15T07:48:15.745Z"
   },
   {
    "duration": 5,
    "start_time": "2022-10-15T07:48:15.855Z"
   },
   {
    "duration": 174,
    "start_time": "2022-10-15T07:48:15.861Z"
   },
   {
    "duration": 185,
    "start_time": "2022-10-15T07:48:16.037Z"
   },
   {
    "duration": 18,
    "start_time": "2022-10-15T07:48:16.224Z"
   },
   {
    "duration": 319,
    "start_time": "2022-10-15T07:48:16.244Z"
   },
   {
    "duration": 702,
    "start_time": "2022-10-15T07:48:16.565Z"
   },
   {
    "duration": 594,
    "start_time": "2022-10-15T07:48:17.269Z"
   },
   {
    "duration": 14,
    "start_time": "2022-10-15T07:48:17.865Z"
   },
   {
    "duration": 15,
    "start_time": "2022-10-15T07:48:17.881Z"
   },
   {
    "duration": 6,
    "start_time": "2022-10-15T07:48:17.898Z"
   },
   {
    "duration": 29,
    "start_time": "2022-10-15T07:48:17.905Z"
   },
   {
    "duration": 4,
    "start_time": "2022-10-15T07:48:17.936Z"
   },
   {
    "duration": 200,
    "start_time": "2022-10-15T08:04:14.496Z"
   },
   {
    "duration": 104,
    "start_time": "2022-10-15T08:04:17.994Z"
   },
   {
    "duration": 106,
    "start_time": "2022-10-15T08:05:24.871Z"
   },
   {
    "duration": 1156,
    "start_time": "2022-10-15T08:06:00.004Z"
   },
   {
    "duration": 64,
    "start_time": "2022-10-15T08:06:01.162Z"
   },
   {
    "duration": 14,
    "start_time": "2022-10-15T08:06:01.227Z"
   },
   {
    "duration": 10,
    "start_time": "2022-10-15T08:06:01.242Z"
   },
   {
    "duration": 10,
    "start_time": "2022-10-15T08:06:01.254Z"
   },
   {
    "duration": 25,
    "start_time": "2022-10-15T08:06:01.266Z"
   },
   {
    "duration": 65,
    "start_time": "2022-10-15T08:06:01.293Z"
   },
   {
    "duration": 6,
    "start_time": "2022-10-15T08:06:01.360Z"
   },
   {
    "duration": 20,
    "start_time": "2022-10-15T08:06:01.368Z"
   },
   {
    "duration": 17,
    "start_time": "2022-10-15T08:06:01.390Z"
   },
   {
    "duration": 13,
    "start_time": "2022-10-15T08:06:01.409Z"
   },
   {
    "duration": 16,
    "start_time": "2022-10-15T08:06:01.424Z"
   },
   {
    "duration": 12,
    "start_time": "2022-10-15T08:06:01.442Z"
   },
   {
    "duration": 11,
    "start_time": "2022-10-15T08:06:01.458Z"
   },
   {
    "duration": 12,
    "start_time": "2022-10-15T08:06:01.471Z"
   },
   {
    "duration": 17,
    "start_time": "2022-10-15T08:06:01.485Z"
   },
   {
    "duration": 12,
    "start_time": "2022-10-15T08:06:01.503Z"
   },
   {
    "duration": 20,
    "start_time": "2022-10-15T08:06:01.516Z"
   },
   {
    "duration": 42,
    "start_time": "2022-10-15T08:06:01.538Z"
   },
   {
    "duration": 8,
    "start_time": "2022-10-15T08:06:01.582Z"
   },
   {
    "duration": 158,
    "start_time": "2022-10-15T08:06:01.592Z"
   },
   {
    "duration": 10,
    "start_time": "2022-10-15T08:06:01.752Z"
   },
   {
    "duration": 15,
    "start_time": "2022-10-15T08:06:01.764Z"
   },
   {
    "duration": 4,
    "start_time": "2022-10-15T08:06:01.780Z"
   },
   {
    "duration": 27,
    "start_time": "2022-10-15T08:06:01.786Z"
   },
   {
    "duration": 206,
    "start_time": "2022-10-15T08:06:01.814Z"
   },
   {
    "duration": 32,
    "start_time": "2022-10-15T08:06:02.021Z"
   },
   {
    "duration": 10,
    "start_time": "2022-10-15T08:06:02.055Z"
   },
   {
    "duration": 118,
    "start_time": "2022-10-15T08:06:02.067Z"
   },
   {
    "duration": 7,
    "start_time": "2022-10-15T08:06:02.187Z"
   },
   {
    "duration": 158,
    "start_time": "2022-10-15T08:06:02.196Z"
   },
   {
    "duration": 164,
    "start_time": "2022-10-15T08:06:02.356Z"
   },
   {
    "duration": 19,
    "start_time": "2022-10-15T08:06:02.522Z"
   },
   {
    "duration": 264,
    "start_time": "2022-10-15T08:06:02.543Z"
   },
   {
    "duration": 628,
    "start_time": "2022-10-15T08:06:02.809Z"
   },
   {
    "duration": 602,
    "start_time": "2022-10-15T08:06:03.438Z"
   },
   {
    "duration": 16,
    "start_time": "2022-10-15T08:06:04.041Z"
   },
   {
    "duration": 7,
    "start_time": "2022-10-15T08:06:04.058Z"
   },
   {
    "duration": 6,
    "start_time": "2022-10-15T08:06:04.066Z"
   },
   {
    "duration": 9,
    "start_time": "2022-10-15T08:06:04.073Z"
   },
   {
    "duration": 4,
    "start_time": "2022-10-15T08:06:04.085Z"
   },
   {
    "duration": 1081,
    "start_time": "2022-10-15T08:17:47.255Z"
   },
   {
    "duration": 57,
    "start_time": "2022-10-15T08:17:48.337Z"
   },
   {
    "duration": 14,
    "start_time": "2022-10-15T08:17:48.395Z"
   },
   {
    "duration": 8,
    "start_time": "2022-10-15T08:17:48.410Z"
   },
   {
    "duration": 7,
    "start_time": "2022-10-15T08:17:48.419Z"
   },
   {
    "duration": 15,
    "start_time": "2022-10-15T08:17:48.427Z"
   },
   {
    "duration": 49,
    "start_time": "2022-10-15T08:17:48.443Z"
   },
   {
    "duration": 6,
    "start_time": "2022-10-15T08:17:48.493Z"
   },
   {
    "duration": 8,
    "start_time": "2022-10-15T08:17:48.500Z"
   },
   {
    "duration": 24,
    "start_time": "2022-10-15T08:17:48.510Z"
   },
   {
    "duration": 5,
    "start_time": "2022-10-15T08:17:48.536Z"
   },
   {
    "duration": 9,
    "start_time": "2022-10-15T08:17:48.542Z"
   },
   {
    "duration": 8,
    "start_time": "2022-10-15T08:17:48.552Z"
   },
   {
    "duration": 4,
    "start_time": "2022-10-15T08:17:48.562Z"
   },
   {
    "duration": 7,
    "start_time": "2022-10-15T08:17:48.567Z"
   },
   {
    "duration": 8,
    "start_time": "2022-10-15T08:17:48.575Z"
   },
   {
    "duration": 7,
    "start_time": "2022-10-15T08:17:48.584Z"
   },
   {
    "duration": 5,
    "start_time": "2022-10-15T08:17:48.593Z"
   },
   {
    "duration": 35,
    "start_time": "2022-10-15T08:17:48.599Z"
   },
   {
    "duration": 10,
    "start_time": "2022-10-15T08:17:48.636Z"
   },
   {
    "duration": 170,
    "start_time": "2022-10-15T08:17:48.647Z"
   },
   {
    "duration": 15,
    "start_time": "2022-10-15T08:17:48.818Z"
   },
   {
    "duration": 14,
    "start_time": "2022-10-15T08:17:48.834Z"
   },
   {
    "duration": 4,
    "start_time": "2022-10-15T08:17:48.850Z"
   },
   {
    "duration": 23,
    "start_time": "2022-10-15T08:17:48.855Z"
   },
   {
    "duration": 207,
    "start_time": "2022-10-15T08:17:48.880Z"
   },
   {
    "duration": 24,
    "start_time": "2022-10-15T08:17:49.089Z"
   },
   {
    "duration": 25,
    "start_time": "2022-10-15T08:17:49.116Z"
   },
   {
    "duration": 100,
    "start_time": "2022-10-15T08:17:49.143Z"
   },
   {
    "duration": 5,
    "start_time": "2022-10-15T08:17:49.244Z"
   },
   {
    "duration": 142,
    "start_time": "2022-10-15T08:17:49.250Z"
   },
   {
    "duration": 148,
    "start_time": "2022-10-15T08:17:49.394Z"
   },
   {
    "duration": 16,
    "start_time": "2022-10-15T08:17:49.543Z"
   },
   {
    "duration": 267,
    "start_time": "2022-10-15T08:17:49.562Z"
   },
   {
    "duration": 592,
    "start_time": "2022-10-15T08:17:49.833Z"
   },
   {
    "duration": 570,
    "start_time": "2022-10-15T08:17:50.427Z"
   },
   {
    "duration": 15,
    "start_time": "2022-10-15T08:17:51.000Z"
   },
   {
    "duration": 22,
    "start_time": "2022-10-15T08:17:51.016Z"
   },
   {
    "duration": 18,
    "start_time": "2022-10-15T08:17:51.040Z"
   },
   {
    "duration": 13,
    "start_time": "2022-10-15T08:17:51.059Z"
   },
   {
    "duration": 12,
    "start_time": "2022-10-15T08:17:51.074Z"
   },
   {
    "duration": 1246,
    "start_time": "2022-10-15T15:08:02.975Z"
   },
   {
    "duration": 79,
    "start_time": "2022-10-15T15:08:04.223Z"
   },
   {
    "duration": 14,
    "start_time": "2022-10-15T15:08:04.306Z"
   },
   {
    "duration": 3,
    "start_time": "2022-10-15T15:08:04.322Z"
   },
   {
    "duration": 5,
    "start_time": "2022-10-15T15:08:04.327Z"
   },
   {
    "duration": 12,
    "start_time": "2022-10-15T15:08:04.333Z"
   },
   {
    "duration": 81,
    "start_time": "2022-10-15T15:08:04.347Z"
   },
   {
    "duration": 7,
    "start_time": "2022-10-15T15:08:04.430Z"
   },
   {
    "duration": 20,
    "start_time": "2022-10-15T15:08:04.440Z"
   },
   {
    "duration": 11,
    "start_time": "2022-10-15T15:08:04.462Z"
   },
   {
    "duration": 7,
    "start_time": "2022-10-15T15:08:04.474Z"
   },
   {
    "duration": 11,
    "start_time": "2022-10-15T15:08:04.483Z"
   },
   {
    "duration": 13,
    "start_time": "2022-10-15T15:08:04.509Z"
   },
   {
    "duration": 18,
    "start_time": "2022-10-15T15:08:04.524Z"
   },
   {
    "duration": 8,
    "start_time": "2022-10-15T15:08:04.543Z"
   },
   {
    "duration": 8,
    "start_time": "2022-10-15T15:08:04.553Z"
   },
   {
    "duration": 17,
    "start_time": "2022-10-15T15:08:04.563Z"
   },
   {
    "duration": 13,
    "start_time": "2022-10-15T15:08:04.582Z"
   },
   {
    "duration": 9,
    "start_time": "2022-10-15T15:08:04.597Z"
   },
   {
    "duration": 11,
    "start_time": "2022-10-15T15:08:04.609Z"
   },
   {
    "duration": 18,
    "start_time": "2022-10-15T15:08:04.622Z"
   },
   {
    "duration": 26,
    "start_time": "2022-10-15T15:08:04.641Z"
   },
   {
    "duration": 158,
    "start_time": "2022-10-15T15:08:04.669Z"
   },
   {
    "duration": 9,
    "start_time": "2022-10-15T15:08:04.829Z"
   },
   {
    "duration": 14,
    "start_time": "2022-10-15T15:08:04.840Z"
   },
   {
    "duration": 5,
    "start_time": "2022-10-15T15:08:04.855Z"
   },
   {
    "duration": 21,
    "start_time": "2022-10-15T15:08:04.863Z"
   },
   {
    "duration": 184,
    "start_time": "2022-10-15T15:08:04.909Z"
   },
   {
    "duration": 28,
    "start_time": "2022-10-15T15:08:05.095Z"
   },
   {
    "duration": 16,
    "start_time": "2022-10-15T15:08:05.124Z"
   },
   {
    "duration": 218,
    "start_time": "2022-10-15T15:08:05.142Z"
   },
   {
    "duration": 5,
    "start_time": "2022-10-15T15:08:05.362Z"
   },
   {
    "duration": 141,
    "start_time": "2022-10-15T15:08:05.368Z"
   },
   {
    "duration": 139,
    "start_time": "2022-10-15T15:08:05.511Z"
   },
   {
    "duration": 15,
    "start_time": "2022-10-15T15:08:05.651Z"
   },
   {
    "duration": 267,
    "start_time": "2022-10-15T15:08:05.667Z"
   },
   {
    "duration": 321,
    "start_time": "2022-10-15T15:08:05.936Z"
   },
   {
    "duration": 286,
    "start_time": "2022-10-15T15:08:06.259Z"
   },
   {
    "duration": 481,
    "start_time": "2022-10-15T15:08:06.547Z"
   },
   {
    "duration": 562,
    "start_time": "2022-10-15T15:08:07.029Z"
   },
   {
    "duration": 21,
    "start_time": "2022-10-15T15:08:07.593Z"
   },
   {
    "duration": 9,
    "start_time": "2022-10-15T15:08:07.615Z"
   },
   {
    "duration": 8,
    "start_time": "2022-10-15T15:08:07.626Z"
   },
   {
    "duration": 9,
    "start_time": "2022-10-15T15:08:07.636Z"
   },
   {
    "duration": 4,
    "start_time": "2022-10-15T15:08:07.646Z"
   },
   {
    "duration": 1061,
    "start_time": "2022-10-15T15:11:51.045Z"
   },
   {
    "duration": 55,
    "start_time": "2022-10-15T15:11:52.109Z"
   },
   {
    "duration": 13,
    "start_time": "2022-10-15T15:11:52.166Z"
   },
   {
    "duration": 3,
    "start_time": "2022-10-15T15:11:52.181Z"
   },
   {
    "duration": 8,
    "start_time": "2022-10-15T15:11:52.186Z"
   },
   {
    "duration": 24,
    "start_time": "2022-10-15T15:11:52.195Z"
   },
   {
    "duration": 60,
    "start_time": "2022-10-15T15:11:52.221Z"
   },
   {
    "duration": 7,
    "start_time": "2022-10-15T15:11:52.282Z"
   },
   {
    "duration": 19,
    "start_time": "2022-10-15T15:11:52.290Z"
   },
   {
    "duration": 5,
    "start_time": "2022-10-15T15:11:52.311Z"
   },
   {
    "duration": 9,
    "start_time": "2022-10-15T15:11:52.317Z"
   },
   {
    "duration": 7,
    "start_time": "2022-10-15T15:11:52.327Z"
   },
   {
    "duration": 8,
    "start_time": "2022-10-15T15:11:52.336Z"
   },
   {
    "duration": 7,
    "start_time": "2022-10-15T15:11:52.345Z"
   },
   {
    "duration": 11,
    "start_time": "2022-10-15T15:11:52.353Z"
   },
   {
    "duration": 16,
    "start_time": "2022-10-15T15:11:52.366Z"
   },
   {
    "duration": 11,
    "start_time": "2022-10-15T15:11:52.383Z"
   },
   {
    "duration": 16,
    "start_time": "2022-10-15T15:11:52.395Z"
   },
   {
    "duration": 12,
    "start_time": "2022-10-15T15:11:52.412Z"
   },
   {
    "duration": 12,
    "start_time": "2022-10-15T15:11:52.425Z"
   },
   {
    "duration": 15,
    "start_time": "2022-10-15T15:11:52.438Z"
   },
   {
    "duration": 26,
    "start_time": "2022-10-15T15:11:52.455Z"
   },
   {
    "duration": 166,
    "start_time": "2022-10-15T15:11:52.483Z"
   },
   {
    "duration": 10,
    "start_time": "2022-10-15T15:11:52.650Z"
   },
   {
    "duration": 16,
    "start_time": "2022-10-15T15:11:52.661Z"
   },
   {
    "duration": 5,
    "start_time": "2022-10-15T15:11:52.681Z"
   },
   {
    "duration": 37,
    "start_time": "2022-10-15T15:11:52.687Z"
   },
   {
    "duration": 206,
    "start_time": "2022-10-15T15:11:52.728Z"
   },
   {
    "duration": 24,
    "start_time": "2022-10-15T15:11:52.935Z"
   },
   {
    "duration": 9,
    "start_time": "2022-10-15T15:11:52.961Z"
   },
   {
    "duration": 184,
    "start_time": "2022-10-15T15:11:52.972Z"
   },
   {
    "duration": 4,
    "start_time": "2022-10-15T15:11:53.158Z"
   },
   {
    "duration": 142,
    "start_time": "2022-10-15T15:11:53.163Z"
   },
   {
    "duration": 138,
    "start_time": "2022-10-15T15:11:53.309Z"
   },
   {
    "duration": 12,
    "start_time": "2022-10-15T15:11:53.449Z"
   },
   {
    "duration": 261,
    "start_time": "2022-10-15T15:11:53.462Z"
   },
   {
    "duration": 316,
    "start_time": "2022-10-15T15:11:53.725Z"
   },
   {
    "duration": 238,
    "start_time": "2022-10-15T15:11:54.043Z"
   },
   {
    "duration": 542,
    "start_time": "2022-10-15T15:11:54.283Z"
   },
   {
    "duration": 579,
    "start_time": "2022-10-15T15:11:54.827Z"
   },
   {
    "duration": 13,
    "start_time": "2022-10-15T15:11:55.408Z"
   },
   {
    "duration": 14,
    "start_time": "2022-10-15T15:11:55.423Z"
   },
   {
    "duration": 5,
    "start_time": "2022-10-15T15:11:55.439Z"
   },
   {
    "duration": 16,
    "start_time": "2022-10-15T15:11:55.446Z"
   },
   {
    "duration": 9,
    "start_time": "2022-10-15T15:11:55.464Z"
   },
   {
    "duration": 1170,
    "start_time": "2022-10-15T15:34:14.146Z"
   },
   {
    "duration": 55,
    "start_time": "2022-10-15T15:34:15.318Z"
   },
   {
    "duration": 14,
    "start_time": "2022-10-15T15:34:15.378Z"
   },
   {
    "duration": 4,
    "start_time": "2022-10-15T15:34:15.393Z"
   },
   {
    "duration": 27,
    "start_time": "2022-10-15T15:34:15.398Z"
   },
   {
    "duration": 24,
    "start_time": "2022-10-15T15:34:15.426Z"
   },
   {
    "duration": 56,
    "start_time": "2022-10-15T15:34:15.452Z"
   },
   {
    "duration": 7,
    "start_time": "2022-10-15T15:34:15.509Z"
   },
   {
    "duration": 20,
    "start_time": "2022-10-15T15:34:15.518Z"
   },
   {
    "duration": 20,
    "start_time": "2022-10-15T15:34:15.539Z"
   },
   {
    "duration": 14,
    "start_time": "2022-10-15T15:34:15.561Z"
   },
   {
    "duration": 20,
    "start_time": "2022-10-15T15:34:15.577Z"
   },
   {
    "duration": 16,
    "start_time": "2022-10-15T15:34:15.598Z"
   },
   {
    "duration": 17,
    "start_time": "2022-10-15T15:34:15.616Z"
   },
   {
    "duration": 15,
    "start_time": "2022-10-15T15:34:15.635Z"
   },
   {
    "duration": 16,
    "start_time": "2022-10-15T15:34:15.651Z"
   },
   {
    "duration": 19,
    "start_time": "2022-10-15T15:34:15.669Z"
   },
   {
    "duration": 19,
    "start_time": "2022-10-15T15:34:15.690Z"
   },
   {
    "duration": 3,
    "start_time": "2022-10-15T15:34:15.710Z"
   },
   {
    "duration": 7,
    "start_time": "2022-10-15T15:34:15.715Z"
   },
   {
    "duration": 18,
    "start_time": "2022-10-15T15:34:15.724Z"
   },
   {
    "duration": 25,
    "start_time": "2022-10-15T15:34:15.743Z"
   },
   {
    "duration": 164,
    "start_time": "2022-10-15T15:34:15.770Z"
   },
   {
    "duration": 9,
    "start_time": "2022-10-15T15:34:15.936Z"
   },
   {
    "duration": 17,
    "start_time": "2022-10-15T15:34:15.946Z"
   },
   {
    "duration": 6,
    "start_time": "2022-10-15T15:34:15.964Z"
   },
   {
    "duration": 49,
    "start_time": "2022-10-15T15:34:15.973Z"
   },
   {
    "duration": 205,
    "start_time": "2022-10-15T15:34:16.024Z"
   },
   {
    "duration": 30,
    "start_time": "2022-10-15T15:34:16.232Z"
   },
   {
    "duration": 12,
    "start_time": "2022-10-15T15:34:16.264Z"
   },
   {
    "duration": 202,
    "start_time": "2022-10-15T15:34:16.277Z"
   },
   {
    "duration": 6,
    "start_time": "2022-10-15T15:34:16.481Z"
   },
   {
    "duration": 154,
    "start_time": "2022-10-15T15:34:16.488Z"
   },
   {
    "duration": 151,
    "start_time": "2022-10-15T15:34:16.643Z"
   },
   {
    "duration": 18,
    "start_time": "2022-10-15T15:34:16.796Z"
   },
   {
    "duration": 306,
    "start_time": "2022-10-15T15:34:16.816Z"
   },
   {
    "duration": 381,
    "start_time": "2022-10-15T15:34:17.124Z"
   },
   {
    "duration": 236,
    "start_time": "2022-10-15T15:34:17.509Z"
   },
   {
    "duration": 487,
    "start_time": "2022-10-15T15:34:17.746Z"
   },
   {
    "duration": 568,
    "start_time": "2022-10-15T15:34:18.237Z"
   },
   {
    "duration": 15,
    "start_time": "2022-10-15T15:34:18.809Z"
   },
   {
    "duration": 7,
    "start_time": "2022-10-15T15:34:18.825Z"
   },
   {
    "duration": 6,
    "start_time": "2022-10-15T15:34:18.834Z"
   },
   {
    "duration": 13,
    "start_time": "2022-10-15T15:34:18.841Z"
   },
   {
    "duration": 6,
    "start_time": "2022-10-15T15:34:18.855Z"
   },
   {
    "duration": 51,
    "start_time": "2023-02-21T11:43:05.423Z"
   },
   {
    "duration": 1288,
    "start_time": "2023-02-21T11:43:14.848Z"
   },
   {
    "duration": 109,
    "start_time": "2023-02-21T11:43:16.138Z"
   },
   {
    "duration": 14,
    "start_time": "2023-02-21T11:43:16.249Z"
   },
   {
    "duration": 14,
    "start_time": "2023-02-21T11:43:16.265Z"
   },
   {
    "duration": 9,
    "start_time": "2023-02-21T11:43:16.281Z"
   },
   {
    "duration": 18,
    "start_time": "2023-02-21T11:43:16.292Z"
   },
   {
    "duration": 56,
    "start_time": "2023-02-21T11:43:16.312Z"
   },
   {
    "duration": 7,
    "start_time": "2023-02-21T11:43:16.370Z"
   },
   {
    "duration": 25,
    "start_time": "2023-02-21T11:43:16.379Z"
   },
   {
    "duration": 8,
    "start_time": "2023-02-21T11:43:16.407Z"
   },
   {
    "duration": 10,
    "start_time": "2023-02-21T11:43:16.416Z"
   },
   {
    "duration": 26,
    "start_time": "2023-02-21T11:43:16.428Z"
   },
   {
    "duration": 9,
    "start_time": "2023-02-21T11:43:16.456Z"
   },
   {
    "duration": 6,
    "start_time": "2023-02-21T11:43:16.466Z"
   },
   {
    "duration": 6,
    "start_time": "2023-02-21T11:43:16.474Z"
   },
   {
    "duration": 6,
    "start_time": "2023-02-21T11:43:16.482Z"
   },
   {
    "duration": 21,
    "start_time": "2023-02-21T11:43:16.490Z"
   },
   {
    "duration": 8,
    "start_time": "2023-02-21T11:43:16.513Z"
   },
   {
    "duration": 9,
    "start_time": "2023-02-21T11:43:16.522Z"
   },
   {
    "duration": 7,
    "start_time": "2023-02-21T11:43:16.533Z"
   },
   {
    "duration": 18,
    "start_time": "2023-02-21T11:43:16.542Z"
   },
   {
    "duration": 46,
    "start_time": "2023-02-21T11:43:16.562Z"
   },
   {
    "duration": 168,
    "start_time": "2023-02-21T11:43:16.609Z"
   },
   {
    "duration": 10,
    "start_time": "2023-02-21T11:43:16.779Z"
   },
   {
    "duration": 26,
    "start_time": "2023-02-21T11:43:16.791Z"
   },
   {
    "duration": 5,
    "start_time": "2023-02-21T11:43:16.819Z"
   },
   {
    "duration": 26,
    "start_time": "2023-02-21T11:43:16.825Z"
   },
   {
    "duration": 225,
    "start_time": "2023-02-21T11:43:16.854Z"
   },
   {
    "duration": 33,
    "start_time": "2023-02-21T11:43:17.081Z"
   },
   {
    "duration": 10,
    "start_time": "2023-02-21T11:43:17.116Z"
   },
   {
    "duration": 221,
    "start_time": "2023-02-21T11:43:17.128Z"
   },
   {
    "duration": 5,
    "start_time": "2023-02-21T11:43:17.351Z"
   },
   {
    "duration": 161,
    "start_time": "2023-02-21T11:43:17.358Z"
   },
   {
    "duration": 165,
    "start_time": "2023-02-21T11:43:17.521Z"
   },
   {
    "duration": 23,
    "start_time": "2023-02-21T11:43:17.688Z"
   },
   {
    "duration": 327,
    "start_time": "2023-02-21T11:43:17.712Z"
   },
   {
    "duration": 483,
    "start_time": "2023-02-21T11:43:18.041Z"
   },
   {
    "duration": 0,
    "start_time": "2023-02-21T11:43:18.526Z"
   },
   {
    "duration": 0,
    "start_time": "2023-02-21T11:43:18.527Z"
   },
   {
    "duration": 0,
    "start_time": "2023-02-21T11:43:18.528Z"
   },
   {
    "duration": 0,
    "start_time": "2023-02-21T11:43:18.529Z"
   },
   {
    "duration": 0,
    "start_time": "2023-02-21T11:43:18.530Z"
   },
   {
    "duration": 0,
    "start_time": "2023-02-21T11:43:18.531Z"
   },
   {
    "duration": 0,
    "start_time": "2023-02-21T11:43:18.532Z"
   },
   {
    "duration": 0,
    "start_time": "2023-02-21T11:43:18.533Z"
   },
   {
    "duration": 320,
    "start_time": "2023-02-21T11:43:48.597Z"
   },
   {
    "duration": 338,
    "start_time": "2023-02-21T11:43:54.242Z"
   },
   {
    "duration": 52,
    "start_time": "2023-02-21T11:44:09.396Z"
   },
   {
    "duration": 54,
    "start_time": "2023-02-21T11:44:49.979Z"
   },
   {
    "duration": 61,
    "start_time": "2023-02-21T11:45:10.236Z"
   }
  ],
  "kernelspec": {
   "display_name": "Python 3 (ipykernel)",
   "language": "python",
   "name": "python3"
  },
  "language_info": {
   "codemirror_mode": {
    "name": "ipython",
    "version": 3
   },
   "file_extension": ".py",
   "mimetype": "text/x-python",
   "name": "python",
   "nbconvert_exporter": "python",
   "pygments_lexer": "ipython3",
   "version": "3.11.0"
  },
  "toc": {
   "base_numbering": 1,
   "nav_menu": {},
   "number_sections": true,
   "sideBar": true,
   "skip_h1_title": true,
   "title_cell": "Table of Contents",
   "title_sidebar": "Contents",
   "toc_cell": false,
   "toc_position": {
    "height": "calc(100% - 180px)",
    "left": "10px",
    "top": "150px",
    "width": "511.188px"
   },
   "toc_section_display": true,
   "toc_window_display": true
  }
 },
 "nbformat": 4,
 "nbformat_minor": 2
}
