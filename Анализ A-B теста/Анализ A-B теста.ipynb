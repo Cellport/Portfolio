{
 "cells": [
  {
   "cell_type": "markdown",
   "metadata": {},
   "source": [
    "# Цель исследования"
   ]
  },
  {
   "cell_type": "markdown",
   "metadata": {},
   "source": [
    "Наше исследование предполагает две основных части, в первой мы приоретизируем имеющиеся гипотезы, во второй проведём A\\B тестирование, построим графики и сделаем вывод по итогам проведённого теста. "
   ]
  },
  {
   "cell_type": "code",
   "execution_count": 1,
   "metadata": {},
   "outputs": [],
   "source": [
    "#для начала импортируем библиотеки, необходимые нам для исследования\n",
    "import pandas as pd\n",
    "from scipy import stats as st\n",
    "import numpy as np\n",
    "import math as mth\n",
    "import datetime as dt\n",
    "import matplotlib.pyplot as plt\n",
    "from pandas.plotting import register_matplotlib_converters\n",
    "import warnings"
   ]
  },
  {
   "cell_type": "markdown",
   "metadata": {},
   "source": [
    "## Приоритизация гипотез."
   ]
  },
  {
   "cell_type": "markdown",
   "metadata": {},
   "source": [
    "В нашем распоряжении имеется датасет с гипотезами по увеличению выручки интернет-магазина и их оценками по различным параметрам:\n",
    "- **Hypothesis** — краткое описание гипотезы;\n",
    "- **Reach** — охват пользователей по 10-балльной шкале;\n",
    "- **Impact** — влияние на пользователей по 10-балльной шкале;\n",
    "- **Confidence** — уверенность в гипотезе по 10-балльной шкале;\n",
    "- **Efforts** — затраты ресурсов на проверку гипотезы по 10-балльной шкале. Чем больше значение Efforts, тем дороже проверка гипотезы."
   ]
  },
  {
   "cell_type": "code",
   "execution_count": 2,
   "metadata": {
    "scrolled": false
   },
   "outputs": [],
   "source": [
    "try:\n",
    "    data = pd.read_csv('/datasets/hypothesis.csv')\n",
    "except:\n",
    "    data = pd.read_csv('https://raw.githubusercontent.com/Cellport/Projects/main/%D0%90%D0%BD%D0%B0%D0%BB%D0%B8%D0%B7%20A-B%20%D1%82%D0%B5%D1%81%D1%82%D0%B0/hypothesis.csv')"
   ]
  },
  {
   "cell_type": "code",
   "execution_count": 3,
   "metadata": {},
   "outputs": [
    {
     "data": {
      "text/html": [
       "<div>\n",
       "<style scoped>\n",
       "    .dataframe tbody tr th:only-of-type {\n",
       "        vertical-align: middle;\n",
       "    }\n",
       "\n",
       "    .dataframe tbody tr th {\n",
       "        vertical-align: top;\n",
       "    }\n",
       "\n",
       "    .dataframe thead th {\n",
       "        text-align: right;\n",
       "    }\n",
       "</style>\n",
       "<table border=\"1\" class=\"dataframe\">\n",
       "  <thead>\n",
       "    <tr style=\"text-align: right;\">\n",
       "      <th></th>\n",
       "      <th>Hypothesis</th>\n",
       "      <th>Reach</th>\n",
       "      <th>Impact</th>\n",
       "      <th>Confidence</th>\n",
       "      <th>Efforts</th>\n",
       "    </tr>\n",
       "  </thead>\n",
       "  <tbody>\n",
       "    <tr>\n",
       "      <th>0</th>\n",
       "      <td>Добавить два новых канала привлечения трафика,...</td>\n",
       "      <td>3</td>\n",
       "      <td>10</td>\n",
       "      <td>8</td>\n",
       "      <td>6</td>\n",
       "    </tr>\n",
       "    <tr>\n",
       "      <th>1</th>\n",
       "      <td>Запустить собственную службу доставки, что сок...</td>\n",
       "      <td>2</td>\n",
       "      <td>5</td>\n",
       "      <td>4</td>\n",
       "      <td>10</td>\n",
       "    </tr>\n",
       "    <tr>\n",
       "      <th>2</th>\n",
       "      <td>Добавить блоки рекомендаций товаров на сайт ин...</td>\n",
       "      <td>8</td>\n",
       "      <td>3</td>\n",
       "      <td>7</td>\n",
       "      <td>3</td>\n",
       "    </tr>\n",
       "    <tr>\n",
       "      <th>3</th>\n",
       "      <td>Изменить структура категорий, что увеличит кон...</td>\n",
       "      <td>8</td>\n",
       "      <td>3</td>\n",
       "      <td>3</td>\n",
       "      <td>8</td>\n",
       "    </tr>\n",
       "    <tr>\n",
       "      <th>4</th>\n",
       "      <td>Изменить цвет фона главной страницы, чтобы уве...</td>\n",
       "      <td>3</td>\n",
       "      <td>1</td>\n",
       "      <td>1</td>\n",
       "      <td>1</td>\n",
       "    </tr>\n",
       "    <tr>\n",
       "      <th>5</th>\n",
       "      <td>Добавить страницу отзывов клиентов о магазине,...</td>\n",
       "      <td>3</td>\n",
       "      <td>2</td>\n",
       "      <td>2</td>\n",
       "      <td>3</td>\n",
       "    </tr>\n",
       "    <tr>\n",
       "      <th>6</th>\n",
       "      <td>Показать на главной странице баннеры с актуаль...</td>\n",
       "      <td>5</td>\n",
       "      <td>3</td>\n",
       "      <td>8</td>\n",
       "      <td>3</td>\n",
       "    </tr>\n",
       "    <tr>\n",
       "      <th>7</th>\n",
       "      <td>Добавить форму подписки на все основные страни...</td>\n",
       "      <td>10</td>\n",
       "      <td>7</td>\n",
       "      <td>8</td>\n",
       "      <td>5</td>\n",
       "    </tr>\n",
       "    <tr>\n",
       "      <th>8</th>\n",
       "      <td>Запустить акцию, дающую скидку на товар в день...</td>\n",
       "      <td>1</td>\n",
       "      <td>9</td>\n",
       "      <td>9</td>\n",
       "      <td>5</td>\n",
       "    </tr>\n",
       "  </tbody>\n",
       "</table>\n",
       "</div>"
      ],
      "text/plain": [
       "                                          Hypothesis  Reach  Impact  \\\n",
       "0  Добавить два новых канала привлечения трафика,...      3      10   \n",
       "1  Запустить собственную службу доставки, что сок...      2       5   \n",
       "2  Добавить блоки рекомендаций товаров на сайт ин...      8       3   \n",
       "3  Изменить структура категорий, что увеличит кон...      8       3   \n",
       "4  Изменить цвет фона главной страницы, чтобы уве...      3       1   \n",
       "5  Добавить страницу отзывов клиентов о магазине,...      3       2   \n",
       "6  Показать на главной странице баннеры с актуаль...      5       3   \n",
       "7  Добавить форму подписки на все основные страни...     10       7   \n",
       "8  Запустить акцию, дающую скидку на товар в день...      1       9   \n",
       "\n",
       "   Confidence  Efforts  \n",
       "0           8        6  \n",
       "1           4       10  \n",
       "2           7        3  \n",
       "3           3        8  \n",
       "4           1        1  \n",
       "5           2        3  \n",
       "6           8        3  \n",
       "7           8        5  \n",
       "8           9        5  "
      ]
     },
     "execution_count": 3,
     "metadata": {},
     "output_type": "execute_result"
    }
   ],
   "source": [
    "data"
   ]
  },
  {
   "cell_type": "code",
   "execution_count": 4,
   "metadata": {},
   "outputs": [],
   "source": [
    "#приведём названия столбцов датафрейма к строчному виду для удобства расчётов\n",
    "data.columns = data.columns.str.lower()"
   ]
  },
  {
   "cell_type": "markdown",
   "metadata": {},
   "source": [
    "**Задачи первой части исследования:**\n",
    "\n",
    "1. Применить фреймворк ICE для приоритизации гипотез. Отсортировать их по убыванию приоритета.\n",
    "\n",
    "2. Применить фреймворк RICE для приоритизации гипотез. Отсортировать их по убыванию приоритета.\n",
    "\n",
    "3. Указать, как изменилась приоритизация гипотез при применении RICE вместо ICE. Объяснить, почему так произошло."
   ]
  },
  {
   "cell_type": "markdown",
   "metadata": {},
   "source": [
    "1. Применим фреймворк ICE для приоритизации гипотез."
   ]
  },
  {
   "cell_type": "code",
   "execution_count": 5,
   "metadata": {},
   "outputs": [
    {
     "data": {
      "text/html": [
       "<div>\n",
       "<style scoped>\n",
       "    .dataframe tbody tr th:only-of-type {\n",
       "        vertical-align: middle;\n",
       "    }\n",
       "\n",
       "    .dataframe tbody tr th {\n",
       "        vertical-align: top;\n",
       "    }\n",
       "\n",
       "    .dataframe thead th {\n",
       "        text-align: right;\n",
       "    }\n",
       "</style>\n",
       "<table border=\"1\" class=\"dataframe\">\n",
       "  <thead>\n",
       "    <tr style=\"text-align: right;\">\n",
       "      <th></th>\n",
       "      <th>hypothesis</th>\n",
       "      <th>ice</th>\n",
       "    </tr>\n",
       "  </thead>\n",
       "  <tbody>\n",
       "    <tr>\n",
       "      <th>8</th>\n",
       "      <td>Запустить акцию, дающую скидку на товар в день рождения</td>\n",
       "      <td>16.200000</td>\n",
       "    </tr>\n",
       "    <tr>\n",
       "      <th>0</th>\n",
       "      <td>Добавить два новых канала привлечения трафика, что позволит привлекать на 30% больше пользователей</td>\n",
       "      <td>13.333333</td>\n",
       "    </tr>\n",
       "    <tr>\n",
       "      <th>7</th>\n",
       "      <td>Добавить форму подписки на все основные страницы, чтобы собрать базу клиентов для email-рассылок</td>\n",
       "      <td>11.200000</td>\n",
       "    </tr>\n",
       "    <tr>\n",
       "      <th>6</th>\n",
       "      <td>Показать на главной странице баннеры с актуальными акциями и распродажами, чтобы увеличить конверсию</td>\n",
       "      <td>8.000000</td>\n",
       "    </tr>\n",
       "    <tr>\n",
       "      <th>2</th>\n",
       "      <td>Добавить блоки рекомендаций товаров на сайт интернет магазина, чтобы повысить конверсию и средний чек заказа</td>\n",
       "      <td>7.000000</td>\n",
       "    </tr>\n",
       "    <tr>\n",
       "      <th>1</th>\n",
       "      <td>Запустить собственную службу доставки, что сократит срок доставки заказов</td>\n",
       "      <td>2.000000</td>\n",
       "    </tr>\n",
       "    <tr>\n",
       "      <th>5</th>\n",
       "      <td>Добавить страницу отзывов клиентов о магазине, что позволит увеличить количество заказов</td>\n",
       "      <td>1.333333</td>\n",
       "    </tr>\n",
       "    <tr>\n",
       "      <th>3</th>\n",
       "      <td>Изменить структура категорий, что увеличит конверсию, т.к. пользователи быстрее найдут нужный товар</td>\n",
       "      <td>1.125000</td>\n",
       "    </tr>\n",
       "    <tr>\n",
       "      <th>4</th>\n",
       "      <td>Изменить цвет фона главной страницы, чтобы увеличить вовлеченность пользователей</td>\n",
       "      <td>1.000000</td>\n",
       "    </tr>\n",
       "  </tbody>\n",
       "</table>\n",
       "</div>"
      ],
      "text/plain": [
       "                                                                                                     hypothesis  \\\n",
       "8                                                       Запустить акцию, дающую скидку на товар в день рождения   \n",
       "0            Добавить два новых канала привлечения трафика, что позволит привлекать на 30% больше пользователей   \n",
       "7              Добавить форму подписки на все основные страницы, чтобы собрать базу клиентов для email-рассылок   \n",
       "6          Показать на главной странице баннеры с актуальными акциями и распродажами, чтобы увеличить конверсию   \n",
       "2  Добавить блоки рекомендаций товаров на сайт интернет магазина, чтобы повысить конверсию и средний чек заказа   \n",
       "1                                     Запустить собственную службу доставки, что сократит срок доставки заказов   \n",
       "5                      Добавить страницу отзывов клиентов о магазине, что позволит увеличить количество заказов   \n",
       "3           Изменить структура категорий, что увеличит конверсию, т.к. пользователи быстрее найдут нужный товар   \n",
       "4                              Изменить цвет фона главной страницы, чтобы увеличить вовлеченность пользователей   \n",
       "\n",
       "         ice  \n",
       "8  16.200000  \n",
       "0  13.333333  \n",
       "7  11.200000  \n",
       "6   8.000000  \n",
       "2   7.000000  \n",
       "1   2.000000  \n",
       "5   1.333333  \n",
       "3   1.125000  \n",
       "4   1.000000  "
      ]
     },
     "execution_count": 5,
     "metadata": {},
     "output_type": "execute_result"
    }
   ],
   "source": [
    "#рассчитаем ICE score и выведем на экран с сортировкой по убыванию приоритета\n",
    "\n",
    "data['ice'] = data['impact']*data['confidence']/data['efforts']\n",
    "pd.options.display.max_colwidth = 120\n",
    "data[['hypothesis', 'ice']].sort_values(by='ice', ascending=False)"
   ]
  },
  {
   "cell_type": "markdown",
   "metadata": {},
   "source": [
    "Методика ICE показала наивысший приоритет у девятой гипотезы: *Запустить акцию, дающую скидку на товар в день рождения*. "
   ]
  },
  {
   "cell_type": "markdown",
   "metadata": {},
   "source": [
    "2. Применим фреймворк RICE для приоритизации гипотез."
   ]
  },
  {
   "cell_type": "code",
   "execution_count": 6,
   "metadata": {},
   "outputs": [
    {
     "data": {
      "text/html": [
       "<div>\n",
       "<style scoped>\n",
       "    .dataframe tbody tr th:only-of-type {\n",
       "        vertical-align: middle;\n",
       "    }\n",
       "\n",
       "    .dataframe tbody tr th {\n",
       "        vertical-align: top;\n",
       "    }\n",
       "\n",
       "    .dataframe thead th {\n",
       "        text-align: right;\n",
       "    }\n",
       "</style>\n",
       "<table border=\"1\" class=\"dataframe\">\n",
       "  <thead>\n",
       "    <tr style=\"text-align: right;\">\n",
       "      <th></th>\n",
       "      <th>hypothesis</th>\n",
       "      <th>rice</th>\n",
       "    </tr>\n",
       "  </thead>\n",
       "  <tbody>\n",
       "    <tr>\n",
       "      <th>7</th>\n",
       "      <td>Добавить форму подписки на все основные страницы, чтобы собрать базу клиентов для email-рассылок</td>\n",
       "      <td>112.0</td>\n",
       "    </tr>\n",
       "    <tr>\n",
       "      <th>2</th>\n",
       "      <td>Добавить блоки рекомендаций товаров на сайт интернет магазина, чтобы повысить конверсию и средний чек заказа</td>\n",
       "      <td>56.0</td>\n",
       "    </tr>\n",
       "    <tr>\n",
       "      <th>0</th>\n",
       "      <td>Добавить два новых канала привлечения трафика, что позволит привлекать на 30% больше пользователей</td>\n",
       "      <td>40.0</td>\n",
       "    </tr>\n",
       "    <tr>\n",
       "      <th>6</th>\n",
       "      <td>Показать на главной странице баннеры с актуальными акциями и распродажами, чтобы увеличить конверсию</td>\n",
       "      <td>40.0</td>\n",
       "    </tr>\n",
       "    <tr>\n",
       "      <th>8</th>\n",
       "      <td>Запустить акцию, дающую скидку на товар в день рождения</td>\n",
       "      <td>16.2</td>\n",
       "    </tr>\n",
       "    <tr>\n",
       "      <th>3</th>\n",
       "      <td>Изменить структура категорий, что увеличит конверсию, т.к. пользователи быстрее найдут нужный товар</td>\n",
       "      <td>9.0</td>\n",
       "    </tr>\n",
       "    <tr>\n",
       "      <th>1</th>\n",
       "      <td>Запустить собственную службу доставки, что сократит срок доставки заказов</td>\n",
       "      <td>4.0</td>\n",
       "    </tr>\n",
       "    <tr>\n",
       "      <th>5</th>\n",
       "      <td>Добавить страницу отзывов клиентов о магазине, что позволит увеличить количество заказов</td>\n",
       "      <td>4.0</td>\n",
       "    </tr>\n",
       "    <tr>\n",
       "      <th>4</th>\n",
       "      <td>Изменить цвет фона главной страницы, чтобы увеличить вовлеченность пользователей</td>\n",
       "      <td>3.0</td>\n",
       "    </tr>\n",
       "  </tbody>\n",
       "</table>\n",
       "</div>"
      ],
      "text/plain": [
       "                                                                                                     hypothesis  \\\n",
       "7              Добавить форму подписки на все основные страницы, чтобы собрать базу клиентов для email-рассылок   \n",
       "2  Добавить блоки рекомендаций товаров на сайт интернет магазина, чтобы повысить конверсию и средний чек заказа   \n",
       "0            Добавить два новых канала привлечения трафика, что позволит привлекать на 30% больше пользователей   \n",
       "6          Показать на главной странице баннеры с актуальными акциями и распродажами, чтобы увеличить конверсию   \n",
       "8                                                       Запустить акцию, дающую скидку на товар в день рождения   \n",
       "3           Изменить структура категорий, что увеличит конверсию, т.к. пользователи быстрее найдут нужный товар   \n",
       "1                                     Запустить собственную службу доставки, что сократит срок доставки заказов   \n",
       "5                      Добавить страницу отзывов клиентов о магазине, что позволит увеличить количество заказов   \n",
       "4                              Изменить цвет фона главной страницы, чтобы увеличить вовлеченность пользователей   \n",
       "\n",
       "    rice  \n",
       "7  112.0  \n",
       "2   56.0  \n",
       "0   40.0  \n",
       "6   40.0  \n",
       "8   16.2  \n",
       "3    9.0  \n",
       "1    4.0  \n",
       "5    4.0  \n",
       "4    3.0  "
      ]
     },
     "execution_count": 6,
     "metadata": {},
     "output_type": "execute_result"
    }
   ],
   "source": [
    "#рассчитаем RICE score и выведем на экран с сортировкой по убыванию приоритета\n",
    "data['rice'] = data['reach']*data['impact']*data['confidence']/data['efforts']\n",
    "pd.options.display.max_colwidth = 120\n",
    "data[['hypothesis', 'rice']].sort_values(by='rice', ascending=False)"
   ]
  },
  {
   "cell_type": "markdown",
   "metadata": {},
   "source": [
    "Методика RICE показадала наивысший приоритет у восьмой гипотезы: *Добавить форму подписки на все основные страницы, чтобы собрать базу клиентов для email-рассылок*"
   ]
  },
  {
   "cell_type": "markdown",
   "metadata": {},
   "source": [
    "3. Укажем, как изменилась приоритизация гипотез при применении RICE вместо ICE и определим почему так произошло."
   ]
  },
  {
   "cell_type": "markdown",
   "metadata": {},
   "source": [
    "Приоритетность гипотез при использовании различных фреймворков отличается. Очевидно, что при использовании методики RICE на высший приоритет повлиял показатель *reach*, который у восьмой гипотезы: *Добавить форму подписки на все основные страницы, чтобы собрать базу клиентов для email-рассылок* максимальный и составляет - 10 баллов."
   ]
  },
  {
   "cell_type": "markdown",
   "metadata": {},
   "source": [
    "## Анализ A/B-теста"
   ]
  },
  {
   "cell_type": "markdown",
   "metadata": {},
   "source": [
    "#### Предобработка данных"
   ]
  },
  {
   "cell_type": "markdown",
   "metadata": {},
   "source": [
    "В нашем распоряжении имеются два датафрейма с результатами A/B-теста. Для начала изучим их содержимое, проверим на наличие пропусков, определим их природу. Проверим правильность типов данных в датафреймах, при необходимости проведём их типизацию. Также устраним дубликаты, если такие имеются."
   ]
  },
  {
   "cell_type": "code",
   "execution_count": 7,
   "metadata": {
    "scrolled": false
   },
   "outputs": [
    {
     "name": "stdout",
     "output_type": "stream",
     "text": [
      "<class 'pandas.core.frame.DataFrame'>\n",
      "RangeIndex: 1197 entries, 0 to 1196\n",
      "Data columns (total 5 columns):\n",
      " #   Column         Non-Null Count  Dtype \n",
      "---  ------         --------------  ----- \n",
      " 0   transactionid  1197 non-null   int64 \n",
      " 1   visitorid      1197 non-null   int64 \n",
      " 2   date           1197 non-null   object\n",
      " 3   revenue        1197 non-null   int64 \n",
      " 4   group          1197 non-null   object\n",
      "dtypes: int64(3), object(2)\n",
      "memory usage: 46.9+ KB\n"
     ]
    }
   ],
   "source": [
    "#изучим датафрейм с заказами\n",
    "\n",
    "try:\n",
    "    orders = pd.read_csv('/datasets/orders.csv')\n",
    "except:\n",
    "    orders = pd.read_csv('https://raw.githubusercontent.com/Cellport/Projects/main/%D0%90%D0%BD%D0%B0%D0%BB%D0%B8%D0%B7%20A-B%20%D1%82%D0%B5%D1%81%D1%82%D0%B0/orders.csv')\n",
    "\n",
    "#нормализуем названия столбцов датафрейма для удобства\n",
    "orders.columns =  orders.columns.str.lower()\n",
    "\n",
    "orders.info()"
   ]
  },
  {
   "cell_type": "code",
   "execution_count": 8,
   "metadata": {
    "scrolled": false
   },
   "outputs": [
    {
     "name": "stdout",
     "output_type": "stream",
     "text": [
      "<class 'pandas.core.frame.DataFrame'>\n",
      "RangeIndex: 62 entries, 0 to 61\n",
      "Data columns (total 3 columns):\n",
      " #   Column    Non-Null Count  Dtype \n",
      "---  ------    --------------  ----- \n",
      " 0   date      62 non-null     object\n",
      " 1   group     62 non-null     object\n",
      " 2   visitors  62 non-null     int64 \n",
      "dtypes: int64(1), object(2)\n",
      "memory usage: 1.6+ KB\n"
     ]
    }
   ],
   "source": [
    "try:\n",
    "    visitors = pd.read_csv('/datasets/visitors.csv')\n",
    "except:\n",
    "    visitors = pd.read_csv('https://raw.githubusercontent.com/Cellport/Projects/main/%D0%90%D0%BD%D0%B0%D0%BB%D0%B8%D0%B7%20A-B%20%D1%82%D0%B5%D1%81%D1%82%D0%B0/visitors.csv')\n",
    "\n",
    "\n",
    "visitors.info()"
   ]
  },
  {
   "cell_type": "code",
   "execution_count": 9,
   "metadata": {},
   "outputs": [
    {
     "name": "stdout",
     "output_type": "stream",
     "text": [
      "Количество дубликатов в таблице посещений:  0\n",
      "Количество дубликатов в таблице заказов:  0\n"
     ]
    }
   ],
   "source": [
    "#проверим датафреймы на дубликаты\n",
    "print('Количество дубликатов в таблице посещений: ', visitors.duplicated().sum())\n",
    "print('Количество дубликатов в таблице заказов: ', orders.duplicated().sum())"
   ]
  },
  {
   "cell_type": "markdown",
   "metadata": {},
   "source": [
    "Строк с пропусками и дубликатов в обоих датафреймах нет. Типы данных нужно изменить только в столбцах с  датами у обеих таблиц. "
   ]
  },
  {
   "cell_type": "code",
   "execution_count": 10,
   "metadata": {},
   "outputs": [],
   "source": [
    "#приведём даты к нужному типу\n",
    "orders['date'] = pd.to_datetime(orders['date'], errors=\"coerce\", dayfirst=True )\n",
    "visitors['date'] = pd.to_datetime(visitors['date'], errors=\"coerce\", dayfirst=True )"
   ]
  },
  {
   "cell_type": "markdown",
   "metadata": {},
   "source": [
    "Для исследования у нас в наличии имеется датафреймы с информацией о заказах и с данными посещений, полученные по итогам A/B-теста. Датафреймы требовали минимальной предобработки в части приведения даты к нужному типу. В остальном у нас в распоряжении нормализованные данные."
   ]
  },
  {
   "cell_type": "markdown",
   "metadata": {},
   "source": [
    "**Для анализа A/B-теста нам предстоит выполнить ряд задач:**\n",
    "\n",
    "1. Построить график кумулятивной выручки по группам. Сделать выводы и предположения.\n",
    "2. Построить график кумулятивного среднего чека по группам. Сделать выводы и предположения.\n",
    "3. Построить график относительного изменения кумулятивного среднего чека группы B к группе A. Сделать выводы и предположения.\n",
    "4. Построить график кумулятивного среднего количества заказов на посетителя по группам. Сделать выводы и предположения.\n",
    "5. Построить график относительного изменения кумулятивного среднего количества заказов на посетителя группы B к группе A. Сделать выводы и предположения.\n",
    "6. Построить точечный график количества заказов по пользователям. Сделать выводы и предположения.\n",
    "7. Посчитать 95-й и 99-й перцентили количества заказов на пользователя. Выбрать границу для определения аномальных пользователей.\n",
    "8. Построить точечный график стоимостей заказов. Сделать выводы и предположения.\n",
    "9. Посчитать 95-й и 99-й перцентили стоимости заказов. ВЫбрать границу для определения аномальных заказов.\n",
    "10. Посчитать статистическую значимость различий в среднем количестве заказов на посетителя между группами по «сырым» данным. Сделать выводы и предположения.\n",
    "11. Посчитать статистическую значимость различий в среднем чеке заказа между группами по «сырым» данным. Сделать выводы и предположения.\n",
    "12. Посчитать статистическую значимость различий в среднем количестве заказов на посетителя между группами по «очищенным» данным. Сделать выводы и предположения.\n",
    "13. Посчитать статистическую значимость различий в среднем чеке заказа между группами по «очищенным» данным. Сделать выводы и предположения.\n",
    "14. Принять решение по результатам теста и объясните его.\n",
    "    Варианты решений:\n",
    "    1. Остановить тест, зафиксировать победу одной из групп.\n",
    "    2. Остановить тест, зафиксировать отсутствие различий между группами.\n",
    "    3. Продолжить тест."
   ]
  },
  {
   "cell_type": "code",
   "execution_count": 11,
   "metadata": {},
   "outputs": [
    {
     "name": "stdout",
     "output_type": "stream",
     "text": [
      "Дата начала теста: 2019-08-01 00:00:00\n",
      "Дата окончания теста: 2019-08-31 00:00:00\n",
      "Количество пользователей в группе A 557\n",
      "Количество пользователей в группе B 640\n",
      "135574526494\n"
     ]
    }
   ],
   "source": [
    "#предварительно изучим сроки проведения теста\n",
    "print('Дата начала теста:', orders['date'].min())\n",
    "print('Дата окончания теста:', orders['date'].max())\n",
    "\n",
    "\n",
    "#посчитаем сколько пользователей в каждой группе\n",
    "print('Количество пользователей в группе A', orders[orders['group'] == 'A']['visitorid'].count())\n",
    "print('Количество пользователей в группе B', orders[orders['group'] == 'B']['visitorid'].count())\n",
    "\n",
    "#проверим и наличие одних и тех же пользователей в обеих группах\n",
    "intersected = np.intersect1d(orders.query('group == \"A\"')['visitorid'].unique(), orders.query('group == \"B\"')['visitorid'].unique())\n",
    "print(intersected.sum())\n",
    "#отфильтруем дублирующихся пользователей из датафрейма с заказами\n",
    "orders = orders.query('visitorid not in @intersected')"
   ]
  },
  {
   "cell_type": "markdown",
   "metadata": {},
   "source": [
    "Исходя из наших данных можно сразу обозначить, что тест длился с 1 по 31 августа 2019 года и в тестировании участвовали две группы пользователей - A и B, в первой было 468 пользователей, во второй - 548. При этом были пересекающиеся пользователи в обеих группах, которых мы удалили."
   ]
  },
  {
   "cell_type": "markdown",
   "metadata": {},
   "source": [
    "1. Построим график кумулятивной выручки по группам."
   ]
  },
  {
   "cell_type": "code",
   "execution_count": 12,
   "metadata": {
    "scrolled": true
   },
   "outputs": [],
   "source": [
    "#соберём кумулятивные данные необходимые для построения графика\n",
    "datesGroups = orders[['date', 'group']].drop_duplicates()\n",
    "\n",
    "ordersAggregated = datesGroups.apply(lambda x: orders[np.logical_and(orders['date'] <= x['date'],\\\n",
    "                   orders['group'] == x['group'])]\\\n",
    "                   .agg({'date' : 'max', 'group' : 'max', 'transactionid' : 'nunique', 'visitorid' : 'nunique', 'revenue' : 'sum'}),\\\n",
    "                   axis=1).sort_values(by=['date','group'])\n",
    "\n",
    "\n",
    "\n",
    "visitorsAggregated = datesGroups.apply(lambda x: visitors[np.logical_and(visitors['date'] <= x['date'],\\\n",
    "                     visitors['group'] == x['group'])].agg({'date' : 'max', 'group' : 'max', 'visitors' : 'sum'}),\\\n",
    "                     axis=1).sort_values(by=['date','group'])\n",
    "\n",
    "\n",
    "cumulativeData = ordersAggregated.merge(visitorsAggregated, left_on=['date', 'group'], right_on=['date', 'group'])\n",
    "cumulativeData.columns = ['date', 'group', 'orders', 'buyers', 'revenue', 'visitors']\n"
   ]
  },
  {
   "cell_type": "code",
   "execution_count": 13,
   "metadata": {},
   "outputs": [
    {
     "data": {
      "image/png": "[encoded data removed]",
      "text/plain": [
       "<Figure size 1600x400 with 1 Axes>"
      ]
     },
     "metadata": {},
     "output_type": "display_data"
    }
   ],
   "source": [
    "cumulativeRevenueA = cumulativeData[cumulativeData['group']=='A'][['date','revenue', 'orders']]\n",
    "cumulativeRevenueB = cumulativeData[cumulativeData['group']=='B'][['date','revenue', 'orders']]\n",
    "\n",
    "#построим график выручки группы А\n",
    "plt.figure(figsize=(16, 4))\n",
    "plt.plot(cumulativeRevenueA['date'], cumulativeRevenueA['revenue'], label='A')\n",
    "#построим график выручки группы B\n",
    "plt.plot(cumulativeRevenueB['date'], cumulativeRevenueB['revenue'], label='B')\n",
    "plt.title('График кумулятивной выручки по группам', fontsize=18)\n",
    "plt.xlabel('Дата', fontsize=14)\n",
    "plt.ylabel('Выручка', fontsize=14)\n",
    "plt.xticks(rotation = 45)\n",
    "plt.legend();"
   ]
  },
  {
   "cell_type": "markdown",
   "metadata": {},
   "source": [
    "Показатели выручки группы B практически на протяжении всего тестирования были выше, чем в группе A (отставая ненамного только в самом начале эксперимента). Ближе к середине теста показатели обеих групп сближались, но выручка в группе A всё равно не превысила значения группы B. Во второй половине эксперимента разрыв по выручке между группами резко увеличился за счёт скачка показателя групы B. Возможно это влияние аномальных заказов, которые в дальнейшем нужно будет удалить."
   ]
  },
  {
   "cell_type": "markdown",
   "metadata": {},
   "source": [
    "2. Построим график кумулятивного среднего чека по группам."
   ]
  },
  {
   "cell_type": "code",
   "execution_count": 14,
   "metadata": {},
   "outputs": [
    {
     "data": {
      "image/png": "[encoded data removed]",
      "text/plain": [
       "<Figure size 1600x400 with 1 Axes>"
      ]
     },
     "metadata": {},
     "output_type": "display_data"
    }
   ],
   "source": [
    "#для того, чтобы найти средний чек, нужно кумулятивный показатель выручки разделить на кумулятивный показатель количества заказов по состоянию на конкретную дату\n",
    "cumulativeRevenueA = cumulativeData[cumulativeData['group'] == 'A'][\n",
    "    ['date', 'revenue', 'orders']\n",
    "]\n",
    "cumulativeRevenueB = cumulativeData[cumulativeData['group'] == 'B'][\n",
    "    ['date', 'revenue', 'orders']\n",
    "]\n",
    "plt.figure(figsize=(16, 4))\n",
    "plt.plot(cumulativeRevenueA['date'], cumulativeRevenueA['revenue']/cumulativeRevenueA['orders'], label='A')\n",
    "plt.plot(cumulativeRevenueB['date'], cumulativeRevenueB['revenue']/cumulativeRevenueB['orders'], label='B')\n",
    "plt.title('График кумулятивного среднего чека по группам', fontsize=18)\n",
    "plt.xlabel('Дата', fontsize=14)\n",
    "plt.ylabel('Сумма среднего чека', fontsize=14)\n",
    "plt.xticks(rotation = 45)\n",
    "plt.legend() ;"
   ]
  },
  {
   "cell_type": "markdown",
   "metadata": {},
   "source": [
    "На графике также видны неоднозначные колебания, на основе которых сложно сделать конкретный вывод. Но, самое важное, что здесь тоже виден резкий скачок показателя среднего чека в группе B во второй половине теста. Средний чек для группы A становится равномерным ближе к концу теста, в то же время в группе B заметно падение после резкого всплеска. Это ещё больше подтверждает предположение о влиянии выбросов на показатели. Их предстоит обработать в дальнейшем."
   ]
  },
  {
   "cell_type": "markdown",
   "metadata": {},
   "source": [
    "3. Построим график относительного изменения кумулятивного среднего чека группы B к группе A."
   ]
  },
  {
   "cell_type": "code",
   "execution_count": 15,
   "metadata": {},
   "outputs": [
    {
     "data": {
      "image/png": "[encoded data removed]",
      "text/plain": [
       "<Figure size 1600x400 with 1 Axes>"
      ]
     },
     "metadata": {},
     "output_type": "display_data"
    }
   ],
   "source": [
    "# собираем данные в одном датафрейме\n",
    "mergedCumulativeRevenue = cumulativeRevenueA.merge(cumulativeRevenueB, left_on='date', right_on='date', how='left', suffixes=['A', 'B'])\n",
    "\n",
    "# cтроим отношение средних чеков\n",
    "plt.figure(figsize=(16, 4))\n",
    "plt.plot(mergedCumulativeRevenue['date'], (mergedCumulativeRevenue['revenueB']/mergedCumulativeRevenue['ordersB'])/(mergedCumulativeRevenue['revenueA']/mergedCumulativeRevenue['ordersA'])-1)\n",
    "\n",
    "\n",
    "plt.title('График относительного изменения кумулятивного среднего чека группы B к группе A', fontsize=18)\n",
    "plt.xlabel('Дата', fontsize=14)\n",
    "plt.ylabel('Коэффициент изменения среднего чека', fontsize=10)\n",
    "plt.xticks(rotation = 45)\n",
    "\n",
    "# добавляем ось X\n",
    "plt.axhline(y=0, color='black', linestyle='--');"
   ]
  },
  {
   "cell_type": "markdown",
   "metadata": {},
   "source": [
    "На графике присутствуют резкие изменения результатов теста. Вероятно в эти периоды были совершены аномальные заказы."
   ]
  },
  {
   "cell_type": "markdown",
   "metadata": {},
   "source": [
    "4. Построим график кумулятивного среднего количества заказов на посетителя по группам."
   ]
  },
  {
   "cell_type": "code",
   "execution_count": 16,
   "metadata": {},
   "outputs": [
    {
     "data": {
      "image/png": "[encoded data removed]",
      "text/plain": [
       "<Figure size 1600x400 with 1 Axes>"
      ]
     },
     "metadata": {},
     "output_type": "display_data"
    }
   ],
   "source": [
    "# считаем кумулятивную конверсию\n",
    "cumulativeData['conversion'] = cumulativeData['orders']/cumulativeData['visitors']\n",
    "\n",
    "# отделяем данные по группе A\n",
    "cumulativeDataA = cumulativeData[cumulativeData['group']=='A']\n",
    "\n",
    "# отделяем данные по группе B\n",
    "cumulativeDataB = cumulativeData[cumulativeData['group']=='B']\n",
    "\n",
    "# строим графики\n",
    "plt.figure(figsize=(16, 4))\n",
    "plt.plot(cumulativeDataA['date'], cumulativeDataA['conversion'], label='A')\n",
    "plt.plot(cumulativeDataB['date'], cumulativeDataB['conversion'], label='B')\n",
    "\n",
    "plt.title('График кумулятивного среднего количества заказов на посетителя по группам.', fontsize=18)\n",
    "plt.xlabel('Дата', fontsize=14)\n",
    "plt.ylabel('Коэффициент среднего количества заказов', fontsize=10)\n",
    "plt.xticks(rotation = 45)\n",
    "\n",
    "plt.legend()\n",
    "plt.axhline(y=0.03, color='black', linestyle='--');"
   ]
  },
  {
   "cell_type": "markdown",
   "metadata": {},
   "source": [
    "В начале теста заметны колебания, в этот период группа A даже имела большее среднее число заказов. Но довольно быстро показатели группы B стали выше и ближе к концу теста выровнялись около отметки **0.03**"
   ]
  },
  {
   "cell_type": "markdown",
   "metadata": {},
   "source": [
    "5. Построим график относительного изменения кумулятивного среднего количества заказов на посетителя группы B к группе A."
   ]
  },
  {
   "cell_type": "code",
   "execution_count": 17,
   "metadata": {},
   "outputs": [
    {
     "data": {
      "image/png": "[encoded data removed]",
      "text/plain": [
       "<Figure size 1600x400 with 1 Axes>"
      ]
     },
     "metadata": {},
     "output_type": "display_data"
    }
   ],
   "source": [
    "mergedCumulativeConversions = cumulativeDataA[['date','conversion']].merge(cumulativeDataB[['date','conversion']], left_on='date', right_on='date', how='left', suffixes=['A', 'B'])\n",
    "plt.figure(figsize=(16, 4))\n",
    "plt.plot(mergedCumulativeConversions['date'], mergedCumulativeConversions['conversionB']/mergedCumulativeConversions['conversionA']-1, label=\"Относительный прирост конверсии группы B относительно группы A\")\n",
    "\n",
    "plt.title('График относительного изменения кумулятивного среднего количества заказов на посетителя группы B к группе A.', fontsize=18)\n",
    "plt.xlabel('Дата', fontsize=14)\n",
    "plt.ylabel('Коэффициент среднего количества заказов', fontsize=10)\n",
    "plt.xticks(rotation = 45)\n",
    "\n",
    "plt.legend()\n",
    "\n",
    "plt.axhline(y=0.10, color='green', linestyle='--')\n",
    "plt.axhline(y=0, color='black', linestyle='--')\n",
    "plt.axhline(y=0.20, color='grey', linestyle='--');"
   ]
  },
  {
   "cell_type": "markdown",
   "metadata": {},
   "source": [
    "При небольших колебаниях графика на старте теста, практически с самого его начала заметно, что группа B лидирует по показателю конверсии."
   ]
  },
  {
   "cell_type": "markdown",
   "metadata": {},
   "source": [
    "6. Построим точечный график количества заказов по пользователям."
   ]
  },
  {
   "cell_type": "code",
   "execution_count": 18,
   "metadata": {},
   "outputs": [
    {
     "name": "stdout",
     "output_type": "stream",
     "text": [
      "      visitorid  transactionid\n",
      "908  3967698036              3\n",
      "55    249864742              3\n",
      "478  2108163459              3\n",
      "687  2988190573              3\n",
      "890  3908431265              3\n",
      "138   611059232              3\n",
      "632  2742574263              3\n",
      "157   678354126              2\n",
      "323  1404560065              2\n",
      "452  1985475298              2\n"
     ]
    },
    {
     "data": {
      "image/png": "[encoded data removed]",
      "text/plain": [
       "<Figure size 1600x400 with 1 Axes>"
      ]
     },
     "metadata": {},
     "output_type": "display_data"
    }
   ],
   "source": [
    "#сгруппируем заказы по пользователям\n",
    "ordersByUsers = (\n",
    "    orders.groupby('visitorid', as_index=False)\n",
    "    .agg({'transactionid': 'nunique'})\n",
    ")\n",
    "ordersByUsers.columns = ['visitorid', 'transactionid']\n",
    "\n",
    "print(ordersByUsers.sort_values(by='transactionid', ascending=False).head(10))\n",
    "\n",
    "\n",
    "\n",
    "# серия из чисел от 0 до количества наблюдений в ordersByUsers\n",
    "plt.figure(figsize=(16, 4))\n",
    "x_values = pd.Series(range(0, len(ordersByUsers)))\n",
    "\n",
    "plt.title('Точечный график количества заказов по пользователям.', fontsize=18)\n",
    "plt.xlabel('Число пользователей', fontsize=14)\n",
    "plt.ylabel('Количество заказов', fontsize=10)\n",
    "plt.xticks(rotation = 45)\n",
    "\n",
    "plt.scatter(x_values, ordersByUsers['transactionid']);"
   ]
  },
  {
   "cell_type": "markdown",
   "metadata": {},
   "source": [
    "На графике мы наблюдаем что количество заказов в основном концентрируется на уровне 1-2. Есть и клиенты с бОльшим количеством заказов, для корректных расчетов и проведения теста нам предстоит определить что считать аномальными показателями."
   ]
  },
  {
   "cell_type": "markdown",
   "metadata": {},
   "source": [
    "7. Посчитаем 95-й и 99-й перцентили количества заказов на пользователя. Выберем границу для определения аномальных пользователей."
   ]
  },
  {
   "cell_type": "code",
   "execution_count": 19,
   "metadata": {},
   "outputs": [
    {
     "name": "stdout",
     "output_type": "stream",
     "text": [
      "[1. 2.]\n"
     ]
    }
   ],
   "source": [
    "print(np.percentile(ordersByUsers['transactionid'], [95, 99])) "
   ]
  },
  {
   "cell_type": "markdown",
   "metadata": {},
   "source": [
    "Только 5% пользователей совершали больше одного заказа и не более 1% пользователей совершали более двух заказов."
   ]
  },
  {
   "cell_type": "markdown",
   "metadata": {},
   "source": [
    "8. Построим точечный график стоимостей заказов."
   ]
  },
  {
   "cell_type": "code",
   "execution_count": 20,
   "metadata": {
    "scrolled": true
   },
   "outputs": [
    {
     "data": {
      "image/png": "[encoded data removed]",
      "text/plain": [
       "<Figure size 1600x400 with 1 Axes>"
      ]
     },
     "metadata": {},
     "output_type": "display_data"
    }
   ],
   "source": [
    "plt.figure(figsize=(16, 4))\n",
    "x_values = pd.Series(range(0, len(orders['revenue'])))\n",
    "plt.scatter(x_values, orders['revenue'])\n",
    "\n",
    "plt.title('Точечный график стоимостей заказов', fontsize=18)\n",
    "plt.xlabel('Число пользователей', fontsize=14)\n",
    "plt.ylabel('Стоимость заказов', fontsize=10)\n",
    "plt.xticks(rotation = 45);"
   ]
  },
  {
   "cell_type": "code",
   "execution_count": 21,
   "metadata": {},
   "outputs": [
    {
     "data": {
      "image/png": "[encoded data removed]",
      "text/plain": [
       "<Figure size 1600x400 with 1 Axes>"
      ]
     },
     "metadata": {},
     "output_type": "display_data"
    }
   ],
   "source": [
    "#Из-за выброса выручки размером 1294500 график получился неинформативным. Исключим максимальное значение и построим новый график\n",
    "\n",
    "orders2 = orders.query('revenue < 1294500')\n",
    "\n",
    "plt.figure(figsize=(16, 4))\n",
    "x_values = pd.Series(range(0, len(orders2['revenue'])))\n",
    "plt.scatter(x_values, orders2['revenue'])\n",
    "\n",
    "plt.title('Точечный график стоимостей заказов', fontsize=18)\n",
    "plt.xlabel('Число пользователей', fontsize=14)\n",
    "plt.ylabel('Стоимость заказов', fontsize=10)\n",
    "plt.xticks(rotation = 45);"
   ]
  },
  {
   "cell_type": "markdown",
   "metadata": {},
   "source": [
    "Для лучшего понимания того что можно считать аномальными значениями посчитаем перцентили. "
   ]
  },
  {
   "cell_type": "markdown",
   "metadata": {},
   "source": [
    "9. Посчитаем 95-й и 99-й перцентили стоимости заказов. Выберем границу для определения аномальных заказов."
   ]
  },
  {
   "cell_type": "code",
   "execution_count": 22,
   "metadata": {
    "scrolled": true
   },
   "outputs": [
    {
     "name": "stdout",
     "output_type": "stream",
     "text": [
      "[26785. 53904.]\n"
     ]
    }
   ],
   "source": [
    "print(np.percentile(orders['revenue'], [95, 99])) "
   ]
  },
  {
   "cell_type": "markdown",
   "metadata": {},
   "source": [
    "Не более чем у 5% заказов чек выше 26000 и не больше чем у 1% заказов чек выше 58233.2"
   ]
  },
  {
   "cell_type": "markdown",
   "metadata": {},
   "source": [
    "Исходя из полученных графиков и рассчитанных перцентилей, разумно определить в качестве границ аномалий стоимость заказов около 26000 и от 2 заказов на пользователя."
   ]
  },
  {
   "cell_type": "markdown",
   "metadata": {},
   "source": [
    "10. Посчитаем статистическую значимость различий в среднем количестве заказов на посетителя между группами по «сырым» данным."
   ]
  },
  {
   "cell_type": "markdown",
   "metadata": {},
   "source": [
    "Сформулируем гипотезы:\n",
    "- **нулевая** - различий в среднем количестве заказов между группами нет,\n",
    "- **альтернативная** - различия в среднем между группами есть."
   ]
  },
  {
   "cell_type": "code",
   "execution_count": 23,
   "metadata": {},
   "outputs": [
    {
     "name": "stdout",
     "output_type": "stream",
     "text": [
      "        date  ordersPerDateA  revenuePerDateA  ordersPerDateB  \\\n",
      "0 2019-08-01              23           142779              17   \n",
      "1 2019-08-02              19            91602              23   \n",
      "2 2019-08-03              24           112473              14   \n",
      "3 2019-08-04              11            41176              14   \n",
      "4 2019-08-05              22            86383              21   \n",
      "\n",
      "   revenuePerDateB  ordersCummulativeA  revenueCummulativeA  \\\n",
      "0            59758                  23               142779   \n",
      "1           162043                  42               234381   \n",
      "2            67049                  66               346854   \n",
      "3            96890                  77               388030   \n",
      "4            89908                  99               474413   \n",
      "\n",
      "   ordersCummulativeB  revenueCummulativeB  visitorsPerDateA  \\\n",
      "0                  17                59758               719   \n",
      "1                  40               221801               619   \n",
      "2                  54               288850               507   \n",
      "3                  68               385740               717   \n",
      "4                  89               475648               756   \n",
      "\n",
      "   visitorsPerDateB  visitorsCummulativeA  visitorsCummulativeB  \n",
      "0               713                   719                   713  \n",
      "1               581                  1338                  1294  \n",
      "2               509                  1845                  1803  \n",
      "3               770                  2562                  2573  \n",
      "4               707                  3318                  3280  \n",
      "0.01102\n",
      "0.160\n"
     ]
    }
   ],
   "source": [
    "visitorsADaily = visitors[visitors['group'] == 'A'][['date', 'visitors']]\n",
    "visitorsADaily.columns = ['date', 'visitorsPerDateA']\n",
    "\n",
    "visitorsACummulative = visitorsADaily.apply(\n",
    "    lambda x: visitorsADaily[visitorsADaily['date'] <= x['date']].agg(\n",
    "        {'date': 'max', 'visitorsPerDateA': 'sum'}\n",
    "    ),\n",
    "    axis=1,\n",
    ")\n",
    "visitorsACummulative.columns = ['date', 'visitorsCummulativeA']\n",
    "\n",
    "visitorsBDaily = visitors[visitors['group'] == 'B'][['date', 'visitors']]\n",
    "visitorsBDaily.columns = ['date', 'visitorsPerDateB']\n",
    "\n",
    "visitorsBCummulative = visitorsBDaily.apply(\n",
    "    lambda x: visitorsBDaily[visitorsBDaily['date'] <= x['date']].agg(\n",
    "        {'date': 'max', 'visitorsPerDateB': 'sum'}\n",
    "    ),\n",
    "    axis=1,\n",
    ")\n",
    "visitorsBCummulative.columns = ['date', 'visitorsCummulativeB']\n",
    "\n",
    "ordersADaily = (\n",
    "    orders[orders['group'] == 'A'][['date', 'transactionid', 'visitorid', 'revenue']]\n",
    "    .groupby('date', as_index=False)\n",
    "    .agg({'transactionid': pd.Series.nunique, 'revenue': 'sum'})\n",
    ")\n",
    "ordersADaily.columns = ['date', 'ordersPerDateA', 'revenuePerDateA']\n",
    "\n",
    "ordersACummulative = ordersADaily.apply(\n",
    "    lambda x: ordersADaily[ordersADaily['date'] <= x['date']].agg(\n",
    "        {'date': 'max', 'ordersPerDateA': 'sum', 'revenuePerDateA': 'sum'}\n",
    "    ),\n",
    "    axis=1,\n",
    ").sort_values(by=['date'])\n",
    "ordersACummulative.columns = [\n",
    "    'date',\n",
    "    'ordersCummulativeA',\n",
    "    'revenueCummulativeA',\n",
    "]\n",
    "\n",
    "ordersBDaily = (\n",
    "    orders[orders['group'] == 'B'][['date', 'transactionid', 'visitorid', 'revenue']]\n",
    "    .groupby('date', as_index=False)\n",
    "    .agg({'transactionid': pd.Series.nunique, 'revenue': 'sum'})\n",
    ")\n",
    "ordersBDaily.columns = ['date', 'ordersPerDateB', 'revenuePerDateB']\n",
    "\n",
    "ordersBCummulative = ordersBDaily.apply(\n",
    "    lambda x: ordersBDaily[ordersBDaily['date'] <= x['date']].agg(\n",
    "        {'date': 'max', 'ordersPerDateB': 'sum', 'revenuePerDateB': 'sum'}\n",
    "    ),\n",
    "    axis=1,\n",
    ").sort_values(by=['date'])\n",
    "ordersBCummulative.columns = [\n",
    "    'date',\n",
    "    'ordersCummulativeB',\n",
    "    'revenueCummulativeB',\n",
    "]\n",
    "\n",
    "data = (\n",
    "    ordersADaily.merge(\n",
    "        ordersBDaily, left_on='date', right_on='date', how='left'\n",
    "    )\n",
    "    .merge(ordersACummulative, left_on='date', right_on='date', how='left')\n",
    "    .merge(ordersBCummulative, left_on='date', right_on='date', how='left')\n",
    "    .merge(visitorsADaily, left_on='date', right_on='date', how='left')\n",
    "    .merge(visitorsBDaily, left_on='date', right_on='date', how='left')\n",
    "    .merge(visitorsACummulative, left_on='date', right_on='date', how='left')\n",
    "    .merge(visitorsBCummulative, left_on='date', right_on='date', how='left')\n",
    ")\n",
    "\n",
    "print(data.head(5))\n",
    "ordersByUsersA = (\n",
    "    orders[orders['group'] == 'A']\n",
    "    .groupby('visitorid', as_index=False)\n",
    "    .agg({'transactionid': pd.Series.nunique})\n",
    ")\n",
    "ordersByUsersA.columns = ['visitorid', 'orders']\n",
    "\n",
    "ordersByUsersB = (\n",
    "    orders[orders['group'] == 'B']\n",
    "    .groupby('visitorid', as_index=False)\n",
    "    .agg({'transactionid': pd.Series.nunique})\n",
    ")\n",
    "ordersByUsersB.columns = ['visitorid', 'orders'] \n",
    "\n",
    "sampleA = pd.concat([ordersByUsersA['orders'],pd.Series(0, index=np.arange(data['visitorsPerDateA'].sum() - len(ordersByUsersA['orders'])), name='orders')],axis=0)\n",
    "\n",
    "sampleB = pd.concat([ordersByUsersB['orders'],pd.Series(0, index=np.arange(data['visitorsPerDateB'].sum() - len(ordersByUsersB['orders'])), name='orders')],axis=0)\n",
    "\n",
    "ordersByUsersA = (\n",
    "    orders[orders['group'] == 'A']\n",
    "    .groupby('visitorid', as_index=False)\n",
    "    .agg({'transactionid': pd.Series.nunique})\n",
    ")\n",
    "ordersByUsersA.columns = ['visitorid', 'orders']\n",
    "\n",
    "ordersByUsersB = (\n",
    "    orders[orders['group'] == 'B']\n",
    "    .groupby('visitorid', as_index=False)\n",
    "    .agg({'transactionid': pd.Series.nunique})\n",
    ")\n",
    "ordersByUsersB.columns = ['visitorid', 'orders']\n",
    "\n",
    "sampleA = pd.concat(\n",
    "    [\n",
    "        ordersByUsersA['orders'],\n",
    "        pd.Series(\n",
    "            0,\n",
    "            index=np.arange(\n",
    "                data['visitorsPerDateA'].sum() - len(ordersByUsersA['orders'])\n",
    "            ),\n",
    "            name='orders',\n",
    "        ),\n",
    "    ],\n",
    "    axis=0,\n",
    ")\n",
    "\n",
    "sampleB = pd.concat(\n",
    "    [\n",
    "        ordersByUsersB['orders'],\n",
    "        pd.Series(\n",
    "            0,\n",
    "            index=np.arange(\n",
    "                data['visitorsPerDateB'].sum() - len(ordersByUsersB['orders'])\n",
    "            ),\n",
    "            name='orders',\n",
    "        ),\n",
    "    ],\n",
    "    axis=0,\n",
    ")\n",
    "\n",
    "\n",
    "\n",
    "\n",
    "print(\"{0:.5f}\".format(st.mannwhitneyu(sampleA, sampleB)[1]))\n",
    "\n",
    "print(\"{0:.3f}\".format(sampleB.mean() / sampleA.mean() - 1))"
   ]
  },
  {
   "cell_type": "markdown",
   "metadata": {},
   "source": [
    "P-Value меньше 0.05, поэтому мы вынуждены отвергнуть нулевую гипотезу. Анализ \"сырых данных\" показал, что в среднем количестве заказов между группами есть статистически значимые различия. Относительный прирост среднего группы B к конверсии группы A равен 13.8."
   ]
  },
  {
   "cell_type": "markdown",
   "metadata": {},
   "source": [
    "11. Посчитаем статистическую значимость различий в среднем чеке заказа между группами по «сырым» данным."
   ]
  },
  {
   "cell_type": "code",
   "execution_count": 24,
   "metadata": {},
   "outputs": [
    {
     "name": "stdout",
     "output_type": "stream",
     "text": [
      "0.829\n",
      "0.287\n"
     ]
    }
   ],
   "source": [
    "print('{0:.3f}'.format(st.mannwhitneyu(orders[orders['group']=='A']['revenue'], orders[orders['group']=='B']['revenue'])[1]))\n",
    "print('{0:.3f}'.format(orders[orders['group']=='B']['revenue'].mean()/orders[orders['group']=='A']['revenue'].mean()-1))"
   ]
  },
  {
   "cell_type": "markdown",
   "metadata": {},
   "source": [
    "P-Value больше 0.05 - статистически значимых отличий в среднем чеке между группами нет. Относительное различие среднего чека между сегментами 25.9%. Существенная относительная разница при отсутствии статистической значимости указывает на влияние выбросов на метрику. "
   ]
  },
  {
   "cell_type": "markdown",
   "metadata": {},
   "source": [
    "12. Посчитаем статистическую значимость различий в среднем количестве заказов на посетителя между группами по «очищенным» данным."
   ]
  },
  {
   "cell_type": "code",
   "execution_count": 25,
   "metadata": {
    "scrolled": true
   },
   "outputs": [
    {
     "name": "stdout",
     "output_type": "stream",
     "text": [
      "568     113298937\n",
      "1099    148427295\n",
      "461     154576532\n",
      "928     204675465\n",
      "33      249864742\n",
      "Name: visitorid, dtype: int64\n"
     ]
    }
   ],
   "source": [
    "#Прежде подготовим данные очищенные от аномалий. Опираясь на рассчитанные ранее перцентили за аномальных пользователей возьмем тех пользователей, кто совершил 2 заказа или более или совершил заказ на сумму более 26000.\n",
    "\n",
    "usersWithManyOrders = pd.concat(\n",
    "    [\n",
    "        ordersByUsersA[ordersByUsersA['orders'] > 1]['visitorid'],\n",
    "        ordersByUsersB[ordersByUsersB['orders'] > 1]['visitorid'],\n",
    "    ],\n",
    "    axis=0,\n",
    ")\n",
    "usersWithExpensiveOrders = orders[orders['revenue'] > 26000]['visitorid']\n",
    "abnormalUsers = (\n",
    "    pd.concat([usersWithManyOrders, usersWithExpensiveOrders], axis=0)\n",
    "    .drop_duplicates()\n",
    "    .sort_values()\n",
    ")\n",
    "print(abnormalUsers.head(5))"
   ]
  },
  {
   "cell_type": "markdown",
   "metadata": {},
   "source": [
    "Мы получили список саномальными пользователями, удалив которых сможем посчитать статистическую значимость и выясним есть ли существенные различия между группами с очищенными данными."
   ]
  },
  {
   "cell_type": "code",
   "execution_count": 26,
   "metadata": {},
   "outputs": [
    {
     "name": "stdout",
     "output_type": "stream",
     "text": [
      "0.017\n",
      "0.172\n"
     ]
    }
   ],
   "source": [
    "sampleAFiltered = pd.concat(\n",
    "    [\n",
    "        ordersByUsersA[\n",
    "            np.logical_not(ordersByUsersA['visitorid'].isin(abnormalUsers))\n",
    "        ]['orders'],\n",
    "        pd.Series(\n",
    "            0,\n",
    "            index=np.arange(\n",
    "                data['visitorsPerDateA'].sum() - len(ordersByUsersA['orders'])\n",
    "            ),\n",
    "            name='orders',\n",
    "        ),\n",
    "    ],\n",
    "    axis=0,\n",
    ")\n",
    "\n",
    "sampleBFiltered = pd.concat(\n",
    "    [\n",
    "        ordersByUsersB[\n",
    "            np.logical_not(ordersByUsersB['visitorid'].isin(abnormalUsers))\n",
    "        ]['orders'],\n",
    "        pd.Series(\n",
    "            0,\n",
    "            index=np.arange(\n",
    "                data['visitorsPerDateB'].sum() - len(ordersByUsersB['orders'])\n",
    "            ),\n",
    "            name='orders',\n",
    "        ),\n",
    "    ],\n",
    "    axis=0,\n",
    ") \n",
    "\n",
    "print('{0:.3f}'.format(st.mannwhitneyu(sampleAFiltered, sampleBFiltered)[1]))\n",
    "print('{0:.3f}'.format(sampleBFiltered.mean()/sampleAFiltered.mean()-1)) "
   ]
  },
  {
   "cell_type": "markdown",
   "metadata": {},
   "source": [
    "Полученные показатели свидетельствуют, что группа B лучше группы A."
   ]
  },
  {
   "cell_type": "markdown",
   "metadata": {},
   "source": [
    "13. Посчитаем статистическую значимость различий в среднем чеке заказа между группами по «очищенным» данным."
   ]
  },
  {
   "cell_type": "code",
   "execution_count": 27,
   "metadata": {},
   "outputs": [
    {
     "name": "stdout",
     "output_type": "stream",
     "text": [
      "0.693\n",
      "-0.042\n"
     ]
    }
   ],
   "source": [
    "usersWithExpensiveOrders = orders[orders['revenue'] > 26000]['visitorid']\n",
    "abnormalUsers = (\n",
    "    pd.concat([usersWithManyOrders, usersWithExpensiveOrders], axis=0)\n",
    "    .drop_duplicates()\n",
    "    .sort_values()\n",
    ")\n",
    "print(\n",
    "    '{0:.3f}'.format(\n",
    "        st.mannwhitneyu(\n",
    "            orders[\n",
    "                np.logical_and(\n",
    "                    orders['group'] == 'A',\n",
    "                    np.logical_not(orders['visitorid'].isin(abnormalUsers)),\n",
    "                )\n",
    "            ]['revenue'],\n",
    "            orders[\n",
    "                np.logical_and(\n",
    "                    orders['group'] == 'B',\n",
    "                    np.logical_not(orders['visitorid'].isin(abnormalUsers)),\n",
    "                )\n",
    "            ]['revenue'],\n",
    "        )[1]\n",
    "    )\n",
    ")\n",
    "\n",
    "print(\n",
    "    \"{0:.3f}\".format(\n",
    "        orders[\n",
    "            np.logical_and(\n",
    "                orders['group'] == 'B',\n",
    "                np.logical_not(orders['visitorid'].isin(abnormalUsers)),\n",
    "            )\n",
    "        ]['revenue'].mean()\n",
    "        / orders[\n",
    "            np.logical_and(\n",
    "                orders['group'] == 'A',\n",
    "                np.logical_not(orders['visitorid'].isin(abnormalUsers)),\n",
    "            )\n",
    "        ]['revenue'].mean()\n",
    "        - 1\n",
    "    )\n",
    ") "
   ]
  },
  {
   "cell_type": "markdown",
   "metadata": {},
   "source": [
    "Отмечается статистическая значимость различия среднего чека заказов между группами, различие в 6.9% по выручке не является статистически значимым."
   ]
  },
  {
   "cell_type": "markdown",
   "metadata": {},
   "source": [
    "14. Принять решение по результатам теста и объясните его.\n",
    "    Варианты решений:\n",
    "    1. Остановить тест, зафиксировать победу одной из групп.\n",
    "    2. Остановить тест, зафиксировать отсутствие различий между группами.\n",
    "    3. Продолжить тест."
   ]
  },
  {
   "cell_type": "markdown",
   "metadata": {},
   "source": [
    "Есть статистически значимое различие по конверсии между группами как по сырым данным, так и после фильтрации аномалий. По сырым данным нет статистически значимого различия по среднему чеку между группами. Но после удаления аномалий отмечается статистически значимое различие.\n",
    "\n",
    "Исходя из этого принимаем решение признать тест успешным остановить его."
   ]
  }
 ],
 "metadata": {
  "ExecuteTimeLog": [
   {
    "duration": 5,
    "start_time": "2022-12-06T16:47:28.341Z"
   },
   {
    "duration": 370,
    "start_time": "2022-12-06T17:01:56.221Z"
   },
   {
    "duration": 71,
    "start_time": "2022-12-06T17:04:32.093Z"
   },
   {
    "duration": 39,
    "start_time": "2022-12-06T17:04:36.781Z"
   },
   {
    "duration": 5,
    "start_time": "2022-12-06T17:20:57.932Z"
   },
   {
    "duration": 9,
    "start_time": "2022-12-06T17:21:31.311Z"
   },
   {
    "duration": 3,
    "start_time": "2022-12-06T17:30:19.388Z"
   },
   {
    "duration": 11,
    "start_time": "2022-12-06T17:30:26.257Z"
   },
   {
    "duration": 4,
    "start_time": "2022-12-06T17:30:33.404Z"
   },
   {
    "duration": 9,
    "start_time": "2022-12-06T17:30:59.516Z"
   },
   {
    "duration": 12,
    "start_time": "2022-12-06T17:50:08.513Z"
   },
   {
    "duration": 67,
    "start_time": "2022-12-06T17:51:07.358Z"
   },
   {
    "duration": 99,
    "start_time": "2022-12-06T18:14:22.490Z"
   },
   {
    "duration": 56,
    "start_time": "2022-12-06T18:14:27.618Z"
   },
   {
    "duration": 1082,
    "start_time": "2022-12-06T18:19:15.295Z"
   },
   {
    "duration": 59,
    "start_time": "2022-12-06T18:19:18.639Z"
   },
   {
    "duration": 490,
    "start_time": "2022-12-06T18:22:37.728Z"
   },
   {
    "duration": 3,
    "start_time": "2022-12-06T18:22:52.997Z"
   },
   {
    "duration": 902,
    "start_time": "2022-12-06T18:23:00.813Z"
   },
   {
    "duration": 41,
    "start_time": "2022-12-06T18:23:01.717Z"
   },
   {
    "duration": 5,
    "start_time": "2022-12-06T18:23:01.760Z"
   },
   {
    "duration": 35,
    "start_time": "2022-12-06T18:23:01.768Z"
   },
   {
    "duration": 11,
    "start_time": "2022-12-06T18:23:01.805Z"
   },
   {
    "duration": 58,
    "start_time": "2022-12-06T18:23:01.818Z"
   },
   {
    "duration": 451,
    "start_time": "2022-12-06T18:23:01.879Z"
   },
   {
    "duration": 45,
    "start_time": "2022-12-06T18:54:32.011Z"
   },
   {
    "duration": 1415,
    "start_time": "2022-12-06T19:04:07.788Z"
   },
   {
    "duration": 239,
    "start_time": "2022-12-06T19:04:17.268Z"
   },
   {
    "duration": 243,
    "start_time": "2022-12-06T19:04:29.084Z"
   },
   {
    "duration": 57,
    "start_time": "2022-12-06T19:04:44.232Z"
   },
   {
    "duration": 411,
    "start_time": "2022-12-06T19:04:49.332Z"
   },
   {
    "duration": 420,
    "start_time": "2022-12-06T19:05:13.137Z"
   },
   {
    "duration": 458,
    "start_time": "2022-12-06T19:14:31.196Z"
   },
   {
    "duration": 365,
    "start_time": "2022-12-06T19:15:02.579Z"
   },
   {
    "duration": 249,
    "start_time": "2022-12-06T19:15:59.501Z"
   },
   {
    "duration": 74,
    "start_time": "2022-12-06T19:16:15.011Z"
   },
   {
    "duration": 40,
    "start_time": "2022-12-06T19:17:27.566Z"
   },
   {
    "duration": 42,
    "start_time": "2022-12-06T19:17:55.654Z"
   },
   {
    "duration": 400,
    "start_time": "2022-12-06T19:18:13.990Z"
   },
   {
    "duration": 65,
    "start_time": "2022-12-06T19:19:11.575Z"
   },
   {
    "duration": 383,
    "start_time": "2022-12-06T19:19:17.774Z"
   },
   {
    "duration": 1104,
    "start_time": "2022-12-06T19:21:28.438Z"
   },
   {
    "duration": 1047,
    "start_time": "2022-12-06T19:22:27.749Z"
   },
   {
    "duration": 373,
    "start_time": "2022-12-06T19:22:47.046Z"
   },
   {
    "duration": 1084,
    "start_time": "2022-12-06T19:22:55.578Z"
   },
   {
    "duration": 461,
    "start_time": "2022-12-06T19:23:04.954Z"
   },
   {
    "duration": 449,
    "start_time": "2022-12-06T19:23:17.165Z"
   },
   {
    "duration": 572,
    "start_time": "2022-12-06T19:23:48.398Z"
   },
   {
    "duration": 605,
    "start_time": "2022-12-06T19:25:18.042Z"
   },
   {
    "duration": 1263,
    "start_time": "2022-12-06T19:25:57.618Z"
   },
   {
    "duration": 63,
    "start_time": "2022-12-06T19:27:29.072Z"
   },
   {
    "duration": 44,
    "start_time": "2022-12-06T19:28:10.968Z"
   },
   {
    "duration": 60,
    "start_time": "2022-12-06T19:28:16.301Z"
   },
   {
    "duration": 52,
    "start_time": "2022-12-06T19:28:30.949Z"
   },
   {
    "duration": 567,
    "start_time": "2022-12-06T19:28:38.382Z"
   },
   {
    "duration": 571,
    "start_time": "2022-12-06T19:28:46.937Z"
   },
   {
    "duration": 724,
    "start_time": "2022-12-06T19:29:18.669Z"
   },
   {
    "duration": 547,
    "start_time": "2022-12-06T19:29:25.642Z"
   },
   {
    "duration": 59,
    "start_time": "2022-12-06T19:29:35.313Z"
   },
   {
    "duration": 34,
    "start_time": "2022-12-06T19:33:02.529Z"
   },
   {
    "duration": 4,
    "start_time": "2022-12-06T19:34:46.321Z"
   },
   {
    "duration": 51,
    "start_time": "2022-12-06T19:34:53.949Z"
   },
   {
    "duration": 59,
    "start_time": "2022-12-06T19:35:08.985Z"
   },
   {
    "duration": 13,
    "start_time": "2022-12-06T19:35:51.197Z"
   },
   {
    "duration": 9,
    "start_time": "2022-12-06T19:36:32.061Z"
   },
   {
    "duration": 13,
    "start_time": "2022-12-06T19:36:42.097Z"
   },
   {
    "duration": 345,
    "start_time": "2022-12-06T19:38:07.113Z"
   },
   {
    "duration": 356,
    "start_time": "2022-12-06T19:39:14.537Z"
   },
   {
    "duration": 3,
    "start_time": "2022-12-06T19:50:48.296Z"
   },
   {
    "duration": 26,
    "start_time": "2022-12-06T19:51:37.639Z"
   },
   {
    "duration": 26,
    "start_time": "2022-12-06T19:52:04.923Z"
   },
   {
    "duration": 158,
    "start_time": "2022-12-06T19:53:01.676Z"
   },
   {
    "duration": 399,
    "start_time": "2022-12-06T19:53:56.777Z"
   },
   {
    "duration": 210,
    "start_time": "2022-12-06T19:57:48.865Z"
   },
   {
    "duration": 180,
    "start_time": "2022-12-06T19:59:44.057Z"
   },
   {
    "duration": 169,
    "start_time": "2022-12-06T20:00:04.637Z"
   },
   {
    "duration": 176,
    "start_time": "2022-12-06T20:00:22.009Z"
   },
   {
    "duration": 466,
    "start_time": "2022-12-06T20:01:33.233Z"
   },
   {
    "duration": 348,
    "start_time": "2022-12-06T20:02:28.090Z"
   },
   {
    "duration": 292,
    "start_time": "2022-12-06T20:02:33.146Z"
   },
   {
    "duration": 441,
    "start_time": "2022-12-06T20:03:14.338Z"
   },
   {
    "duration": 507,
    "start_time": "2022-12-06T20:03:19.226Z"
   },
   {
    "duration": 597,
    "start_time": "2022-12-06T20:03:29.029Z"
   },
   {
    "duration": 515,
    "start_time": "2022-12-06T20:05:02.706Z"
   },
   {
    "duration": 274,
    "start_time": "2022-12-06T20:05:51.109Z"
   },
   {
    "duration": 415,
    "start_time": "2022-12-06T20:06:14.533Z"
   },
   {
    "duration": 409,
    "start_time": "2022-12-06T20:06:32.810Z"
   },
   {
    "duration": 443,
    "start_time": "2022-12-06T20:06:52.595Z"
   },
   {
    "duration": 433,
    "start_time": "2022-12-06T20:07:01.546Z"
   },
   {
    "duration": 7,
    "start_time": "2022-12-06T20:07:14.867Z"
   },
   {
    "duration": 396,
    "start_time": "2022-12-06T20:07:19.262Z"
   },
   {
    "duration": 442,
    "start_time": "2022-12-06T20:07:27.746Z"
   },
   {
    "duration": 432,
    "start_time": "2022-12-06T20:07:33.202Z"
   },
   {
    "duration": 530,
    "start_time": "2022-12-06T20:08:20.542Z"
   },
   {
    "duration": 467,
    "start_time": "2022-12-06T20:08:29.779Z"
   },
   {
    "duration": 432,
    "start_time": "2022-12-06T20:08:38.950Z"
   },
   {
    "duration": 458,
    "start_time": "2022-12-06T20:08:51.648Z"
   },
   {
    "duration": 427,
    "start_time": "2022-12-06T20:09:00.154Z"
   },
   {
    "duration": 482,
    "start_time": "2022-12-06T20:09:14.459Z"
   },
   {
    "duration": 462,
    "start_time": "2022-12-06T20:09:20.362Z"
   },
   {
    "duration": 481,
    "start_time": "2022-12-06T20:09:33.178Z"
   },
   {
    "duration": 347,
    "start_time": "2022-12-06T20:19:47.359Z"
   },
   {
    "duration": 373,
    "start_time": "2022-12-06T20:20:00.812Z"
   },
   {
    "duration": 316,
    "start_time": "2022-12-06T20:20:14.303Z"
   },
   {
    "duration": 425,
    "start_time": "2022-12-06T20:21:43.695Z"
   },
   {
    "duration": 719,
    "start_time": "2022-12-06T20:35:16.157Z"
   },
   {
    "duration": 397,
    "start_time": "2022-12-06T20:35:39.893Z"
   },
   {
    "duration": 380,
    "start_time": "2022-12-06T20:35:49.965Z"
   },
   {
    "duration": 337,
    "start_time": "2022-12-06T20:36:06.912Z"
   },
   {
    "duration": 46,
    "start_time": "2022-12-06T20:42:29.389Z"
   },
   {
    "duration": 11,
    "start_time": "2022-12-06T20:52:03.203Z"
   },
   {
    "duration": 10,
    "start_time": "2022-12-06T20:52:34.951Z"
   },
   {
    "duration": 12,
    "start_time": "2022-12-06T20:52:48.798Z"
   },
   {
    "duration": 702,
    "start_time": "2022-12-06T20:53:30.575Z"
   },
   {
    "duration": 11,
    "start_time": "2022-12-06T20:54:01.467Z"
   },
   {
    "duration": 750,
    "start_time": "2022-12-06T20:54:15.822Z"
   },
   {
    "duration": 26,
    "start_time": "2022-12-06T21:11:10.893Z"
   },
   {
    "duration": 19,
    "start_time": "2022-12-06T21:11:40.172Z"
   },
   {
    "duration": 200,
    "start_time": "2022-12-06T21:12:36.196Z"
   },
   {
    "duration": 220,
    "start_time": "2022-12-06T21:13:08.382Z"
   },
   {
    "duration": 803,
    "start_time": "2022-12-06T21:38:44.511Z"
   },
   {
    "duration": 27,
    "start_time": "2022-12-06T21:38:58.022Z"
   },
   {
    "duration": 27,
    "start_time": "2022-12-06T21:39:03.354Z"
   },
   {
    "duration": 38,
    "start_time": "2022-12-06T21:39:09.826Z"
   },
   {
    "duration": 35,
    "start_time": "2022-12-06T22:10:36.978Z"
   },
   {
    "duration": 252,
    "start_time": "2022-12-06T22:11:05.141Z"
   },
   {
    "duration": 295,
    "start_time": "2022-12-06T22:12:21.641Z"
   },
   {
    "duration": 12,
    "start_time": "2022-12-06T22:13:45.413Z"
   },
   {
    "duration": 1136,
    "start_time": "2022-12-06T22:13:54.909Z"
   },
   {
    "duration": 106,
    "start_time": "2022-12-06T22:13:56.048Z"
   },
   {
    "duration": 4,
    "start_time": "2022-12-06T22:13:56.156Z"
   },
   {
    "duration": 23,
    "start_time": "2022-12-06T22:13:56.162Z"
   },
   {
    "duration": 10,
    "start_time": "2022-12-06T22:13:56.187Z"
   },
   {
    "duration": 71,
    "start_time": "2022-12-06T22:13:56.199Z"
   },
   {
    "duration": 24,
    "start_time": "2022-12-06T22:13:56.272Z"
   },
   {
    "duration": 276,
    "start_time": "2022-12-06T22:13:56.298Z"
   },
   {
    "duration": 306,
    "start_time": "2022-12-06T22:13:56.577Z"
   },
   {
    "duration": 45,
    "start_time": "2022-12-06T22:13:56.885Z"
   },
   {
    "duration": 0,
    "start_time": "2022-12-06T22:13:56.931Z"
   },
   {
    "duration": 0,
    "start_time": "2022-12-06T22:13:56.933Z"
   },
   {
    "duration": 99,
    "start_time": "2022-12-06T22:14:02.253Z"
   },
   {
    "duration": 10,
    "start_time": "2022-12-06T22:14:05.689Z"
   },
   {
    "duration": 789,
    "start_time": "2022-12-06T22:16:40.534Z"
   },
   {
    "duration": 728,
    "start_time": "2022-12-06T22:16:54.030Z"
   },
   {
    "duration": 1035,
    "start_time": "2022-12-06T22:17:05.389Z"
   },
   {
    "duration": 47,
    "start_time": "2022-12-06T22:17:27.907Z"
   },
   {
    "duration": 54,
    "start_time": "2022-12-06T22:17:53.858Z"
   },
   {
    "duration": 2,
    "start_time": "2022-12-06T22:19:55.298Z"
   },
   {
    "duration": 282,
    "start_time": "2022-12-06T22:20:10.958Z"
   },
   {
    "duration": 22,
    "start_time": "2022-12-06T22:20:31.513Z"
   },
   {
    "duration": 64,
    "start_time": "2022-12-06T22:20:44.826Z"
   },
   {
    "duration": 2700,
    "start_time": "2022-12-06T22:21:05.654Z"
   },
   {
    "duration": 280,
    "start_time": "2022-12-06T22:21:45.450Z"
   },
   {
    "duration": 394,
    "start_time": "2022-12-06T22:22:38.367Z"
   },
   {
    "duration": 374,
    "start_time": "2022-12-06T22:22:42.366Z"
   },
   {
    "duration": 289,
    "start_time": "2022-12-06T22:22:56.978Z"
   },
   {
    "duration": 434,
    "start_time": "2022-12-06T22:23:12.407Z"
   },
   {
    "duration": 305,
    "start_time": "2022-12-06T22:24:21.118Z"
   },
   {
    "duration": 289,
    "start_time": "2022-12-06T22:24:36.427Z"
   },
   {
    "duration": 273,
    "start_time": "2022-12-06T22:24:49.414Z"
   },
   {
    "duration": 294,
    "start_time": "2022-12-06T22:25:06.158Z"
   },
   {
    "duration": 297,
    "start_time": "2022-12-06T22:25:55.034Z"
   },
   {
    "duration": 292,
    "start_time": "2022-12-06T22:26:05.122Z"
   },
   {
    "duration": 375,
    "start_time": "2022-12-06T22:27:22.723Z"
   },
   {
    "duration": 419,
    "start_time": "2022-12-06T22:27:29.542Z"
   },
   {
    "duration": 55,
    "start_time": "2022-12-06T22:27:38.495Z"
   },
   {
    "duration": 363,
    "start_time": "2022-12-06T22:27:46.715Z"
   },
   {
    "duration": 421,
    "start_time": "2022-12-06T22:27:51.362Z"
   },
   {
    "duration": 518,
    "start_time": "2022-12-06T22:28:01.263Z"
   },
   {
    "duration": 389,
    "start_time": "2022-12-06T22:28:07.811Z"
   },
   {
    "duration": 395,
    "start_time": "2022-12-06T22:28:14.898Z"
   },
   {
    "duration": 414,
    "start_time": "2022-12-06T22:28:30.367Z"
   },
   {
    "duration": 322,
    "start_time": "2022-12-06T22:28:45.259Z"
   },
   {
    "duration": 304,
    "start_time": "2022-12-06T22:28:57.399Z"
   },
   {
    "duration": 406,
    "start_time": "2022-12-06T22:29:03.687Z"
   },
   {
    "duration": 271,
    "start_time": "2022-12-06T22:37:00.688Z"
   },
   {
    "duration": 238,
    "start_time": "2022-12-06T22:37:09.616Z"
   },
   {
    "duration": 290,
    "start_time": "2022-12-06T22:37:23.363Z"
   },
   {
    "duration": 370,
    "start_time": "2022-12-06T22:37:28.900Z"
   },
   {
    "duration": 490,
    "start_time": "2022-12-06T22:39:52.710Z"
   },
   {
    "duration": 397,
    "start_time": "2022-12-06T22:40:09.785Z"
   },
   {
    "duration": 393,
    "start_time": "2022-12-06T22:40:16.454Z"
   },
   {
    "duration": 51,
    "start_time": "2022-12-06T22:40:57.209Z"
   },
   {
    "duration": 46,
    "start_time": "2022-12-06T22:41:58.350Z"
   },
   {
    "duration": 62,
    "start_time": "2022-12-07T16:46:08.816Z"
   },
   {
    "duration": 1408,
    "start_time": "2022-12-07T16:46:16.688Z"
   },
   {
    "duration": 180,
    "start_time": "2022-12-07T16:46:18.099Z"
   },
   {
    "duration": 4,
    "start_time": "2022-12-07T16:46:18.281Z"
   },
   {
    "duration": 22,
    "start_time": "2022-12-07T16:46:18.287Z"
   },
   {
    "duration": 21,
    "start_time": "2022-12-07T16:46:18.311Z"
   },
   {
    "duration": 125,
    "start_time": "2022-12-07T16:46:18.335Z"
   },
   {
    "duration": 82,
    "start_time": "2022-12-07T16:46:18.462Z"
   },
   {
    "duration": 305,
    "start_time": "2022-12-07T16:46:18.546Z"
   },
   {
    "duration": 351,
    "start_time": "2022-12-07T16:46:18.853Z"
   },
   {
    "duration": 365,
    "start_time": "2022-12-07T16:46:19.208Z"
   },
   {
    "duration": 473,
    "start_time": "2022-12-07T16:46:19.576Z"
   },
   {
    "duration": 435,
    "start_time": "2022-12-07T16:46:20.051Z"
   },
   {
    "duration": 458,
    "start_time": "2022-12-07T16:46:20.488Z"
   },
   {
    "duration": 13,
    "start_time": "2022-12-07T16:46:20.948Z"
   },
   {
    "duration": 200,
    "start_time": "2022-12-07T16:46:20.963Z"
   },
   {
    "duration": 13,
    "start_time": "2022-12-07T16:48:31.692Z"
   },
   {
    "duration": 306,
    "start_time": "2022-12-07T16:49:48.491Z"
   },
   {
    "duration": 465,
    "start_time": "2022-12-07T16:49:54.327Z"
   },
   {
    "duration": 341,
    "start_time": "2022-12-07T16:49:59.906Z"
   },
   {
    "duration": 19,
    "start_time": "2022-12-07T16:51:06.173Z"
   },
   {
    "duration": 148,
    "start_time": "2022-12-07T16:51:26.557Z"
   },
   {
    "duration": 213,
    "start_time": "2022-12-07T16:52:39.046Z"
   },
   {
    "duration": 209,
    "start_time": "2022-12-07T16:54:07.076Z"
   },
   {
    "duration": 21,
    "start_time": "2022-12-07T16:56:04.057Z"
   },
   {
    "duration": 138,
    "start_time": "2022-12-07T16:56:49.970Z"
   },
   {
    "duration": 1950,
    "start_time": "2022-12-07T16:57:01.718Z"
   },
   {
    "duration": 277,
    "start_time": "2022-12-07T16:57:25.048Z"
   },
   {
    "duration": 190,
    "start_time": "2022-12-07T16:57:44.269Z"
   },
   {
    "duration": 188,
    "start_time": "2022-12-07T16:58:02.761Z"
   },
   {
    "duration": 2017,
    "start_time": "2022-12-07T17:06:02.663Z"
   },
   {
    "duration": 6,
    "start_time": "2022-12-07T17:06:15.095Z"
   },
   {
    "duration": 6,
    "start_time": "2022-12-07T17:11:09.203Z"
   },
   {
    "duration": 18,
    "start_time": "2022-12-07T17:11:55.002Z"
   },
   {
    "duration": 205,
    "start_time": "2022-12-07T17:12:23.900Z"
   },
   {
    "duration": 163,
    "start_time": "2022-12-07T17:13:25.141Z"
   },
   {
    "duration": 179,
    "start_time": "2022-12-07T17:13:30.978Z"
   },
   {
    "duration": 164,
    "start_time": "2022-12-07T17:13:44.803Z"
   },
   {
    "duration": 19,
    "start_time": "2022-12-07T17:14:28.718Z"
   },
   {
    "duration": 10,
    "start_time": "2022-12-07T17:15:37.570Z"
   },
   {
    "duration": 19,
    "start_time": "2022-12-07T17:15:44.149Z"
   },
   {
    "duration": 1823,
    "start_time": "2022-12-07T17:20:38.498Z"
   },
   {
    "duration": 1922,
    "start_time": "2022-12-07T17:20:48.863Z"
   },
   {
    "duration": 154,
    "start_time": "2022-12-07T17:20:56.237Z"
   },
   {
    "duration": 1821,
    "start_time": "2022-12-07T17:21:01.836Z"
   },
   {
    "duration": 171,
    "start_time": "2022-12-07T17:21:20.098Z"
   },
   {
    "duration": 9,
    "start_time": "2022-12-07T17:22:32.106Z"
   },
   {
    "duration": 15,
    "start_time": "2022-12-07T17:22:48.398Z"
   },
   {
    "duration": 1756,
    "start_time": "2022-12-07T17:28:12.486Z"
   },
   {
    "duration": 5,
    "start_time": "2022-12-07T17:28:23.258Z"
   },
   {
    "duration": 13,
    "start_time": "2022-12-07T17:40:53.166Z"
   },
   {
    "duration": 144,
    "start_time": "2022-12-07T17:41:32.564Z"
   },
   {
    "duration": 113,
    "start_time": "2022-12-07T17:42:33.167Z"
   },
   {
    "duration": 113,
    "start_time": "2022-12-07T17:42:41.103Z"
   },
   {
    "duration": 110,
    "start_time": "2022-12-07T17:43:12.440Z"
   },
   {
    "duration": 12,
    "start_time": "2022-12-07T17:43:40.503Z"
   },
   {
    "duration": 110,
    "start_time": "2022-12-07T17:44:37.187Z"
   },
   {
    "duration": 268,
    "start_time": "2022-12-07T17:45:08.067Z"
   },
   {
    "duration": 279,
    "start_time": "2022-12-07T17:46:24.413Z"
   },
   {
    "duration": 531,
    "start_time": "2022-12-07T17:47:09.931Z"
   },
   {
    "duration": 1066,
    "start_time": "2022-12-07T17:47:55.248Z"
   },
   {
    "duration": 100,
    "start_time": "2022-12-07T17:47:56.317Z"
   },
   {
    "duration": 4,
    "start_time": "2022-12-07T17:47:56.419Z"
   },
   {
    "duration": 36,
    "start_time": "2022-12-07T17:47:56.426Z"
   },
   {
    "duration": 10,
    "start_time": "2022-12-07T17:47:56.464Z"
   },
   {
    "duration": 59,
    "start_time": "2022-12-07T17:47:56.476Z"
   },
   {
    "duration": 33,
    "start_time": "2022-12-07T17:47:56.538Z"
   },
   {
    "duration": 284,
    "start_time": "2022-12-07T17:47:56.574Z"
   },
   {
    "duration": 316,
    "start_time": "2022-12-07T17:47:56.860Z"
   },
   {
    "duration": 346,
    "start_time": "2022-12-07T17:47:57.179Z"
   },
   {
    "duration": 384,
    "start_time": "2022-12-07T17:47:57.535Z"
   },
   {
    "duration": 438,
    "start_time": "2022-12-07T17:47:57.922Z"
   },
   {
    "duration": 396,
    "start_time": "2022-12-07T17:47:58.362Z"
   },
   {
    "duration": 145,
    "start_time": "2022-12-07T17:47:58.760Z"
   },
   {
    "duration": 4,
    "start_time": "2022-12-07T17:47:58.907Z"
   },
   {
    "duration": 179,
    "start_time": "2022-12-07T17:47:58.912Z"
   },
   {
    "duration": 4,
    "start_time": "2022-12-07T17:47:59.093Z"
   },
   {
    "duration": 35,
    "start_time": "2022-12-07T17:47:59.099Z"
   },
   {
    "duration": 16,
    "start_time": "2022-12-07T17:47:59.139Z"
   },
   {
    "duration": 619,
    "start_time": "2022-12-07T17:47:59.157Z"
   },
   {
    "duration": 507,
    "start_time": "2022-12-07T17:48:17.048Z"
   },
   {
    "duration": 10,
    "start_time": "2022-12-07T18:00:40.097Z"
   },
   {
    "duration": 14,
    "start_time": "2022-12-07T18:00:48.179Z"
   },
   {
    "duration": 20,
    "start_time": "2022-12-07T18:15:40.418Z"
   },
   {
    "duration": 23,
    "start_time": "2022-12-07T18:24:47.160Z"
   },
   {
    "duration": 2041,
    "start_time": "2022-12-07T18:26:34.655Z"
   },
   {
    "duration": 2089,
    "start_time": "2022-12-07T18:26:57.458Z"
   },
   {
    "duration": 51,
    "start_time": "2022-12-07T18:27:06.547Z"
   },
   {
    "duration": 62,
    "start_time": "2022-12-07T18:28:39.008Z"
   },
   {
    "duration": 49,
    "start_time": "2022-12-07T18:33:24.415Z"
   },
   {
    "duration": 178,
    "start_time": "2022-12-07T18:33:39.979Z"
   },
   {
    "duration": 168,
    "start_time": "2022-12-07T18:33:53.115Z"
   },
   {
    "duration": 57,
    "start_time": "2022-12-07T18:33:59.022Z"
   },
   {
    "duration": 1523,
    "start_time": "2022-12-07T18:41:07.089Z"
   },
   {
    "duration": 141,
    "start_time": "2022-12-07T18:41:08.617Z"
   },
   {
    "duration": 9,
    "start_time": "2022-12-07T18:41:08.760Z"
   },
   {
    "duration": 54,
    "start_time": "2022-12-07T18:41:08.771Z"
   },
   {
    "duration": 61,
    "start_time": "2022-12-07T18:41:08.829Z"
   },
   {
    "duration": 97,
    "start_time": "2022-12-07T18:41:08.893Z"
   },
   {
    "duration": 32,
    "start_time": "2022-12-07T18:41:08.993Z"
   },
   {
    "duration": 475,
    "start_time": "2022-12-07T18:41:09.036Z"
   },
   {
    "duration": 462,
    "start_time": "2022-12-07T18:41:09.514Z"
   },
   {
    "duration": 408,
    "start_time": "2022-12-07T18:41:09.980Z"
   },
   {
    "duration": 467,
    "start_time": "2022-12-07T18:41:10.391Z"
   },
   {
    "duration": 488,
    "start_time": "2022-12-07T18:41:10.860Z"
   },
   {
    "duration": 488,
    "start_time": "2022-12-07T18:41:11.350Z"
   },
   {
    "duration": 197,
    "start_time": "2022-12-07T18:41:11.840Z"
   },
   {
    "duration": 8,
    "start_time": "2022-12-07T18:41:12.039Z"
   },
   {
    "duration": 293,
    "start_time": "2022-12-07T18:41:12.050Z"
   },
   {
    "duration": 12,
    "start_time": "2022-12-07T18:41:12.350Z"
   },
   {
    "duration": 758,
    "start_time": "2022-12-07T18:41:12.369Z"
   },
   {
    "duration": 22,
    "start_time": "2022-12-07T18:41:13.138Z"
   },
   {
    "duration": 36,
    "start_time": "2022-12-07T18:41:13.168Z"
   },
   {
    "duration": 168,
    "start_time": "2022-12-07T18:41:13.208Z"
   },
   {
    "duration": 0,
    "start_time": "2022-12-07T18:41:13.379Z"
   },
   {
    "duration": 1079,
    "start_time": "2022-12-07T19:12:50.317Z"
   },
   {
    "duration": 102,
    "start_time": "2022-12-07T19:12:51.398Z"
   },
   {
    "duration": 4,
    "start_time": "2022-12-07T19:12:51.503Z"
   },
   {
    "duration": 15,
    "start_time": "2022-12-07T19:12:51.509Z"
   },
   {
    "duration": 9,
    "start_time": "2022-12-07T19:12:51.526Z"
   },
   {
    "duration": 63,
    "start_time": "2022-12-07T19:12:51.536Z"
   },
   {
    "duration": 21,
    "start_time": "2022-12-07T19:12:51.601Z"
   },
   {
    "duration": 271,
    "start_time": "2022-12-07T19:12:51.624Z"
   },
   {
    "duration": 303,
    "start_time": "2022-12-07T19:12:51.897Z"
   },
   {
    "duration": 288,
    "start_time": "2022-12-07T19:12:52.202Z"
   },
   {
    "duration": 341,
    "start_time": "2022-12-07T19:12:52.491Z"
   },
   {
    "duration": 414,
    "start_time": "2022-12-07T19:12:52.833Z"
   },
   {
    "duration": 409,
    "start_time": "2022-12-07T19:12:53.249Z"
   },
   {
    "duration": 160,
    "start_time": "2022-12-07T19:12:53.661Z"
   },
   {
    "duration": 5,
    "start_time": "2022-12-07T19:12:53.823Z"
   },
   {
    "duration": 172,
    "start_time": "2022-12-07T19:12:53.830Z"
   },
   {
    "duration": 4,
    "start_time": "2022-12-07T19:12:54.004Z"
   },
   {
    "duration": 582,
    "start_time": "2022-12-07T19:12:54.010Z"
   },
   {
    "duration": 12,
    "start_time": "2022-12-07T19:12:54.595Z"
   },
   {
    "duration": 16,
    "start_time": "2022-12-07T19:12:54.609Z"
   },
   {
    "duration": 172,
    "start_time": "2022-12-07T19:12:54.627Z"
   },
   {
    "duration": 0,
    "start_time": "2022-12-07T19:12:54.800Z"
   },
   {
    "duration": 17,
    "start_time": "2022-12-07T19:16:29.875Z"
   },
   {
    "duration": 4,
    "start_time": "2022-12-07T19:17:00.255Z"
   },
   {
    "duration": 4,
    "start_time": "2022-12-07T19:17:57.453Z"
   },
   {
    "duration": 8,
    "start_time": "2022-12-07T19:20:36.724Z"
   },
   {
    "duration": 4,
    "start_time": "2022-12-07T19:21:19.635Z"
   },
   {
    "duration": 4,
    "start_time": "2022-12-07T19:21:57.835Z"
   },
   {
    "duration": 16,
    "start_time": "2022-12-07T19:22:49.125Z"
   },
   {
    "duration": 720,
    "start_time": "2022-12-07T19:24:00.405Z"
   },
   {
    "duration": 4,
    "start_time": "2022-12-07T19:24:07.855Z"
   },
   {
    "duration": 5,
    "start_time": "2022-12-07T19:24:10.934Z"
   },
   {
    "duration": 4,
    "start_time": "2022-12-07T19:24:33.594Z"
   },
   {
    "duration": 4,
    "start_time": "2022-12-07T19:24:35.855Z"
   },
   {
    "duration": 16,
    "start_time": "2022-12-07T19:24:41.795Z"
   },
   {
    "duration": 48,
    "start_time": "2022-12-08T15:33:03.334Z"
   },
   {
    "duration": 1155,
    "start_time": "2022-12-08T15:33:09.490Z"
   },
   {
    "duration": 130,
    "start_time": "2022-12-08T15:33:10.647Z"
   },
   {
    "duration": 2,
    "start_time": "2022-12-08T15:33:10.779Z"
   },
   {
    "duration": 11,
    "start_time": "2022-12-08T15:33:10.783Z"
   },
   {
    "duration": 8,
    "start_time": "2022-12-08T15:33:10.795Z"
   },
   {
    "duration": 112,
    "start_time": "2022-12-08T15:33:10.804Z"
   },
   {
    "duration": 76,
    "start_time": "2022-12-08T15:33:10.918Z"
   },
   {
    "duration": 247,
    "start_time": "2022-12-08T15:33:10.996Z"
   },
   {
    "duration": 254,
    "start_time": "2022-12-08T15:33:11.245Z"
   },
   {
    "duration": 242,
    "start_time": "2022-12-08T15:33:11.501Z"
   },
   {
    "duration": 370,
    "start_time": "2022-12-08T15:33:11.744Z"
   },
   {
    "duration": 362,
    "start_time": "2022-12-08T15:33:12.116Z"
   },
   {
    "duration": 421,
    "start_time": "2022-12-08T15:33:12.479Z"
   },
   {
    "duration": 221,
    "start_time": "2022-12-08T15:33:12.902Z"
   },
   {
    "duration": 5,
    "start_time": "2022-12-08T15:33:13.124Z"
   },
   {
    "duration": 289,
    "start_time": "2022-12-08T15:33:13.130Z"
   },
   {
    "duration": 4,
    "start_time": "2022-12-08T15:33:13.420Z"
   },
   {
    "duration": 977,
    "start_time": "2022-12-08T15:33:13.426Z"
   },
   {
    "duration": 9,
    "start_time": "2022-12-08T15:33:14.404Z"
   },
   {
    "duration": 22,
    "start_time": "2022-12-08T15:33:14.414Z"
   },
   {
    "duration": 154,
    "start_time": "2022-12-08T15:33:14.437Z"
   },
   {
    "duration": 0,
    "start_time": "2022-12-08T15:33:14.593Z"
   },
   {
    "duration": 753,
    "start_time": "2022-12-08T15:33:27.632Z"
   },
   {
    "duration": 870,
    "start_time": "2022-12-08T15:33:32.652Z"
   },
   {
    "duration": 817,
    "start_time": "2022-12-08T15:33:59.663Z"
   },
   {
    "duration": 991,
    "start_time": "2022-12-08T15:34:10.607Z"
   },
   {
    "duration": 75,
    "start_time": "2022-12-08T15:34:11.599Z"
   },
   {
    "duration": 2,
    "start_time": "2022-12-08T15:34:11.676Z"
   },
   {
    "duration": 13,
    "start_time": "2022-12-08T15:34:11.680Z"
   },
   {
    "duration": 7,
    "start_time": "2022-12-08T15:34:11.694Z"
   },
   {
    "duration": 50,
    "start_time": "2022-12-08T15:34:11.703Z"
   },
   {
    "duration": 24,
    "start_time": "2022-12-08T15:34:11.755Z"
   },
   {
    "duration": 252,
    "start_time": "2022-12-08T15:34:11.780Z"
   },
   {
    "duration": 253,
    "start_time": "2022-12-08T15:34:12.034Z"
   },
   {
    "duration": 253,
    "start_time": "2022-12-08T15:34:12.289Z"
   },
   {
    "duration": 331,
    "start_time": "2022-12-08T15:34:12.543Z"
   },
   {
    "duration": 393,
    "start_time": "2022-12-08T15:34:12.876Z"
   },
   {
    "duration": 639,
    "start_time": "2022-12-08T15:34:13.271Z"
   },
   {
    "duration": 288,
    "start_time": "2022-12-08T15:34:13.913Z"
   },
   {
    "duration": 3,
    "start_time": "2022-12-08T15:34:14.203Z"
   },
   {
    "duration": 291,
    "start_time": "2022-12-08T15:34:14.208Z"
   },
   {
    "duration": 4,
    "start_time": "2022-12-08T15:34:14.501Z"
   },
   {
    "duration": 869,
    "start_time": "2022-12-08T15:34:14.506Z"
   },
   {
    "duration": 9,
    "start_time": "2022-12-08T15:34:15.377Z"
   },
   {
    "duration": 26,
    "start_time": "2022-12-08T15:34:15.387Z"
   },
   {
    "duration": 112,
    "start_time": "2022-12-08T15:34:15.415Z"
   },
   {
    "duration": 0,
    "start_time": "2022-12-08T15:34:15.529Z"
   },
   {
    "duration": 790,
    "start_time": "2022-12-08T15:34:35.552Z"
   },
   {
    "duration": 0,
    "start_time": "2022-12-08T15:34:50.918Z"
   },
   {
    "duration": 0,
    "start_time": "2022-12-08T15:34:50.919Z"
   },
   {
    "duration": 0,
    "start_time": "2022-12-08T15:34:50.920Z"
   },
   {
    "duration": 0,
    "start_time": "2022-12-08T15:34:50.921Z"
   },
   {
    "duration": 0,
    "start_time": "2022-12-08T15:34:50.922Z"
   },
   {
    "duration": 0,
    "start_time": "2022-12-08T15:34:50.923Z"
   },
   {
    "duration": 0,
    "start_time": "2022-12-08T15:34:50.924Z"
   },
   {
    "duration": 0,
    "start_time": "2022-12-08T15:34:50.925Z"
   },
   {
    "duration": 0,
    "start_time": "2022-12-08T15:34:50.926Z"
   },
   {
    "duration": 0,
    "start_time": "2022-12-08T15:34:50.927Z"
   },
   {
    "duration": 0,
    "start_time": "2022-12-08T15:34:50.928Z"
   },
   {
    "duration": 0,
    "start_time": "2022-12-08T15:34:50.929Z"
   },
   {
    "duration": 0,
    "start_time": "2022-12-08T15:34:50.930Z"
   },
   {
    "duration": 0,
    "start_time": "2022-12-08T15:34:50.931Z"
   },
   {
    "duration": 0,
    "start_time": "2022-12-08T15:34:50.932Z"
   },
   {
    "duration": 0,
    "start_time": "2022-12-08T15:34:50.933Z"
   },
   {
    "duration": 0,
    "start_time": "2022-12-08T15:34:50.934Z"
   },
   {
    "duration": 0,
    "start_time": "2022-12-08T15:34:50.935Z"
   },
   {
    "duration": 0,
    "start_time": "2022-12-08T15:34:50.936Z"
   },
   {
    "duration": 0,
    "start_time": "2022-12-08T15:34:50.937Z"
   },
   {
    "duration": 0,
    "start_time": "2022-12-08T15:34:50.939Z"
   },
   {
    "duration": 0,
    "start_time": "2022-12-08T15:34:50.939Z"
   },
   {
    "duration": 868,
    "start_time": "2022-12-08T15:35:03.839Z"
   },
   {
    "duration": 1018,
    "start_time": "2022-12-08T15:35:11.193Z"
   },
   {
    "duration": 84,
    "start_time": "2022-12-08T15:35:12.212Z"
   },
   {
    "duration": 4,
    "start_time": "2022-12-08T15:35:12.298Z"
   },
   {
    "duration": 13,
    "start_time": "2022-12-08T15:35:12.304Z"
   },
   {
    "duration": 10,
    "start_time": "2022-12-08T15:35:12.320Z"
   },
   {
    "duration": 55,
    "start_time": "2022-12-08T15:35:12.331Z"
   },
   {
    "duration": 23,
    "start_time": "2022-12-08T15:35:12.387Z"
   },
   {
    "duration": 247,
    "start_time": "2022-12-08T15:35:12.411Z"
   },
   {
    "duration": 261,
    "start_time": "2022-12-08T15:35:12.660Z"
   },
   {
    "duration": 268,
    "start_time": "2022-12-08T15:35:12.922Z"
   },
   {
    "duration": 382,
    "start_time": "2022-12-08T15:35:13.192Z"
   },
   {
    "duration": 436,
    "start_time": "2022-12-08T15:35:13.576Z"
   },
   {
    "duration": 380,
    "start_time": "2022-12-08T15:35:14.014Z"
   },
   {
    "duration": 130,
    "start_time": "2022-12-08T15:35:14.399Z"
   },
   {
    "duration": 5,
    "start_time": "2022-12-08T15:35:14.531Z"
   },
   {
    "duration": 154,
    "start_time": "2022-12-08T15:35:14.537Z"
   },
   {
    "duration": 5,
    "start_time": "2022-12-08T15:35:14.697Z"
   },
   {
    "duration": 566,
    "start_time": "2022-12-08T15:35:14.704Z"
   },
   {
    "duration": 9,
    "start_time": "2022-12-08T15:35:15.272Z"
   },
   {
    "duration": 19,
    "start_time": "2022-12-08T15:35:15.282Z"
   },
   {
    "duration": 102,
    "start_time": "2022-12-08T15:35:15.303Z"
   },
   {
    "duration": 0,
    "start_time": "2022-12-08T15:35:15.406Z"
   },
   {
    "duration": 965,
    "start_time": "2022-12-08T15:35:56.939Z"
   },
   {
    "duration": 88,
    "start_time": "2022-12-08T15:35:57.906Z"
   },
   {
    "duration": 3,
    "start_time": "2022-12-08T15:35:57.996Z"
   },
   {
    "duration": 33,
    "start_time": "2022-12-08T15:35:58.002Z"
   },
   {
    "duration": 16,
    "start_time": "2022-12-08T15:35:58.036Z"
   },
   {
    "duration": 86,
    "start_time": "2022-12-08T15:35:58.054Z"
   },
   {
    "duration": 25,
    "start_time": "2022-12-08T15:35:58.142Z"
   },
   {
    "duration": 278,
    "start_time": "2022-12-08T15:35:58.169Z"
   },
   {
    "duration": 281,
    "start_time": "2022-12-08T15:35:58.449Z"
   },
   {
    "duration": 267,
    "start_time": "2022-12-08T15:35:58.732Z"
   },
   {
    "duration": 389,
    "start_time": "2022-12-08T15:35:59.001Z"
   },
   {
    "duration": 403,
    "start_time": "2022-12-08T15:35:59.392Z"
   },
   {
    "duration": 604,
    "start_time": "2022-12-08T15:35:59.796Z"
   },
   {
    "duration": 223,
    "start_time": "2022-12-08T15:36:00.402Z"
   },
   {
    "duration": 5,
    "start_time": "2022-12-08T15:36:00.627Z"
   },
   {
    "duration": 287,
    "start_time": "2022-12-08T15:36:00.633Z"
   },
   {
    "duration": 5,
    "start_time": "2022-12-08T15:36:00.922Z"
   },
   {
    "duration": 982,
    "start_time": "2022-12-08T15:36:00.929Z"
   },
   {
    "duration": 11,
    "start_time": "2022-12-08T15:36:01.913Z"
   },
   {
    "duration": 11,
    "start_time": "2022-12-08T15:36:01.925Z"
   },
   {
    "duration": 130,
    "start_time": "2022-12-08T15:36:01.938Z"
   },
   {
    "duration": 0,
    "start_time": "2022-12-08T15:36:02.070Z"
   },
   {
    "duration": 988,
    "start_time": "2022-12-08T15:36:38.982Z"
   },
   {
    "duration": 102,
    "start_time": "2022-12-08T15:36:39.972Z"
   },
   {
    "duration": 4,
    "start_time": "2022-12-08T15:36:40.075Z"
   },
   {
    "duration": 18,
    "start_time": "2022-12-08T15:36:40.081Z"
   },
   {
    "duration": 12,
    "start_time": "2022-12-08T15:36:40.101Z"
   },
   {
    "duration": 56,
    "start_time": "2022-12-08T15:36:40.114Z"
   },
   {
    "duration": 20,
    "start_time": "2022-12-08T15:36:40.172Z"
   },
   {
    "duration": 247,
    "start_time": "2022-12-08T15:36:40.194Z"
   },
   {
    "duration": 295,
    "start_time": "2022-12-08T15:36:40.442Z"
   },
   {
    "duration": 570,
    "start_time": "2022-12-08T15:36:40.740Z"
   },
   {
    "duration": 626,
    "start_time": "2022-12-08T15:36:41.312Z"
   },
   {
    "duration": 677,
    "start_time": "2022-12-08T15:36:41.940Z"
   },
   {
    "duration": 691,
    "start_time": "2022-12-08T15:36:42.619Z"
   },
   {
    "duration": 228,
    "start_time": "2022-12-08T15:36:43.311Z"
   },
   {
    "duration": 58,
    "start_time": "2022-12-08T15:36:43.541Z"
   },
   {
    "duration": 406,
    "start_time": "2022-12-08T15:36:43.601Z"
   },
   {
    "duration": 5,
    "start_time": "2022-12-08T15:36:44.009Z"
   },
   {
    "duration": 871,
    "start_time": "2022-12-08T15:36:44.015Z"
   },
   {
    "duration": 17,
    "start_time": "2022-12-08T15:36:44.888Z"
   },
   {
    "duration": 10,
    "start_time": "2022-12-08T15:36:44.907Z"
   },
   {
    "duration": 112,
    "start_time": "2022-12-08T15:36:44.918Z"
   },
   {
    "duration": 0,
    "start_time": "2022-12-08T15:36:45.031Z"
   },
   {
    "duration": 949,
    "start_time": "2022-12-08T15:36:54.954Z"
   },
   {
    "duration": 91,
    "start_time": "2022-12-08T15:36:55.905Z"
   },
   {
    "duration": 2,
    "start_time": "2022-12-08T15:36:55.998Z"
   },
   {
    "duration": 25,
    "start_time": "2022-12-08T15:36:56.002Z"
   },
   {
    "duration": 10,
    "start_time": "2022-12-08T15:36:56.029Z"
   },
   {
    "duration": 58,
    "start_time": "2022-12-08T15:36:56.040Z"
   },
   {
    "duration": 25,
    "start_time": "2022-12-08T15:36:56.100Z"
   },
   {
    "duration": 246,
    "start_time": "2022-12-08T15:36:56.127Z"
   },
   {
    "duration": 252,
    "start_time": "2022-12-08T15:36:56.375Z"
   },
   {
    "duration": 255,
    "start_time": "2022-12-08T15:36:56.628Z"
   },
   {
    "duration": 368,
    "start_time": "2022-12-08T15:36:56.885Z"
   },
   {
    "duration": 372,
    "start_time": "2022-12-08T15:36:57.255Z"
   },
   {
    "duration": 369,
    "start_time": "2022-12-08T15:36:57.628Z"
   },
   {
    "duration": 124,
    "start_time": "2022-12-08T15:36:58.000Z"
   },
   {
    "duration": 4,
    "start_time": "2022-12-08T15:36:58.126Z"
   },
   {
    "duration": 204,
    "start_time": "2022-12-08T15:36:58.132Z"
   },
   {
    "duration": 5,
    "start_time": "2022-12-08T15:36:58.337Z"
   },
   {
    "duration": 542,
    "start_time": "2022-12-08T15:36:58.343Z"
   },
   {
    "duration": 17,
    "start_time": "2022-12-08T15:36:58.886Z"
   },
   {
    "duration": 18,
    "start_time": "2022-12-08T15:36:58.905Z"
   },
   {
    "duration": 111,
    "start_time": "2022-12-08T15:36:58.924Z"
   },
   {
    "duration": 0,
    "start_time": "2022-12-08T15:36:59.037Z"
   },
   {
    "duration": 786,
    "start_time": "2022-12-08T15:37:17.001Z"
   },
   {
    "duration": 1043,
    "start_time": "2022-12-08T15:37:43.071Z"
   },
   {
    "duration": 79,
    "start_time": "2022-12-08T15:37:44.116Z"
   },
   {
    "duration": 3,
    "start_time": "2022-12-08T15:37:44.196Z"
   },
   {
    "duration": 13,
    "start_time": "2022-12-08T15:37:44.200Z"
   },
   {
    "duration": 11,
    "start_time": "2022-12-08T15:37:44.215Z"
   },
   {
    "duration": 49,
    "start_time": "2022-12-08T15:37:44.227Z"
   },
   {
    "duration": 20,
    "start_time": "2022-12-08T15:37:44.278Z"
   },
   {
    "duration": 271,
    "start_time": "2022-12-08T15:37:44.299Z"
   },
   {
    "duration": 333,
    "start_time": "2022-12-08T15:37:44.571Z"
   },
   {
    "duration": 266,
    "start_time": "2022-12-08T15:37:44.906Z"
   },
   {
    "duration": 388,
    "start_time": "2022-12-08T15:37:45.174Z"
   },
   {
    "duration": 409,
    "start_time": "2022-12-08T15:37:45.563Z"
   },
   {
    "duration": 405,
    "start_time": "2022-12-08T15:37:45.974Z"
   },
   {
    "duration": 120,
    "start_time": "2022-12-08T15:37:46.381Z"
   },
   {
    "duration": 4,
    "start_time": "2022-12-08T15:37:46.503Z"
   },
   {
    "duration": 148,
    "start_time": "2022-12-08T15:37:46.509Z"
   },
   {
    "duration": 3,
    "start_time": "2022-12-08T15:37:46.659Z"
   },
   {
    "duration": 454,
    "start_time": "2022-12-08T15:37:46.664Z"
   },
   {
    "duration": 9,
    "start_time": "2022-12-08T15:37:47.119Z"
   },
   {
    "duration": 21,
    "start_time": "2022-12-08T15:37:47.129Z"
   },
   {
    "duration": 108,
    "start_time": "2022-12-08T15:37:47.152Z"
   },
   {
    "duration": 0,
    "start_time": "2022-12-08T15:37:47.262Z"
   },
   {
    "duration": 58,
    "start_time": "2022-12-08T18:43:47.505Z"
   },
   {
    "duration": 1193,
    "start_time": "2022-12-08T18:43:58.116Z"
   },
   {
    "duration": 152,
    "start_time": "2022-12-08T18:43:59.311Z"
   },
   {
    "duration": 3,
    "start_time": "2022-12-08T18:43:59.465Z"
   },
   {
    "duration": 11,
    "start_time": "2022-12-08T18:43:59.470Z"
   },
   {
    "duration": 10,
    "start_time": "2022-12-08T18:43:59.483Z"
   },
   {
    "duration": 89,
    "start_time": "2022-12-08T18:43:59.504Z"
   },
   {
    "duration": 76,
    "start_time": "2022-12-08T18:43:59.594Z"
   },
   {
    "duration": 240,
    "start_time": "2022-12-08T18:43:59.672Z"
   },
   {
    "duration": 279,
    "start_time": "2022-12-08T18:43:59.913Z"
   },
   {
    "duration": 291,
    "start_time": "2022-12-08T18:44:00.194Z"
   },
   {
    "duration": 420,
    "start_time": "2022-12-08T18:44:00.486Z"
   },
   {
    "duration": 419,
    "start_time": "2022-12-08T18:44:00.908Z"
   },
   {
    "duration": 394,
    "start_time": "2022-12-08T18:44:01.329Z"
   },
   {
    "duration": 141,
    "start_time": "2022-12-08T18:44:01.724Z"
   },
   {
    "duration": 4,
    "start_time": "2022-12-08T18:44:01.867Z"
   },
   {
    "duration": 163,
    "start_time": "2022-12-08T18:44:01.873Z"
   },
   {
    "duration": 4,
    "start_time": "2022-12-08T18:44:02.039Z"
   },
   {
    "duration": 526,
    "start_time": "2022-12-08T18:44:02.045Z"
   },
   {
    "duration": 33,
    "start_time": "2022-12-08T18:44:02.572Z"
   },
   {
    "duration": 11,
    "start_time": "2022-12-08T18:44:02.607Z"
   },
   {
    "duration": 173,
    "start_time": "2022-12-08T18:44:02.620Z"
   },
   {
    "duration": 0,
    "start_time": "2022-12-08T18:44:02.795Z"
   },
   {
    "duration": 33,
    "start_time": "2022-12-08T18:46:01.352Z"
   },
   {
    "duration": 64,
    "start_time": "2022-12-08T18:48:41.446Z"
   },
   {
    "duration": 63,
    "start_time": "2022-12-08T18:48:53.430Z"
   },
   {
    "duration": 61,
    "start_time": "2022-12-08T18:49:12.501Z"
   },
   {
    "duration": 74,
    "start_time": "2022-12-08T18:58:04.650Z"
   },
   {
    "duration": 70,
    "start_time": "2022-12-08T18:58:21.150Z"
   },
   {
    "duration": 316,
    "start_time": "2022-12-08T18:58:35.358Z"
   },
   {
    "duration": 282,
    "start_time": "2022-12-08T18:59:14.114Z"
   },
   {
    "duration": 299,
    "start_time": "2022-12-08T18:59:31.362Z"
   },
   {
    "duration": 11,
    "start_time": "2022-12-08T19:00:31.819Z"
   },
   {
    "duration": 313,
    "start_time": "2022-12-08T19:00:47.784Z"
   },
   {
    "duration": 321,
    "start_time": "2022-12-08T19:00:57.200Z"
   },
   {
    "duration": 342,
    "start_time": "2022-12-08T19:01:03.947Z"
   },
   {
    "duration": 300,
    "start_time": "2022-12-08T19:01:10.958Z"
   },
   {
    "duration": 282,
    "start_time": "2022-12-08T19:01:17.050Z"
   },
   {
    "duration": 292,
    "start_time": "2022-12-08T19:01:30.666Z"
   },
   {
    "duration": 274,
    "start_time": "2022-12-08T19:02:19.262Z"
   },
   {
    "duration": 76,
    "start_time": "2022-12-08T19:02:25.725Z"
   },
   {
    "duration": 301,
    "start_time": "2022-12-08T19:02:31.219Z"
   },
   {
    "duration": 288,
    "start_time": "2022-12-08T19:02:42.943Z"
   },
   {
    "duration": 703,
    "start_time": "2022-12-08T19:03:53.339Z"
   },
   {
    "duration": 328,
    "start_time": "2022-12-08T19:08:11.921Z"
   },
   {
    "duration": 6,
    "start_time": "2022-12-08T19:08:33.331Z"
   },
   {
    "duration": 343,
    "start_time": "2022-12-08T19:08:48.994Z"
   },
   {
    "duration": 5,
    "start_time": "2022-12-08T19:10:57.124Z"
   },
   {
    "duration": 14,
    "start_time": "2022-12-08T19:11:10.511Z"
   },
   {
    "duration": 7,
    "start_time": "2022-12-08T19:11:45.608Z"
   },
   {
    "duration": 14,
    "start_time": "2022-12-08T19:11:55.290Z"
   },
   {
    "duration": 9,
    "start_time": "2022-12-08T19:12:01.108Z"
   },
   {
    "duration": 5,
    "start_time": "2022-12-08T19:14:31.937Z"
   },
   {
    "duration": 4,
    "start_time": "2022-12-08T19:14:57.061Z"
   },
   {
    "duration": 6,
    "start_time": "2022-12-08T19:15:12.536Z"
   },
   {
    "duration": 14,
    "start_time": "2022-12-08T19:16:00.633Z"
   },
   {
    "duration": 14,
    "start_time": "2022-12-08T19:16:13.666Z"
   },
   {
    "duration": 77,
    "start_time": "2022-12-08T19:18:51.561Z"
   },
   {
    "duration": 7,
    "start_time": "2022-12-08T19:18:55.692Z"
   },
   {
    "duration": 6,
    "start_time": "2022-12-08T19:19:08.360Z"
   },
   {
    "duration": 7,
    "start_time": "2022-12-08T19:19:15.566Z"
   },
   {
    "duration": 74,
    "start_time": "2022-12-08T19:20:12.709Z"
   },
   {
    "duration": 8,
    "start_time": "2022-12-08T19:20:25.648Z"
   },
   {
    "duration": 6,
    "start_time": "2022-12-08T19:21:22.961Z"
   },
   {
    "duration": 68,
    "start_time": "2022-12-08T19:27:55.253Z"
   },
   {
    "duration": 71,
    "start_time": "2022-12-08T19:27:58.978Z"
   },
   {
    "duration": 5,
    "start_time": "2022-12-08T19:50:22.568Z"
   },
   {
    "duration": 83,
    "start_time": "2022-12-08T19:50:35.164Z"
   },
   {
    "duration": 5,
    "start_time": "2022-12-08T19:50:38.547Z"
   },
   {
    "duration": 4,
    "start_time": "2022-12-08T19:50:59.924Z"
   },
   {
    "duration": 13,
    "start_time": "2022-12-08T19:59:59.465Z"
   },
   {
    "duration": 5,
    "start_time": "2022-12-08T20:00:20.633Z"
   },
   {
    "duration": 7,
    "start_time": "2022-12-08T20:01:18.660Z"
   },
   {
    "duration": 77,
    "start_time": "2022-12-08T20:03:48.473Z"
   },
   {
    "duration": 8,
    "start_time": "2022-12-08T20:03:58.615Z"
   },
   {
    "duration": 4,
    "start_time": "2022-12-08T20:05:45.098Z"
   },
   {
    "duration": 82,
    "start_time": "2022-12-08T20:05:55.638Z"
   },
   {
    "duration": 4,
    "start_time": "2022-12-08T20:06:00.424Z"
   },
   {
    "duration": 18,
    "start_time": "2022-12-08T20:06:18.807Z"
   },
   {
    "duration": 25,
    "start_time": "2022-12-08T20:06:28.678Z"
   },
   {
    "duration": 5,
    "start_time": "2022-12-08T20:13:12.307Z"
   },
   {
    "duration": 4,
    "start_time": "2022-12-08T20:13:59.670Z"
   },
   {
    "duration": 19,
    "start_time": "2022-12-08T20:14:10.810Z"
   },
   {
    "duration": 8,
    "start_time": "2022-12-08T20:14:20.378Z"
   },
   {
    "duration": 14,
    "start_time": "2022-12-08T20:14:36.318Z"
   },
   {
    "duration": 11,
    "start_time": "2022-12-08T20:14:47.973Z"
   },
   {
    "duration": 1308,
    "start_time": "2022-12-08T20:15:41.578Z"
   },
   {
    "duration": 14,
    "start_time": "2022-12-08T20:15:53.630Z"
   },
   {
    "duration": 13,
    "start_time": "2022-12-08T20:38:35.335Z"
   },
   {
    "duration": 21,
    "start_time": "2022-12-08T20:38:39.822Z"
   },
   {
    "duration": 120,
    "start_time": "2022-12-08T20:40:06.346Z"
   },
   {
    "duration": 14,
    "start_time": "2022-12-08T20:40:20.255Z"
   },
   {
    "duration": 46,
    "start_time": "2022-12-08T20:40:29.894Z"
   },
   {
    "duration": 30,
    "start_time": "2022-12-08T20:40:56.800Z"
   },
   {
    "duration": 22,
    "start_time": "2022-12-08T20:41:01.200Z"
   },
   {
    "duration": 22,
    "start_time": "2022-12-08T20:41:58.810Z"
   },
   {
    "duration": 20,
    "start_time": "2022-12-08T20:42:25.792Z"
   },
   {
    "duration": 13,
    "start_time": "2022-12-08T20:42:41.531Z"
   },
   {
    "duration": 1115,
    "start_time": "2022-12-08T20:42:51.140Z"
   },
   {
    "duration": 105,
    "start_time": "2022-12-08T20:42:52.257Z"
   },
   {
    "duration": 3,
    "start_time": "2022-12-08T20:42:52.364Z"
   },
   {
    "duration": 32,
    "start_time": "2022-12-08T20:42:52.370Z"
   },
   {
    "duration": 59,
    "start_time": "2022-12-08T20:42:52.403Z"
   },
   {
    "duration": 80,
    "start_time": "2022-12-08T20:42:52.464Z"
   },
   {
    "duration": 22,
    "start_time": "2022-12-08T20:42:52.546Z"
   },
   {
    "duration": 9,
    "start_time": "2022-12-08T20:42:52.570Z"
   },
   {
    "duration": 53,
    "start_time": "2022-12-08T20:42:52.580Z"
   },
   {
    "duration": 38,
    "start_time": "2022-12-08T20:42:52.637Z"
   },
   {
    "duration": 348,
    "start_time": "2022-12-08T20:42:52.677Z"
   },
   {
    "duration": 305,
    "start_time": "2022-12-08T20:42:53.026Z"
   },
   {
    "duration": 209,
    "start_time": "2022-12-08T20:42:53.337Z"
   },
   {
    "duration": 289,
    "start_time": "2022-12-08T20:42:53.549Z"
   },
   {
    "duration": 325,
    "start_time": "2022-12-08T20:42:53.841Z"
   },
   {
    "duration": 324,
    "start_time": "2022-12-08T20:42:54.168Z"
   },
   {
    "duration": 160,
    "start_time": "2022-12-08T20:42:54.493Z"
   },
   {
    "duration": 4,
    "start_time": "2022-12-08T20:42:54.654Z"
   },
   {
    "duration": 183,
    "start_time": "2022-12-08T20:42:54.660Z"
   },
   {
    "duration": 4,
    "start_time": "2022-12-08T20:42:54.844Z"
   },
   {
    "duration": 759,
    "start_time": "2022-12-08T20:42:54.850Z"
   },
   {
    "duration": 16,
    "start_time": "2022-12-08T20:42:55.611Z"
   },
   {
    "duration": 81,
    "start_time": "2022-12-08T20:42:55.629Z"
   },
   {
    "duration": 233,
    "start_time": "2022-12-08T20:42:55.712Z"
   },
   {
    "duration": 0,
    "start_time": "2022-12-08T20:42:55.947Z"
   },
   {
    "duration": 39,
    "start_time": "2022-12-08T20:44:19.296Z"
   },
   {
    "duration": 24,
    "start_time": "2022-12-08T20:44:24.096Z"
   },
   {
    "duration": 84,
    "start_time": "2022-12-08T20:44:45.092Z"
   },
   {
    "duration": 151,
    "start_time": "2022-12-08T20:44:52.016Z"
   },
   {
    "duration": 110,
    "start_time": "2022-12-08T20:45:14.596Z"
   },
   {
    "duration": 77,
    "start_time": "2022-12-08T20:45:25.121Z"
   },
   {
    "duration": 90,
    "start_time": "2022-12-08T20:45:33.948Z"
   },
   {
    "duration": 67,
    "start_time": "2022-12-08T20:45:43.434Z"
   },
   {
    "duration": 15,
    "start_time": "2022-12-08T20:48:13.852Z"
   },
   {
    "duration": 89,
    "start_time": "2022-12-08T20:52:17.099Z"
   },
   {
    "duration": 306,
    "start_time": "2022-12-08T20:56:04.549Z"
   },
   {
    "duration": 271,
    "start_time": "2022-12-08T20:56:26.572Z"
   },
   {
    "duration": 280,
    "start_time": "2022-12-08T20:56:42.742Z"
   },
   {
    "duration": 263,
    "start_time": "2022-12-08T20:56:50.528Z"
   },
   {
    "duration": 94,
    "start_time": "2022-12-08T20:57:53.097Z"
   },
   {
    "duration": 263,
    "start_time": "2022-12-08T22:08:19.799Z"
   },
   {
    "duration": 193,
    "start_time": "2022-12-08T22:09:05.585Z"
   },
   {
    "duration": 195,
    "start_time": "2022-12-08T22:09:24.853Z"
   },
   {
    "duration": 206,
    "start_time": "2022-12-08T22:09:44.306Z"
   },
   {
    "duration": 206,
    "start_time": "2022-12-08T22:10:12.796Z"
   },
   {
    "duration": 200,
    "start_time": "2022-12-08T22:10:17.689Z"
   },
   {
    "duration": 191,
    "start_time": "2022-12-08T22:10:23.877Z"
   },
   {
    "duration": 184,
    "start_time": "2022-12-08T22:10:29.115Z"
   },
   {
    "duration": 207,
    "start_time": "2022-12-08T22:10:35.821Z"
   },
   {
    "duration": 194,
    "start_time": "2022-12-08T22:14:11.881Z"
   },
   {
    "duration": 200,
    "start_time": "2022-12-08T22:14:22.030Z"
   },
   {
    "duration": 219,
    "start_time": "2022-12-08T22:17:28.878Z"
   },
   {
    "duration": 334,
    "start_time": "2022-12-08T22:18:48.187Z"
   },
   {
    "duration": 288,
    "start_time": "2022-12-08T22:19:26.840Z"
   },
   {
    "duration": 321,
    "start_time": "2022-12-08T22:19:59.902Z"
   },
   {
    "duration": 314,
    "start_time": "2022-12-08T22:20:08.114Z"
   },
   {
    "duration": 368,
    "start_time": "2022-12-08T22:23:09.210Z"
   },
   {
    "duration": 394,
    "start_time": "2022-12-08T22:24:04.670Z"
   },
   {
    "duration": 385,
    "start_time": "2022-12-08T22:24:26.075Z"
   },
   {
    "duration": 342,
    "start_time": "2022-12-08T22:25:16.010Z"
   },
   {
    "duration": 261,
    "start_time": "2022-12-08T22:26:22.063Z"
   },
   {
    "duration": 188,
    "start_time": "2022-12-08T22:26:28.831Z"
   },
   {
    "duration": 353,
    "start_time": "2022-12-08T22:26:33.295Z"
   },
   {
    "duration": 387,
    "start_time": "2022-12-08T22:27:22.227Z"
   },
   {
    "duration": 180,
    "start_time": "2022-12-08T22:27:59.922Z"
   },
   {
    "duration": 140,
    "start_time": "2022-12-08T22:28:20.355Z"
   },
   {
    "duration": 175,
    "start_time": "2022-12-08T22:28:26.476Z"
   },
   {
    "duration": 180,
    "start_time": "2022-12-08T22:28:42.923Z"
   },
   {
    "duration": 166,
    "start_time": "2022-12-08T22:31:03.018Z"
   },
   {
    "duration": 186,
    "start_time": "2022-12-08T22:32:22.995Z"
   },
   {
    "duration": 175,
    "start_time": "2022-12-08T22:32:58.243Z"
   },
   {
    "duration": 151,
    "start_time": "2022-12-08T22:34:26.491Z"
   },
   {
    "duration": 80,
    "start_time": "2022-12-08T22:37:36.404Z"
   },
   {
    "duration": 16,
    "start_time": "2022-12-08T22:47:24.005Z"
   },
   {
    "duration": 12,
    "start_time": "2022-12-08T22:47:36.516Z"
   },
   {
    "duration": 30,
    "start_time": "2022-12-08T22:47:44.425Z"
   },
   {
    "duration": 153,
    "start_time": "2022-12-08T22:48:01.032Z"
   },
   {
    "duration": 160,
    "start_time": "2022-12-08T22:48:49.196Z"
   },
   {
    "duration": 264,
    "start_time": "2022-12-08T22:49:07.398Z"
   },
   {
    "duration": 154,
    "start_time": "2022-12-08T22:49:24.131Z"
   },
   {
    "duration": 185,
    "start_time": "2022-12-08T22:51:08.161Z"
   },
   {
    "duration": 166,
    "start_time": "2022-12-08T22:52:52.573Z"
   },
   {
    "duration": 4,
    "start_time": "2022-12-08T23:24:56.787Z"
   },
   {
    "duration": 4,
    "start_time": "2022-12-08T23:25:03.611Z"
   },
   {
    "duration": 8,
    "start_time": "2022-12-08T23:35:29.860Z"
   },
   {
    "duration": 67,
    "start_time": "2022-12-08T23:38:15.308Z"
   },
   {
    "duration": 8,
    "start_time": "2022-12-08T23:39:28.780Z"
   },
   {
    "duration": 14,
    "start_time": "2022-12-08T23:39:43.692Z"
   },
   {
    "duration": 13,
    "start_time": "2022-12-08T23:42:35.561Z"
   },
   {
    "duration": 26,
    "start_time": "2022-12-08T23:42:42.064Z"
   },
   {
    "duration": 16,
    "start_time": "2022-12-08T23:44:48.604Z"
   },
   {
    "duration": 15,
    "start_time": "2022-12-08T23:44:55.212Z"
   },
   {
    "duration": 16,
    "start_time": "2022-12-08T23:45:03.573Z"
   },
   {
    "duration": 65,
    "start_time": "2022-12-08T23:51:28.717Z"
   },
   {
    "duration": 989,
    "start_time": "2022-12-09T21:30:18.724Z"
   },
   {
    "duration": 89,
    "start_time": "2022-12-09T21:30:19.715Z"
   },
   {
    "duration": 3,
    "start_time": "2022-12-09T21:30:19.806Z"
   },
   {
    "duration": 13,
    "start_time": "2022-12-09T21:30:19.810Z"
   },
   {
    "duration": 8,
    "start_time": "2022-12-09T21:30:19.825Z"
   },
   {
    "duration": 52,
    "start_time": "2022-12-09T21:30:19.834Z"
   },
   {
    "duration": 23,
    "start_time": "2022-12-09T21:30:19.888Z"
   },
   {
    "duration": 8,
    "start_time": "2022-12-09T21:30:19.913Z"
   },
   {
    "duration": 6,
    "start_time": "2022-12-09T21:30:19.922Z"
   },
   {
    "duration": 16,
    "start_time": "2022-12-09T21:30:19.930Z"
   },
   {
    "duration": 290,
    "start_time": "2022-12-09T21:30:19.948Z"
   },
   {
    "duration": 287,
    "start_time": "2022-12-09T21:30:20.239Z"
   },
   {
    "duration": 217,
    "start_time": "2022-12-09T21:30:20.528Z"
   },
   {
    "duration": 347,
    "start_time": "2022-12-09T21:30:20.749Z"
   },
   {
    "duration": 345,
    "start_time": "2022-12-09T21:30:21.098Z"
   },
   {
    "duration": 343,
    "start_time": "2022-12-09T21:30:21.444Z"
   },
   {
    "duration": 187,
    "start_time": "2022-12-09T21:30:21.789Z"
   },
   {
    "duration": 5,
    "start_time": "2022-12-09T21:30:21.978Z"
   },
   {
    "duration": 161,
    "start_time": "2022-12-09T21:30:21.997Z"
   },
   {
    "duration": 178,
    "start_time": "2022-12-09T21:30:22.160Z"
   },
   {
    "duration": 4,
    "start_time": "2022-12-09T21:30:22.340Z"
   },
   {
    "duration": 474,
    "start_time": "2022-12-09T21:30:22.346Z"
   },
   {
    "duration": 10,
    "start_time": "2022-12-09T21:30:22.821Z"
   },
   {
    "duration": 8,
    "start_time": "2022-12-09T21:30:22.833Z"
   },
   {
    "duration": 28,
    "start_time": "2022-12-09T21:30:22.842Z"
   },
   {
    "duration": 37,
    "start_time": "2022-12-09T21:30:22.872Z"
   },
   {
    "duration": 51,
    "start_time": "2022-12-10T06:43:49.796Z"
   },
   {
    "duration": 1229,
    "start_time": "2022-12-10T06:43:56.201Z"
   },
   {
    "duration": 154,
    "start_time": "2022-12-10T06:43:57.432Z"
   },
   {
    "duration": 3,
    "start_time": "2022-12-10T06:43:57.588Z"
   },
   {
    "duration": 12,
    "start_time": "2022-12-10T06:43:57.594Z"
   },
   {
    "duration": 5,
    "start_time": "2022-12-10T06:43:57.608Z"
   },
   {
    "duration": 100,
    "start_time": "2022-12-10T06:43:57.614Z"
   },
   {
    "duration": 96,
    "start_time": "2022-12-10T06:43:57.716Z"
   },
   {
    "duration": 7,
    "start_time": "2022-12-10T06:43:57.814Z"
   },
   {
    "duration": 20,
    "start_time": "2022-12-10T06:43:57.823Z"
   },
   {
    "duration": 21,
    "start_time": "2022-12-10T06:43:57.846Z"
   },
   {
    "duration": 276,
    "start_time": "2022-12-10T06:43:57.869Z"
   },
   {
    "duration": 291,
    "start_time": "2022-12-10T06:43:58.146Z"
   },
   {
    "duration": 240,
    "start_time": "2022-12-10T06:43:58.439Z"
   },
   {
    "duration": 373,
    "start_time": "2022-12-10T06:43:58.681Z"
   },
   {
    "duration": 327,
    "start_time": "2022-12-10T06:43:59.056Z"
   },
   {
    "duration": 367,
    "start_time": "2022-12-10T06:43:59.385Z"
   },
   {
    "duration": 188,
    "start_time": "2022-12-10T06:43:59.753Z"
   },
   {
    "duration": 5,
    "start_time": "2022-12-10T06:43:59.943Z"
   },
   {
    "duration": 176,
    "start_time": "2022-12-10T06:43:59.949Z"
   },
   {
    "duration": 174,
    "start_time": "2022-12-10T06:44:00.127Z"
   },
   {
    "duration": 4,
    "start_time": "2022-12-10T06:44:00.303Z"
   },
   {
    "duration": 484,
    "start_time": "2022-12-10T06:44:00.309Z"
   },
   {
    "duration": 11,
    "start_time": "2022-12-10T06:44:00.795Z"
   },
   {
    "duration": 19,
    "start_time": "2022-12-10T06:44:00.823Z"
   },
   {
    "duration": 47,
    "start_time": "2022-12-10T06:44:00.844Z"
   },
   {
    "duration": 15,
    "start_time": "2022-12-10T06:44:00.893Z"
   },
   {
    "duration": 1207,
    "start_time": "2022-12-10T06:44:20.613Z"
   },
   {
    "duration": 1045,
    "start_time": "2022-12-10T06:44:38.696Z"
   },
   {
    "duration": 86,
    "start_time": "2022-12-10T06:44:39.742Z"
   },
   {
    "duration": 3,
    "start_time": "2022-12-10T06:44:39.829Z"
   },
   {
    "duration": 17,
    "start_time": "2022-12-10T06:44:39.834Z"
   },
   {
    "duration": 15,
    "start_time": "2022-12-10T06:44:39.853Z"
   },
   {
    "duration": 46,
    "start_time": "2022-12-10T06:44:39.869Z"
   },
   {
    "duration": 22,
    "start_time": "2022-12-10T06:44:39.917Z"
   },
   {
    "duration": 7,
    "start_time": "2022-12-10T06:44:39.940Z"
   },
   {
    "duration": 6,
    "start_time": "2022-12-10T06:44:39.949Z"
   },
   {
    "duration": 14,
    "start_time": "2022-12-10T06:44:39.958Z"
   },
   {
    "duration": 285,
    "start_time": "2022-12-10T06:44:39.974Z"
   },
   {
    "duration": 305,
    "start_time": "2022-12-10T06:44:40.261Z"
   },
   {
    "duration": 235,
    "start_time": "2022-12-10T06:44:40.568Z"
   },
   {
    "duration": 329,
    "start_time": "2022-12-10T06:44:40.804Z"
   },
   {
    "duration": 325,
    "start_time": "2022-12-10T06:44:41.135Z"
   },
   {
    "duration": 324,
    "start_time": "2022-12-10T06:44:41.462Z"
   },
   {
    "duration": 173,
    "start_time": "2022-12-10T06:44:41.788Z"
   },
   {
    "duration": 5,
    "start_time": "2022-12-10T06:44:41.963Z"
   },
   {
    "duration": 167,
    "start_time": "2022-12-10T06:44:41.969Z"
   },
   {
    "duration": 173,
    "start_time": "2022-12-10T06:44:42.138Z"
   },
   {
    "duration": 11,
    "start_time": "2022-12-10T06:44:42.312Z"
   },
   {
    "duration": 458,
    "start_time": "2022-12-10T06:44:42.325Z"
   },
   {
    "duration": 11,
    "start_time": "2022-12-10T06:44:42.785Z"
   },
   {
    "duration": 29,
    "start_time": "2022-12-10T06:44:42.797Z"
   },
   {
    "duration": 29,
    "start_time": "2022-12-10T06:44:42.828Z"
   },
   {
    "duration": 13,
    "start_time": "2022-12-10T06:44:42.859Z"
   },
   {
    "duration": 1229,
    "start_time": "2022-12-10T06:45:11.096Z"
   },
   {
    "duration": 1058,
    "start_time": "2022-12-10T06:45:19.141Z"
   },
   {
    "duration": 99,
    "start_time": "2022-12-10T06:45:20.202Z"
   },
   {
    "duration": 3,
    "start_time": "2022-12-10T06:45:20.303Z"
   },
   {
    "duration": 28,
    "start_time": "2022-12-10T06:45:20.309Z"
   },
   {
    "duration": 38,
    "start_time": "2022-12-10T06:45:20.339Z"
   },
   {
    "duration": 62,
    "start_time": "2022-12-10T06:45:20.378Z"
   },
   {
    "duration": 27,
    "start_time": "2022-12-10T06:45:20.442Z"
   },
   {
    "duration": 11,
    "start_time": "2022-12-10T06:45:20.471Z"
   },
   {
    "duration": 22,
    "start_time": "2022-12-10T06:45:20.484Z"
   },
   {
    "duration": 18,
    "start_time": "2022-12-10T06:45:20.509Z"
   },
   {
    "duration": 282,
    "start_time": "2022-12-10T06:45:20.529Z"
   },
   {
    "duration": 305,
    "start_time": "2022-12-10T06:45:20.813Z"
   },
   {
    "duration": 227,
    "start_time": "2022-12-10T06:45:21.121Z"
   },
   {
    "duration": 301,
    "start_time": "2022-12-10T06:45:21.350Z"
   },
   {
    "duration": 328,
    "start_time": "2022-12-10T06:45:21.653Z"
   },
   {
    "duration": 381,
    "start_time": "2022-12-10T06:45:21.983Z"
   },
   {
    "duration": 179,
    "start_time": "2022-12-10T06:45:22.365Z"
   },
   {
    "duration": 5,
    "start_time": "2022-12-10T06:45:22.545Z"
   },
   {
    "duration": 173,
    "start_time": "2022-12-10T06:45:22.551Z"
   },
   {
    "duration": 181,
    "start_time": "2022-12-10T06:45:22.726Z"
   },
   {
    "duration": 4,
    "start_time": "2022-12-10T06:45:22.908Z"
   },
   {
    "duration": 477,
    "start_time": "2022-12-10T06:45:22.922Z"
   },
   {
    "duration": 23,
    "start_time": "2022-12-10T06:45:23.401Z"
   },
   {
    "duration": 8,
    "start_time": "2022-12-10T06:45:23.426Z"
   },
   {
    "duration": 28,
    "start_time": "2022-12-10T06:45:23.436Z"
   },
   {
    "duration": 14,
    "start_time": "2022-12-10T06:45:23.466Z"
   },
   {
    "duration": 16,
    "start_time": "2022-12-10T06:49:11.145Z"
   },
   {
    "duration": 72,
    "start_time": "2022-12-10T06:50:04.785Z"
   },
   {
    "duration": 15,
    "start_time": "2022-12-10T06:50:15.269Z"
   },
   {
    "duration": 105,
    "start_time": "2022-12-10T06:50:24.693Z"
   },
   {
    "duration": 18,
    "start_time": "2022-12-10T06:50:46.445Z"
   },
   {
    "duration": 14,
    "start_time": "2022-12-10T06:50:56.869Z"
   },
   {
    "duration": 68,
    "start_time": "2022-12-10T07:27:12.724Z"
   },
   {
    "duration": 243,
    "start_time": "2022-12-10T07:28:01.992Z"
   },
   {
    "duration": 9,
    "start_time": "2022-12-10T07:58:18.783Z"
   },
   {
    "duration": 1082,
    "start_time": "2022-12-10T07:58:43.859Z"
   },
   {
    "duration": 93,
    "start_time": "2022-12-10T07:58:44.945Z"
   },
   {
    "duration": 3,
    "start_time": "2022-12-10T07:58:45.040Z"
   },
   {
    "duration": 24,
    "start_time": "2022-12-10T07:58:45.045Z"
   },
   {
    "duration": 13,
    "start_time": "2022-12-10T07:58:45.071Z"
   },
   {
    "duration": 53,
    "start_time": "2022-12-10T07:58:45.085Z"
   },
   {
    "duration": 22,
    "start_time": "2022-12-10T07:58:45.140Z"
   },
   {
    "duration": 6,
    "start_time": "2022-12-10T07:58:45.164Z"
   },
   {
    "duration": 6,
    "start_time": "2022-12-10T07:58:45.172Z"
   },
   {
    "duration": 17,
    "start_time": "2022-12-10T07:58:45.180Z"
   },
   {
    "duration": 280,
    "start_time": "2022-12-10T07:58:45.199Z"
   },
   {
    "duration": 308,
    "start_time": "2022-12-10T07:58:45.481Z"
   },
   {
    "duration": 244,
    "start_time": "2022-12-10T07:58:45.791Z"
   },
   {
    "duration": 316,
    "start_time": "2022-12-10T07:58:46.036Z"
   },
   {
    "duration": 324,
    "start_time": "2022-12-10T07:58:46.354Z"
   },
   {
    "duration": 369,
    "start_time": "2022-12-10T07:58:46.680Z"
   },
   {
    "duration": 170,
    "start_time": "2022-12-10T07:58:47.050Z"
   },
   {
    "duration": 4,
    "start_time": "2022-12-10T07:58:47.222Z"
   },
   {
    "duration": 176,
    "start_time": "2022-12-10T07:58:47.228Z"
   },
   {
    "duration": 174,
    "start_time": "2022-12-10T07:58:47.406Z"
   },
   {
    "duration": 4,
    "start_time": "2022-12-10T07:58:47.582Z"
   },
   {
    "duration": 473,
    "start_time": "2022-12-10T07:58:47.588Z"
   },
   {
    "duration": 10,
    "start_time": "2022-12-10T07:58:48.062Z"
   },
   {
    "duration": 9,
    "start_time": "2022-12-10T07:58:48.074Z"
   },
   {
    "duration": 51,
    "start_time": "2022-12-10T07:58:48.085Z"
   },
   {
    "duration": 17,
    "start_time": "2022-12-10T07:58:48.137Z"
   },
   {
    "duration": 17,
    "start_time": "2022-12-10T08:04:44.471Z"
   }
  ],
  "kernelspec": {
   "display_name": "Python 3 (ipykernel)",
   "language": "python",
   "name": "python3"
  },
  "language_info": {
   "codemirror_mode": {
    "name": "ipython",
    "version": 3
   },
   "file_extension": ".py",
   "mimetype": "text/x-python",
   "name": "python",
   "nbconvert_exporter": "python",
   "pygments_lexer": "ipython3",
   "version": "3.11.0"
  },
  "toc": {
   "base_numbering": 1,
   "nav_menu": {},
   "number_sections": false,
   "sideBar": true,
   "skip_h1_title": false,
   "title_cell": "Table of Contents",
   "title_sidebar": "Contents",
   "toc_cell": false,
   "toc_position": {
    "height": "calc(100% - 180px)",
    "left": "10px",
    "top": "150px",
    "width": "352.997px"
   },
   "toc_section_display": true,
   "toc_window_display": true
  }
 },
 "nbformat": 4,
 "nbformat_minor": 2
}
